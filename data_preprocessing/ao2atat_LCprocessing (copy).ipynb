{
 "cells": [
  {
   "cell_type": "code",
   "execution_count": 1,
   "metadata": {},
   "outputs": [],
   "source": [
    "import numpy as np"
   ]
  },
  {
   "cell_type": "code",
   "execution_count": 2,
   "metadata": {},
   "outputs": [],
   "source": [
    "import yaml\n",
    "\n",
    "\n",
    "with open('/home/magdalena/Desktop/magister/SSL_DATASET/ZTF_SSL_Dataset/pipeline/training/lc_classifier_ztf/ATAT_ALeRCE/src/data/dict_info.yaml', 'r') as stream:\n",
    "    config = yaml.safe_load(stream)"
   ]
  },
  {
   "cell_type": "code",
   "execution_count": 3,
   "metadata": {},
   "outputs": [],
   "source": [
    "from pipeline.lc_classifier.lc_classifier.features.preprocess.ztf  import (\n",
    "    ZTFLightcurvePreprocessor,\n",
    "    ShortenPreprocessor,\n",
    ")"
   ]
  },
  {
   "cell_type": "code",
   "execution_count": 6,
   "metadata": {},
   "outputs": [],
   "source": [
    " "
   ]
  },
  {
   "cell_type": "code",
   "execution_count": null,
   "metadata": {},
   "outputs": [],
   "source": [
    "import glob\n",
    "import pickle\n",
    "\n",
    "aos_paths = glob.glob('/home/magdalena/Desktop/magister/SSL_DATASET/ZTF_SSL_Dataset/aos/*')#[3:]\n",
    "with open(f'{aos_paths[0]}', 'rb') as f:\n",
    "    data = pickle.load(f)\n",
    "\n",
    "# Now, 'data' contains the loaded object\n",
    "data.detections\n",
    "#display(data.detections)"
   ]
  },
  {
   "cell_type": "code",
   "execution_count": 8,
   "metadata": {},
   "outputs": [],
   "source": [
    "lc_ex = ZTFLightcurvePreprocessor()\n",
    "lc_ex.preprocess_single_object(data)"
   ]
  },
  {
   "cell_type": "code",
   "execution_count": null,
   "metadata": {},
   "outputs": [],
   "source": [
    "data.detections"
   ]
  },
  {
   "cell_type": "code",
   "execution_count": null,
   "metadata": {},
   "outputs": [],
   "source": [
    "ra,dec = data.detections[[\"ra\", \"dec\"]].mean().values\n",
    "print(ra,dec)"
   ]
  },
  {
   "cell_type": "code",
   "execution_count": 11,
   "metadata": {},
   "outputs": [],
   "source": [
    "dict_cols = {\n",
    "    \"oid\": \"oid\",\n",
    "    \"time\": \"mjd\",\n",
    "    \"flux\": \"flux_diff_ujy\",\n",
    "    \"flux_err\": \"sigma_flux_diff_ujy\",\n",
    "    \"detected\": \"detected\",\n",
    "    \"band\": \"fid\",\n",
    "    \"class\": \"alerceclass\",\n",
    "}"
   ]
  },
  {
   "cell_type": "code",
   "execution_count": 13,
   "metadata": {},
   "outputs": [],
   "source": [
    "from pipeline.training.lc_classifier_ztf.ATAT_ALeRCE.data.src.processing import pad_list\n",
    "from pipeline.training.lc_classifier_ztf.ATAT_ALeRCE.data.src.processing import find_nearest_unique_times\n"
   ]
  },
  {
   "cell_type": "code",
   "execution_count": 14,
   "metadata": {},
   "outputs": [],
   "source": [
    "dict_info = {\n",
    "        \"type_windows\": \"windows\",  # ['windows', 'linspace_idx', 'logspace_idx', 'logspace_times', 'linspace_logspace_times']\n",
    "        \"max_obs\": 200,\n",
    "        \"list_time_to_eval\": [16, 32, 64, 128, 256, 512, 1024, 2048],\n",
    "        \"bands_to_use\": [1, 2],\n",
    "        \"classes_to_use\": [\n",
    "            \"CV/Nova\",\n",
    "            \"LPV\",\n",
    "            \"YSO\",\n",
    "            \"QSO\",\n",
    "            \"RSCVn\",\n",
    "            \"CEP\",\n",
    "            \"EA\",\n",
    "            \"RRLab\",\n",
    "            \"RRLc\",\n",
    "            \"SNIa\",\n",
    "            \"SNII\",\n",
    "            \"AGN\",\n",
    "            \"EB/EW\",\n",
    "            \"DSCT\",\n",
    "            \"Blazar\",\n",
    "            \"Microlensing\",\n",
    "            \"SNIIn\",\n",
    "            \"Periodic-Other\",\n",
    "            \"SNIbc\",\n",
    "            \"SLSN\",\n",
    "            \"TDE\",\n",
    "            \"SNIIb\",\n",
    "        ],\n",
    "        \n",
    "        \"undersampling_windows\": {  # Solo funciona con type_windows: windows\n",
    "            \"apply\": False,\n",
    "            \"same_windows_by_folds\": False,\n",
    "            \"keep_classes\": [\"SNIbc\", \"SNIIn\", \"SLSN\", \"TDE\", \"SNIIb\", \"Microlensing\",],\n",
    "        },\n",
    "    }"
   ]
  },
  {
   "cell_type": "code",
   "execution_count": 15,
   "metadata": {},
   "outputs": [],
   "source": [
    "dict_cols = {\n",
    "        \"oid\": \"oid\",\n",
    "        \"mjd\": \"time\",\n",
    "        \"brightness\": \"flux_diff_ujy\",\n",
    "        \"e_brightness\": \"sigma_flux_diff_ujy\",\n",
    "        #\"detected\": \"detected\",\n",
    "        #\"band\": \"fid\",\n",
    "        #\"class\": \"alerceclass\",\n",
    "    }"
   ]
  },
  {
   "cell_type": "code",
   "execution_count": 16,
   "metadata": {},
   "outputs": [],
   "source": [
    "data.detections = data.detections.rename(columns={\"oid\": \"oid\",\n",
    "        \"mjd\": \"time\",\n",
    "        \"brightness\": \"flux_diff_ujy\",\n",
    "        \"e_brightness\": \"sigma_flux_diff_ujy\",})"
   ]
  },
  {
   "cell_type": "code",
   "execution_count": null,
   "metadata": {},
   "outputs": [],
   "source": [
    "data"
   ]
  },
  {
   "cell_type": "code",
   "execution_count": null,
   "metadata": {},
   "outputs": [],
   "source": [
    "\n",
    " \n",
    "from pipeline.training.lc_classifier_ztf.ATAT_ALeRCE.data.src.processing import *\n",
    "\n",
    "\n",
    "df_chunk = data.detections\n",
    "\n",
    "\n",
    "df_chunk = df_chunk[df_chunk['unit'] == 'diff_flux']\n"
   ]
  },
  {
   "cell_type": "code",
   "execution_count": null,
   "metadata": {},
   "outputs": [],
   "source": [
    "separate_by_filter(detections=df_chunk)"
   ]
  },
  {
   "cell_type": "code",
   "execution_count": 21,
   "metadata": {},
   "outputs": [],
   "source": [
    "df = df_chunk.sort_values(by = 'time')"
   ]
  },
  {
   "cell_type": "code",
   "execution_count": null,
   "metadata": {},
   "outputs": [],
   "source": [
    "\n",
    "#la normalizacion de tiempo debe ocurrir por banda o todo el tiempo? \n"
   ]
  },
  {
   "cell_type": "code",
   "execution_count": null,
   "metadata": {},
   "outputs": [],
   "source": [
    "\n",
    "create_mask(df_chunk[\"flux_diff_ujy\"])\n",
    " "
   ]
  }
 ],
 "metadata": {
  "kernelspec": {
   "display_name": "dataset",
   "language": "python",
   "name": "python3"
  },
  "language_info": {
   "codemirror_mode": {
    "name": "ipython",
    "version": 3
   },
   "file_extension": ".py",
   "mimetype": "text/x-python",
   "name": "python",
   "nbconvert_exporter": "python",
   "pygments_lexer": "ipython3",
   "version": "3.11.10"
  }
 },
 "nbformat": 4,
 "nbformat_minor": 2
}
