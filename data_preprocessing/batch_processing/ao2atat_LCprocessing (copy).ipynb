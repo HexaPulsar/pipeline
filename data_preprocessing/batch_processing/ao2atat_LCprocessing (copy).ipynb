{
 "cells": [
  {
   "cell_type": "code",
   "execution_count": 1,
   "metadata": {},
   "outputs": [],
   "source": [
    "import numpy as np"
   ]
  },
  {
   "cell_type": "code",
   "execution_count": 2,
   "metadata": {},
   "outputs": [],
   "source": [
    "import yaml\n",
    "\n",
    "\n",
    "with open('/home/magdalena/Desktop/magister/SSL_DATASET/ZTF_SSL_Dataset/pipeline/training/lc_classifier_ztf/ATAT_ALeRCE/src/data/dict_info.yaml', 'r') as stream:\n",
    "    config = yaml.safe_load(stream)"
   ]
  },
  {
   "cell_type": "code",
   "execution_count": 3,
   "metadata": {},
   "outputs": [],
   "source": [
    "from pipeline.lc_classifier.lc_classifier.features.preprocess.ztf  import (\n",
    "    ZTFLightcurvePreprocessor,\n",
    "    ShortenPreprocessor,\n",
    ")"
   ]
  },
  {
   "cell_type": "code",
   "execution_count": 3,
   "metadata": {},
   "outputs": [
    {
     "data": {
      "text/html": [
       "<div>\n",
       "<style scoped>\n",
       "    .dataframe tbody tr th:only-of-type {\n",
       "        vertical-align: middle;\n",
       "    }\n",
       "\n",
       "    .dataframe tbody tr th {\n",
       "        vertical-align: top;\n",
       "    }\n",
       "\n",
       "    .dataframe thead th {\n",
       "        text-align: right;\n",
       "    }\n",
       "</style>\n",
       "<table border=\"1\" class=\"dataframe\">\n",
       "  <thead>\n",
       "    <tr style=\"text-align: right;\">\n",
       "      <th></th>\n",
       "      <th>ndet</th>\n",
       "    </tr>\n",
       "    <tr>\n",
       "      <th>oid</th>\n",
       "      <th></th>\n",
       "    </tr>\n",
       "  </thead>\n",
       "  <tbody>\n",
       "    <tr>\n",
       "      <th>ZTF19abieeap</th>\n",
       "      <td>6</td>\n",
       "    </tr>\n",
       "    <tr>\n",
       "      <th>ZTF19abovixc</th>\n",
       "      <td>6</td>\n",
       "    </tr>\n",
       "    <tr>\n",
       "      <th>ZTF19accjfdp</th>\n",
       "      <td>6</td>\n",
       "    </tr>\n",
       "    <tr>\n",
       "      <th>ZTF19aabwnan</th>\n",
       "      <td>6</td>\n",
       "    </tr>\n",
       "    <tr>\n",
       "      <th>ZTF19aazezjy</th>\n",
       "      <td>6</td>\n",
       "    </tr>\n",
       "    <tr>\n",
       "      <th>...</th>\n",
       "      <td>...</td>\n",
       "    </tr>\n",
       "    <tr>\n",
       "      <th>ZTF19abeyyro</th>\n",
       "      <td>1712</td>\n",
       "    </tr>\n",
       "    <tr>\n",
       "      <th>ZTF19aaruyay</th>\n",
       "      <td>1732</td>\n",
       "    </tr>\n",
       "    <tr>\n",
       "      <th>ZTF19aamqwzk</th>\n",
       "      <td>1743</td>\n",
       "    </tr>\n",
       "    <tr>\n",
       "      <th>ZTF19aagzefv</th>\n",
       "      <td>1862</td>\n",
       "    </tr>\n",
       "    <tr>\n",
       "      <th>ZTF19aalexbk</th>\n",
       "      <td>2076</td>\n",
       "    </tr>\n",
       "  </tbody>\n",
       "</table>\n",
       "<p>1208364 rows × 1 columns</p>\n",
       "</div>"
      ],
      "text/plain": [
       "              ndet\n",
       "oid               \n",
       "ZTF19abieeap     6\n",
       "ZTF19abovixc     6\n",
       "ZTF19accjfdp     6\n",
       "ZTF19aabwnan     6\n",
       "ZTF19aazezjy     6\n",
       "...            ...\n",
       "ZTF19abeyyro  1712\n",
       "ZTF19aaruyay  1732\n",
       "ZTF19aamqwzk  1743\n",
       "ZTF19aagzefv  1862\n",
       "ZTF19aalexbk  2076\n",
       "\n",
       "[1208364 rows x 1 columns]"
      ]
     },
     "metadata": {},
     "output_type": "display_data"
    }
   ],
   "source": [
    "import pandas as pd\n",
    "\n",
    "filename = '/home/magdalena/Desktop/magister/SSL_DATASET/ZTF_SSL_Dataset/2019_plussixdet_oids_.parquet'\n",
    "df = pd.read_parquet(filename)\n",
    "#df[df['ndet'] <= 6]\n",
    "df.sort_values('ndet', inplace = True)\n",
    "display(df)\n",
    "df.to_parquet(filename)"
   ]
  },
  {
   "cell_type": "code",
   "execution_count": null,
   "metadata": {},
   "outputs": [],
   "source": [
    "import glob\n",
    "import pickle\n",
    "\n",
    "aos_paths = glob.glob('/home/magdalena/Desktop/magister/SSL_DATASET/ZTF_SSL_Dataset/aos/*')#[3:]\n",
    "with open(f'{aos_paths[0]}', 'rb') as f:\n",
    "    data = pickle.load(f)\n",
    "\n",
    "# Now, 'data' contains the loaded object\n",
    "data.detections\n",
    "#display(data.detections)"
   ]
  },
  {
   "cell_type": "code",
   "execution_count": 8,
   "metadata": {},
   "outputs": [],
   "source": [
    "lc_ex = ZTFLightcurvePreprocessor()\n",
    "lc_ex.preprocess_single_object(data)"
   ]
  },
  {
   "cell_type": "code",
   "execution_count": null,
   "metadata": {},
   "outputs": [],
   "source": [
    "data.detections"
   ]
  },
  {
   "cell_type": "code",
   "execution_count": null,
   "metadata": {},
   "outputs": [],
   "source": [
    "ra,dec = data.detections[[\"ra\", \"dec\"]].mean().values\n",
    "print(ra,dec)"
   ]
  },
  {
   "cell_type": "code",
   "execution_count": 11,
   "metadata": {},
   "outputs": [],
   "source": [
    "dict_cols = {\n",
    "    \"oid\": \"oid\",\n",
    "    \"time\": \"mjd\",\n",
    "    \"flux\": \"flux_diff_ujy\",\n",
    "    \"flux_err\": \"sigma_flux_diff_ujy\",\n",
    "    \"detected\": \"detected\",\n",
    "    \"band\": \"fid\",\n",
    "    \"class\": \"alerceclass\",\n",
    "}"
   ]
  },
  {
   "cell_type": "code",
   "execution_count": 13,
   "metadata": {},
   "outputs": [],
   "source": [
    "from pipeline.training.lc_classifier_ztf.ATAT_ALeRCE.data.src.processing import pad_list\n",
    "from pipeline.training.lc_classifier_ztf.ATAT_ALeRCE.data.src.processing import find_nearest_unique_times\n"
   ]
  },
  {
   "cell_type": "code",
   "execution_count": 14,
   "metadata": {},
   "outputs": [],
   "source": [
    "dict_info = {\n",
    "        \"type_windows\": \"windows\",  # ['windows', 'linspace_idx', 'logspace_idx', 'logspace_times', 'linspace_logspace_times']\n",
    "        \"max_obs\": 200,\n",
    "        \"list_time_to_eval\": [16, 32, 64, 128, 256, 512, 1024, 2048],\n",
    "        \"bands_to_use\": [1, 2],\n",
    "        \"classes_to_use\": [\n",
    "            \"CV/Nova\",\n",
    "            \"LPV\",\n",
    "            \"YSO\",\n",
    "            \"QSO\",\n",
    "            \"RSCVn\",\n",
    "            \"CEP\",\n",
    "            \"EA\",\n",
    "            \"RRLab\",\n",
    "            \"RRLc\",\n",
    "            \"SNIa\",\n",
    "            \"SNII\",\n",
    "            \"AGN\",\n",
    "            \"EB/EW\",\n",
    "            \"DSCT\",\n",
    "            \"Blazar\",\n",
    "            \"Microlensing\",\n",
    "            \"SNIIn\",\n",
    "            \"Periodic-Other\",\n",
    "            \"SNIbc\",\n",
    "            \"SLSN\",\n",
    "            \"TDE\",\n",
    "            \"SNIIb\",\n",
    "        ],\n",
    "        \n",
    "        \"undersampling_windows\": {  # Solo funciona con type_windows: windows\n",
    "            \"apply\": False,\n",
    "            \"same_windows_by_folds\": False,\n",
    "            \"keep_classes\": [\"SNIbc\", \"SNIIn\", \"SLSN\", \"TDE\", \"SNIIb\", \"Microlensing\",],\n",
    "        },\n",
    "    }"
   ]
  },
  {
   "cell_type": "code",
   "execution_count": 15,
   "metadata": {},
   "outputs": [],
   "source": [
    "dict_cols = {\n",
    "        \"oid\": \"oid\",\n",
    "        \"mjd\": \"time\",\n",
    "        \"brightness\": \"flux_diff_ujy\",\n",
    "        \"e_brightness\": \"sigma_flux_diff_ujy\",\n",
    "        #\"detected\": \"detected\",\n",
    "        #\"band\": \"fid\",\n",
    "        #\"class\": \"alerceclass\",\n",
    "    }"
   ]
  },
  {
   "cell_type": "code",
   "execution_count": 16,
   "metadata": {},
   "outputs": [],
   "source": [
    "data.detections = data.detections.rename(columns={\"oid\": \"oid\",\n",
    "        \"mjd\": \"time\",\n",
    "        \"brightness\": \"flux_diff_ujy\",\n",
    "        \"e_brightness\": \"sigma_flux_diff_ujy\",})"
   ]
  },
  {
   "cell_type": "code",
   "execution_count": null,
   "metadata": {},
   "outputs": [],
   "source": [
    "data"
   ]
  },
  {
   "cell_type": "code",
   "execution_count": null,
   "metadata": {},
   "outputs": [],
   "source": [
    "\n",
    " \n",
    "from pipeline.training.lc_classifier_ztf.ATAT_ALeRCE.data.src.processing import *\n",
    "\n",
    "\n",
    "df_chunk = data.detections\n",
    "\n",
    "\n",
    "df_chunk = df_chunk[df_chunk['unit'] == 'diff_flux']\n"
   ]
  },
  {
   "cell_type": "code",
   "execution_count": null,
   "metadata": {},
   "outputs": [],
   "source": [
    "separate_by_filter(detections=df_chunk)"
   ]
  },
  {
   "cell_type": "code",
   "execution_count": 21,
   "metadata": {},
   "outputs": [],
   "source": [
    "df = df_chunk.sort_values(by = 'time')"
   ]
  },
  {
   "cell_type": "code",
   "execution_count": null,
   "metadata": {},
   "outputs": [],
   "source": [
    "\n",
    "#la normalizacion de tiempo debe ocurrir por banda o todo el tiempo? \n"
   ]
  },
  {
   "cell_type": "code",
   "execution_count": null,
   "metadata": {},
   "outputs": [],
   "source": [
    "\n",
    "create_mask(df_chunk[\"flux_diff_ujy\"])\n",
    " "
   ]
  }
 ],
 "metadata": {
  "kernelspec": {
   "display_name": "dataset",
   "language": "python",
   "name": "python3"
  },
  "language_info": {
   "codemirror_mode": {
    "name": "ipython",
    "version": 3
   },
   "file_extension": ".py",
   "mimetype": "text/x-python",
   "name": "python",
   "nbconvert_exporter": "python",
   "pygments_lexer": "ipython3",
   "version": "3.11.10"
  }
 },
 "nbformat": 4,
 "nbformat_minor": 2
}
