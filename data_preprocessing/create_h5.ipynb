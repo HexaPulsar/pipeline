{
 "cells": [
  {
   "cell_type": "markdown",
   "metadata": {},
   "source": [
    "#P4J library must be compiled and installed\n",
    "#mexican hatt too\n",
    "\n",
    "-march=x86-64\n",
    "python setup.py build_ext --inplace\n",
    "pip install ."
   ]
  },
  {
   "cell_type": "code",
   "execution_count": 1,
   "metadata": {},
   "outputs": [],
   "source": [
    "import glob\n",
    "dirs = glob.glob('/home/magdalena/Desktop/magister/SSL_DATASET/ZTF_SSL_Dataset/out_directory/*')"
   ]
  },
  {
   "cell_type": "code",
   "execution_count": null,
   "metadata": {},
   "outputs": [],
   "source": [
    "import pickle"
   ]
  },
  {
   "cell_type": "code",
   "execution_count": 7,
   "metadata": {},
   "outputs": [
    {
     "name": "stderr",
     "output_type": "stream",
     "text": [
      "100%|██████████| 163430/163430 [01:08<00:00, 2380.70it/s]\n"
     ]
    }
   ],
   "source": [
    "import pandas as pd\n",
    "grab_oids = []\n",
    "for dir in tqdm(dirs, total = len(dirs)):\n",
    "    with (open(dir, \"rb\")) as openfile:\n",
    "        load = pickle.load(openfile)\n",
    "        grab_oids.append(load['oid'])\n",
    "        "
   ]
  },
  {
   "cell_type": "code",
   "execution_count": 8,
   "metadata": {},
   "outputs": [
    {
     "data": {
      "text/plain": [
       "pandas.core.frame.DataFrame"
      ]
     },
     "execution_count": 8,
     "metadata": {},
     "output_type": "execute_result"
    }
   ],
   "source": [
    "oids_df = pd.DataFrame({'oids':grab_oids}) \n",
    "type(oids_df)"
   ]
  },
  {
   "cell_type": "code",
   "execution_count": 9,
   "metadata": {},
   "outputs": [],
   "source": [
    "def create_single_train_val_split(df_oids: pd.DataFrame,split_frac:float):\n",
    "    \"\"\"Will create a train/validation split by splitting a pd dataframe of oids (single column dataframe where index is range of N and column contains the oids)\n",
    "\n",
    "    Args:\n",
    "        df_oids (pd.DataFrame): _description_\n",
    "    \"\"\"\n",
    "    assert split_frac < 1\n",
    "    assert df_oids.empty == False\n",
    "    assert split_frac > 0\n",
    "    validation = df_oids.sample(frac=0.2, random_state=42)  # for reproducibility\n",
    "    #print(validation)\n",
    "    train = df_oids.loc[~df_oids.index.isin(validation.index)]\n",
    "    #train = train.values.flatten().tolist()\n",
    "    #validation = validation.values.flatten().tolist()\n",
    "\n",
    "    return train,validation"
   ]
  },
  {
   "cell_type": "code",
   "execution_count": 10,
   "metadata": {},
   "outputs": [],
   "source": [
    "train,test = create_single_train_val_split(oids_df,0.2)"
   ]
  },
  {
   "cell_type": "code",
   "execution_count": 11,
   "metadata": {},
   "outputs": [],
   "source": [
    "import h5py\n",
    "import os\n",
    "def create_h5_file(filename, data_dict):\n",
    "    \"\"\"\n",
    "    Create an HDF5 file and save data from a dictionary.\n",
    "    \n",
    "    Parameters:\n",
    "    filename (str): Name or path of the HDF5 file to create\n",
    "    data_dict (dict): Dictionary containing the data to save\n",
    "    \"\"\"\n",
    "    # Create directories if they don't exist\n",
    "    directory = os.path.dirname(filename)\n",
    "    if directory:\n",
    "        os.makedirs(directory, exist_ok=True)\n",
    "    \n",
    "    with h5py.File(filename, 'w') as f:\n",
    "        for key, value in data_dict.items():\n",
    "            if not isinstance(value, np.ndarray):\n",
    "                value = np.array(value)\n",
    "            f.create_dataset(key, data=value)\n",
    "    \n",
    "    # Return the absolute path of the created file\n",
    "    return os.path.abspath(filename)"
   ]
  },
  {
   "cell_type": "code",
   "execution_count": 27,
   "metadata": {},
   "outputs": [],
   "source": [
    "trainvalkeys = {}\n",
    "for i in range(5):\n",
    "    train,val = create_single_train_val_split(oids_df,0.2)\n",
    "    train = train.index.tolist()\n",
    "    train.sort()\n",
    "    val = val.index.tolist()\n",
    "    val.sort()\n",
    "   # print(train)\n",
    "    #assert not np.any(np.in1d(train.values.flatten(), val.values.flatten()))\n",
    "    trainvalkeys.update({f'train_{i}':train})\n",
    "    trainvalkeys.update({f'validation_{i}':val})\n"
   ]
  },
  {
   "cell_type": "code",
   "execution_count": 29,
   "metadata": {},
   "outputs": [],
   "source": [
    "from dataclasses import dataclass\n",
    "class atat2h5:\n",
    "    def __init__(self,out_path,input_dir):\n",
    "        self.out = out_path\n",
    "        self.input = input_dir\n",
    "        pass \n",
    "    def get_oids():\n",
    "        pass\n",
    "    def establish_splits():\n",
    "        pass\n",
    "    def get_flux():\n",
    "        pass \n",
    "    def get_mask():\n",
    "        pass\n",
    "    def get_time(): \n",
    "        pass\n",
    "    def get_ft():\n",
    "        pass\n",
    "    def get_mask():\n",
    "        pass\n",
    "    def get_window_feats():\n",
    "        pass\n",
    "        "
   ]
  },
  {
   "cell_type": "code",
   "execution_count": 30,
   "metadata": {},
   "outputs": [],
   "source": [
    "file_path = create_h5_file('/home/magdalena/Desktop/magister/SSL_DATASET/ZTF_SSL_Dataset/h5file/test.h5', trainvalkeys)"
   ]
  },
  {
   "cell_type": "code",
   "execution_count": 31,
   "metadata": {},
   "outputs": [
    {
     "name": "stdout",
     "output_type": "stream",
     "text": [
      "HDF5 root level keys: ['train_0', 'train_1', 'train_2', 'train_3', 'train_4', 'validation_0', 'validation_1', 'validation_2', 'validation_3', 'validation_4']\n",
      "None\n"
     ]
    }
   ],
   "source": [
    "import h5py\n",
    "with h5py.File('/home/magdalena/Desktop/magister/SSL_DATASET/ZTF_SSL_Dataset/h5file/test.h5', 'r') as f:\n",
    "    # Print original dictionary keys\n",
    "    \n",
    "    # Print HDF5 root level keys\n",
    "    print(\"HDF5 root level keys:\", list(f.keys()))\n",
    "    these_idx = f.get('train_0')[:100]\n",
    "    print(f.get('ft_cols'))\n",
    "    "
   ]
  },
  {
   "cell_type": "code",
   "execution_count": null,
   "metadata": {},
   "outputs": [
    {
     "name": "stderr",
     "output_type": "stream",
     "text": [
      "100%|██████████| 163430/163430 [00:44<00:00, 3689.51it/s]\n"
     ]
    },
    {
     "name": "stdout",
     "output_type": "stream",
     "text": [
      "HDF5 root level keys: ['flux', 'train_0', 'train_1', 'train_2', 'train_3', 'train_4', 'validation_0', 'validation_1', 'validation_2', 'validation_3', 'validation_4']\n"
     ]
    }
   ],
   "source": [
    "import pandas as pd\n",
    "grab_flux = [] \n",
    "for dir in tqdm(dirs, total = len(dirs)):\n",
    "    with (open(dir, \"rb\")) as openfile:\n",
    "        load = pickle.load(openfile) \n",
    "        grab_flux.append(load['flux'])\n",
    "with h5py.File('/home/magdalena/Desktop/magister/SSL_DATASET/ZTF_SSL_Dataset/h5file/test.h5', 'r+') as f:\n",
    "    # Print original dictionary keys\n",
    "    f.create_dataset('flux',data =np.array(grab_flux).astype(float) )\n",
    "    # Print HDF5 root level keys\n",
    "    print(\"HDF5 root level keys:\", list(f.keys()))\n",
    "del grab_flux \n"
   ]
  },
  {
   "cell_type": "code",
   "execution_count": 33,
   "metadata": {},
   "outputs": [
    {
     "name": "stderr",
     "output_type": "stream",
     "text": [
      "100%|██████████| 163430/163430 [01:02<00:00, 2605.70it/s]\n"
     ]
    },
    {
     "name": "stdout",
     "output_type": "stream",
     "text": [
      "HDF5 root level keys: ['flux', 'time', 'train_0', 'train_1', 'train_2', 'train_3', 'train_4', 'validation_0', 'validation_1', 'validation_2', 'validation_3', 'validation_4']\n"
     ]
    }
   ],
   "source": [
    "grab_time = [] \n",
    "for dir in tqdm(dirs, total = len(dirs)):\n",
    "    with (open(dir, \"rb\")) as openfile:\n",
    "        load = pickle.load(openfile) \n",
    "        grab_time.append(load['time'])\n",
    "with h5py.File('/home/magdalena/Desktop/magister/SSL_DATASET/ZTF_SSL_Dataset/h5file/test.h5', 'r+') as f:\n",
    "    # Print original dictionary keys\n",
    "    f.create_dataset('time',data =np.array(grab_time).astype(float) )\n",
    "    # Print HDF5 root level keys\n",
    "    print(\"HDF5 root level keys:\", list(f.keys()))\n",
    "del grab_time"
   ]
  },
  {
   "cell_type": "code",
   "execution_count": 34,
   "metadata": {},
   "outputs": [
    {
     "name": "stderr",
     "output_type": "stream",
     "text": [
      "100%|██████████| 163430/163430 [00:42<00:00, 3803.84it/s]\n"
     ]
    },
    {
     "name": "stdout",
     "output_type": "stream",
     "text": [
      "HDF5 root level keys: ['flux', 'mask', 'time', 'train_0', 'train_1', 'train_2', 'train_3', 'train_4', 'validation_0', 'validation_1', 'validation_2', 'validation_3', 'validation_4']\n"
     ]
    }
   ],
   "source": [
    "grab_mask = [] \n",
    "for dir in tqdm(dirs, total = len(dirs)):\n",
    "    with (open(dir, \"rb\")) as openfile:\n",
    "        load = pickle.load(openfile) \n",
    "        grab_mask.append(load['mask'])\n",
    "with h5py.File('/home/magdalena/Desktop/magister/SSL_DATASET/ZTF_SSL_Dataset/h5file/test.h5', 'r+') as f:\n",
    "    # Print original dictionary keys\n",
    "    f.create_dataset('mask',data =np.array(grab_mask).astype(float) )\n",
    "    # Print HDF5 root level keys\n",
    "    print(\"HDF5 root level keys:\", list(f.keys()))\n",
    "del grab_mask\n"
   ]
  },
  {
   "cell_type": "code",
   "execution_count": 35,
   "metadata": {},
   "outputs": [
    {
     "data": {
      "text/plain": [
       "array([0.610287285714282, 0.9089990000000014, 0.7605844880952333,\n",
       "       0.7840539999999994, '2.7609129166666655', '2.0003284285714322',\n",
       "       '2.7399129166666647', '1.9793284285714314', '4.638912916666666',\n",
       "       '3.8783284285714323', '7.607912916666665', '6.847328428571432',\n",
       "       nan, nan, nan, nan, nan, nan, nan, nan, nan, nan,\n",
       "       38.43256683611642, 0.30334476550068185, 75.14446219379408, 1.0,\n",
       "       nan, nan, nan, nan, nan, nan, nan, nan, nan, nan, nan, nan, nan,\n",
       "       nan, nan, nan, nan, nan, nan, nan, nan, nan, nan, nan, nan, nan,\n",
       "       nan, nan, nan, nan, nan, nan, nan, nan, nan, nan, nan, nan, nan,\n",
       "       nan, nan, nan, nan, nan, nan, nan, 0.021811500000000095,\n",
       "       0.6310586481856593, 1.0, 0.3333333333333333, 0.0,\n",
       "       3.034004739052569, 0.014731999999995082, 0.005663084965104206,\n",
       "       16.745912916666665, 0.0007264894207213872, 0.007222000000000506,\n",
       "       0.3333333333333333, -0.03333333333333333, 0.0017424664193382217,\n",
       "       0.01125575000000012, 0.2553164894438217, 0.8603154947809696,\n",
       "       1.931443412556443, 0.012165728574279961, 0.7714182050089291,\n",
       "       0.8726403638042993, -2.369148628925015e-07, 0.0, 0.0,\n",
       "       4.5015332541829524e-05, -4.46956336137903e-06,\n",
       "       0.029877999999999183, 0.7964582299252052, 1.0, 0.14285714285714285,\n",
       "       0.0, 1.58554610913288, -0.023878000000003397,\n",
       "       0.0012691421481833029, 15.985328428571426, 0.0011267374680538871,\n",
       "       0.007174000000000902, 0.2857142857142857, -0.06666666666666667,\n",
       "       0.0026154816096310663, 0.014870500000002451, 0.34329869131411966,\n",
       "       -1.1189469932444664, 5.844778405749491, 0.01801126847961839,\n",
       "       0.7690411420052673, 0.9388035590354362, 7.181279512416378e-07,\n",
       "       0.008894018777067816, -0.5, 0.9998563968863037,\n",
       "       -1.976966185821662e-05, 0.2928033821118132, 1051.0120007201826,\n",
       "       6.9730646185222085, 0.0, 20.407848754390677, 173.50251499547915,\n",
       "       0.3581675023479898, 1036.544868012219, 1.6026551476260664,\n",
       "       0.1317933637348639, 18.836052895013527, 180.0,\n",
       "       8.733584847246797e-05, 0.00022904162535473198, 0.05192837211032897,\n",
       "       5.0714518921433855, 0.4286487725062429, 2.205958882254118, 0.6,\n",
       "       -0.0004520043157624898, 52.006232850364995, 0.6,\n",
       "       -0.0003751449611195932, 92.97273425385383, nan, 1.0, 0.0, nan, nan,\n",
       "       nan, nan, nan, 4.0, 52.78455522689627, 38.52318062354065, 1.0, 0.0,\n",
       "       nan, nan, nan, nan, nan, 8.0, 73.2235666122461, 66.44102534537853,\n",
       "       0.6, 20.0, 0.5, 48.52537466677067, 0.6, 20.0, 0.5,\n",
       "       1.054114908385135, 1443.0632833224954, 0.5555187147079519,\n",
       "       0.24208285979909505, 0.7954840329011745], dtype=object)"
      ]
     },
     "execution_count": 35,
     "metadata": {},
     "output_type": "execute_result"
    }
   ],
   "source": [
    "\n",
    "load['ft_cols'].value.values"
   ]
  },
  {
   "cell_type": "code",
   "execution_count": 36,
   "metadata": {},
   "outputs": [
    {
     "name": "stderr",
     "output_type": "stream",
     "text": [
      "100%|██████████| 163430/163430 [01:35<00:00, 1708.55it/s]\n"
     ]
    },
    {
     "name": "stdout",
     "output_type": "stream",
     "text": [
      "HDF5 root level keys: ['flux', 'ft_cols', 'mask', 'time', 'train_0', 'train_1', 'train_2', 'train_3', 'train_4', 'validation_0', 'validation_1', 'validation_2', 'validation_3', 'validation_4']\n"
     ]
    }
   ],
   "source": [
    "grab_ft = [] \n",
    "for dir in tqdm(dirs, total = len(dirs)):\n",
    "    with (open(dir, \"rb\")) as openfile:\n",
    "        load = pickle.load(openfile) \n",
    "\n",
    "\n",
    "        feats = pd.DataFrame(load['ft_cols'].value.values)\n",
    "        fill_value = -9999\n",
    "        for col in feats.columns:\n",
    "            feats[col] = feats[col].fillna(fill_value) \n",
    "        grab_ft.append(feats.values)\n",
    "\n",
    "\n",
    "\n",
    "\n",
    "with h5py.File('/home/magdalena/Desktop/magister/SSL_DATASET/ZTF_SSL_Dataset/h5file/test.h5', 'r+') as f:\n",
    "    # Print original dictionary keys\n",
    "    f.create_dataset('ft_cols',data =np.array(grab_ft).astype(float))\n",
    "    # Print HDF5 root level keys\n",
    "    print(\"HDF5 root level keys:\", list(f.keys()))\n",
    "#del grab_ft"
   ]
  },
  {
   "cell_type": "code",
   "execution_count": 37,
   "metadata": {},
   "outputs": [
    {
     "data": {
      "text/plain": [
       "0              0.610287\n",
       "1              0.908999\n",
       "2              0.760584\n",
       "3              0.784054\n",
       "3    2.7609129166666655\n",
       "            ...        \n",
       "7              1.054115\n",
       "0           1443.063283\n",
       "0              0.555519\n",
       "1              0.242083\n",
       "2              0.795484\n",
       "Name: value, Length: 181, dtype: object"
      ]
     },
     "execution_count": 37,
     "metadata": {},
     "output_type": "execute_result"
    }
   ],
   "source": [
    "load['ft_cols'].value"
   ]
  },
  {
   "cell_type": "code",
   "execution_count": 38,
   "metadata": {},
   "outputs": [
    {
     "name": "stderr",
     "output_type": "stream",
     "text": [
      "  0%|          | 0/163430 [00:00<?, ?it/s]"
     ]
    },
    {
     "name": "stderr",
     "output_type": "stream",
     "text": [
      "100%|██████████| 163430/163430 [01:15<00:00, 2154.18it/s]\n"
     ]
    },
    {
     "name": "stdout",
     "output_type": "stream",
     "text": [
      "HDF5 root level keys: ['flux', 'ft_cols', 'mask', 'md_cols', 'time', 'train_0', 'train_1', 'train_2', 'train_3', 'train_4', 'validation_0', 'validation_1', 'validation_2', 'validation_3', 'validation_4']\n"
     ]
    }
   ],
   "source": [
    "grab_md = [] \n",
    "for dir in tqdm(dirs, total = len(dirs)):\n",
    "    with (open(dir, \"rb\")) as openfile:\n",
    "        load = pickle.load(openfile) \n",
    "        feats = pd.DataFrame(load['md_cols'].value.values)\n",
    "        fill_value = -9999\n",
    "        for col in feats.columns:\n",
    "            feats[col] = feats[col].fillna(fill_value) \n",
    "        grab_md.append(feats.values)\n",
    "with h5py.File('/home/magdalena/Desktop/magister/SSL_DATASET/ZTF_SSL_Dataset/h5file/test.h5', 'r+') as f:\n",
    "    # Print original dictionary keys\n",
    "    f.create_dataset('md_cols',data =np.array(grab_md).astype(float) )\n",
    "    # Print HDF5 root level keys\n",
    "    print(\"HDF5 root level keys:\", list(f.keys()))\n",
    "del grab_md"
   ]
  },
  {
   "cell_type": "markdown",
   "metadata": {},
   "source": [
    "QT transform"
   ]
  },
  {
   "cell_type": "code",
   "execution_count": 4,
   "metadata": {},
   "outputs": [],
   "source": [
    "import numpy as np\n",
    "from sklearn.preprocessing import QuantileTransformer\n",
    "from tqdm import tqdm\n",
    "import joblib\n",
    "import h5py\n",
    "\n",
    "\n",
    "def create_ft_fold(out_dir, fold_name,seed):\n",
    "    qt = QuantileTransformer(\n",
    "    n_quantiles=1000, random_state=0, output_distribution=\"uniform\"\n",
    "    )   \n",
    "    collect_feats = []\n",
    "\n",
    "    with h5py.File('/home/magdalena/Desktop/magister/SSL_DATASET/ZTF_SSL_Dataset/h5file/test.h5', 'r') as f:\n",
    "        # Print original dictionary keys\n",
    "        \n",
    "        # Print HDF5 root level keys\n",
    "        print(\"HDF5 root level keys:\", list(f.keys()))\n",
    "        these_idx = f.get(f'train_{seed}')\n",
    "        print(these_idx)\n",
    "        feats = f.get('ft_cols')[these_idx]\n",
    "    \n",
    "    #feats = np.concatenate([feat for feat in collect_feats]) \n",
    "    #print(feats)\n",
    "    print()\n",
    "    qt.fit(feats.reshape(feats.shape[0],feats.shape[1]))\n",
    " \n",
    "    joblib.dump(qt, f'{out_dir}/{fold_name}_qt-fold-{seed}.joblib')"
   ]
  },
  {
   "cell_type": "code",
   "execution_count": 5,
   "metadata": {},
   "outputs": [],
   "source": [
    "\n",
    "def create_md_fold(out_dir, fold_name,seed):\n",
    "    qt = QuantileTransformer(\n",
    "    n_quantiles=1000, random_state=0, output_distribution=\"uniform\"\n",
    "    )   \n",
    "    collect_feats = []\n",
    "\n",
    "    with h5py.File('/home/magdalena/Desktop/magister/SSL_DATASET/ZTF_SSL_Dataset/h5file/test.h5', 'r') as f:\n",
    "        # Print original dictionary keys\n",
    "        \n",
    "        # Print HDF5 root level keys\n",
    "        print(\"HDF5 root level keys:\", list(f.keys()))\n",
    "        these_idx = f.get(f'train_{seed}')\n",
    "        #print(these_idx)\n",
    "        feats = f.get('md_cols')[these_idx] \n",
    "    \n",
    "   \n",
    "    #feats = np.concatenate([feat for feat in collect_feats]) \n",
    "    #print(feats)\n",
    "    qt.fit(feats.reshape(feats.shape[0],feats.shape[1]))\n",
    " \n",
    "    joblib.dump(qt, f'{out_dir}/{fold_name}_qt-fold-{seed}.joblib')"
   ]
  },
  {
   "cell_type": "code",
   "execution_count": 6,
   "metadata": {},
   "outputs": [
    {
     "name": "stdout",
     "output_type": "stream",
     "text": [
      "HDF5 root level keys: ['flux', 'ft_cols', 'mask', 'md_cols', 'time', 'train_0', 'train_1', 'train_2', 'train_3', 'train_4', 'validation_0', 'validation_1', 'validation_2', 'validation_3', 'validation_4']\n",
      "<HDF5 dataset \"train_0\": shape (130744,), type \"<i8\">\n",
      "\n",
      "HDF5 root level keys: ['flux', 'ft_cols', 'mask', 'md_cols', 'time', 'train_0', 'train_1', 'train_2', 'train_3', 'train_4', 'validation_0', 'validation_1', 'validation_2', 'validation_3', 'validation_4']\n",
      "HDF5 root level keys: ['flux', 'ft_cols', 'mask', 'md_cols', 'time', 'train_0', 'train_1', 'train_2', 'train_3', 'train_4', 'validation_0', 'validation_1', 'validation_2', 'validation_3', 'validation_4']\n",
      "<HDF5 dataset \"train_1\": shape (130744,), type \"<i8\">\n",
      "\n",
      "HDF5 root level keys: ['flux', 'ft_cols', 'mask', 'md_cols', 'time', 'train_0', 'train_1', 'train_2', 'train_3', 'train_4', 'validation_0', 'validation_1', 'validation_2', 'validation_3', 'validation_4']\n",
      "HDF5 root level keys: ['flux', 'ft_cols', 'mask', 'md_cols', 'time', 'train_0', 'train_1', 'train_2', 'train_3', 'train_4', 'validation_0', 'validation_1', 'validation_2', 'validation_3', 'validation_4']\n",
      "<HDF5 dataset \"train_2\": shape (130744,), type \"<i8\">\n",
      "\n",
      "HDF5 root level keys: ['flux', 'ft_cols', 'mask', 'md_cols', 'time', 'train_0', 'train_1', 'train_2', 'train_3', 'train_4', 'validation_0', 'validation_1', 'validation_2', 'validation_3', 'validation_4']\n",
      "HDF5 root level keys: ['flux', 'ft_cols', 'mask', 'md_cols', 'time', 'train_0', 'train_1', 'train_2', 'train_3', 'train_4', 'validation_0', 'validation_1', 'validation_2', 'validation_3', 'validation_4']\n",
      "<HDF5 dataset \"train_3\": shape (130744,), type \"<i8\">\n",
      "\n",
      "HDF5 root level keys: ['flux', 'ft_cols', 'mask', 'md_cols', 'time', 'train_0', 'train_1', 'train_2', 'train_3', 'train_4', 'validation_0', 'validation_1', 'validation_2', 'validation_3', 'validation_4']\n",
      "HDF5 root level keys: ['flux', 'ft_cols', 'mask', 'md_cols', 'time', 'train_0', 'train_1', 'train_2', 'train_3', 'train_4', 'validation_0', 'validation_1', 'validation_2', 'validation_3', 'validation_4']\n",
      "<HDF5 dataset \"train_4\": shape (130744,), type \"<i8\">\n",
      "\n",
      "HDF5 root level keys: ['flux', 'ft_cols', 'mask', 'md_cols', 'time', 'train_0', 'train_1', 'train_2', 'train_3', 'train_4', 'validation_0', 'validation_1', 'validation_2', 'validation_3', 'validation_4']\n"
     ]
    }
   ],
   "source": [
    "for i in range(0,5):\n",
    "    trans_feat = create_ft_fold('/home/magdalena/Desktop/magister/SSL_DATASET/ZTF_SSL_Dataset/h5file','ft',seed=i)\n",
    "    \n",
    "    trans_feat = create_md_fold('/home/magdalena/Desktop/magister/SSL_DATASET/ZTF_SSL_Dataset/h5file','md',seed=i)"
   ]
  },
  {
   "cell_type": "code",
   "execution_count": 52,
   "metadata": {},
   "outputs": [
    {
     "data": {
      "text/plain": [
       "0"
      ]
     },
     "execution_count": 52,
     "metadata": {},
     "output_type": "execute_result"
    }
   ],
   "source": [
    "np.isinf(feats).sum().sum()"
   ]
  },
  {
   "cell_type": "code",
   "execution_count": 17,
   "metadata": {},
   "outputs": [
    {
     "name": "stdout",
     "output_type": "stream",
     "text": [
      "(181,)\n"
     ]
    }
   ],
   "source": [
    "import matplotlib.pyplot as plt\n",
    "import seaborn as sns\n",
    "mean = feats_transformer.mean(axis = 0)\n",
    "print(mean.shape)\n"
   ]
  },
  {
   "cell_type": "code",
   "execution_count": 29,
   "metadata": {},
   "outputs": [],
   "source": [
    "import pandas as pd\n",
    "df = pd.DataFrame(feats_transformer)"
   ]
  },
  {
   "cell_type": "code",
   "execution_count": 40,
   "metadata": {},
   "outputs": [
    {
     "data": {
      "text/html": [
       "<div>\n",
       "<style scoped>\n",
       "    .dataframe tbody tr th:only-of-type {\n",
       "        vertical-align: middle;\n",
       "    }\n",
       "\n",
       "    .dataframe tbody tr th {\n",
       "        vertical-align: top;\n",
       "    }\n",
       "\n",
       "    .dataframe thead th {\n",
       "        text-align: right;\n",
       "    }\n",
       "</style>\n",
       "<table border=\"1\" class=\"dataframe\">\n",
       "  <thead>\n",
       "    <tr style=\"text-align: right;\">\n",
       "      <th></th>\n",
       "      <th>0</th>\n",
       "      <th>1</th>\n",
       "      <th>2</th>\n",
       "      <th>3</th>\n",
       "      <th>4</th>\n",
       "      <th>5</th>\n",
       "      <th>6</th>\n",
       "      <th>7</th>\n",
       "      <th>8</th>\n",
       "      <th>9</th>\n",
       "      <th>...</th>\n",
       "      <th>171</th>\n",
       "      <th>172</th>\n",
       "      <th>173</th>\n",
       "      <th>174</th>\n",
       "      <th>175</th>\n",
       "      <th>176</th>\n",
       "      <th>177</th>\n",
       "      <th>178</th>\n",
       "      <th>179</th>\n",
       "      <th>180</th>\n",
       "    </tr>\n",
       "  </thead>\n",
       "  <tbody>\n",
       "    <tr>\n",
       "      <th>count</th>\n",
       "      <td>102473.000000</td>\n",
       "      <td>102473.000000</td>\n",
       "      <td>93850.000000</td>\n",
       "      <td>93850.000000</td>\n",
       "      <td>93812.000000</td>\n",
       "      <td>95104.000000</td>\n",
       "      <td>93814.000000</td>\n",
       "      <td>95105.000000</td>\n",
       "      <td>93731.000000</td>\n",
       "      <td>95033.000000</td>\n",
       "      <td>...</td>\n",
       "      <td>95481.000000</td>\n",
       "      <td>88334.000000</td>\n",
       "      <td>97650.0</td>\n",
       "      <td>97650.000000</td>\n",
       "      <td>97650.00000</td>\n",
       "      <td>90913.000000</td>\n",
       "      <td>130744.000000</td>\n",
       "      <td>130744.000000</td>\n",
       "      <td>130744.000000</td>\n",
       "      <td>130744.000000</td>\n",
       "    </tr>\n",
       "    <tr>\n",
       "      <th>mean</th>\n",
       "      <td>0.498787</td>\n",
       "      <td>0.498587</td>\n",
       "      <td>0.496037</td>\n",
       "      <td>0.496265</td>\n",
       "      <td>0.494413</td>\n",
       "      <td>0.493796</td>\n",
       "      <td>0.494305</td>\n",
       "      <td>0.493929</td>\n",
       "      <td>0.495586</td>\n",
       "      <td>0.494902</td>\n",
       "      <td>...</td>\n",
       "      <td>0.500771</td>\n",
       "      <td>0.497042</td>\n",
       "      <td>0.0</td>\n",
       "      <td>0.499448</td>\n",
       "      <td>0.50048</td>\n",
       "      <td>0.500714</td>\n",
       "      <td>0.496094</td>\n",
       "      <td>0.501342</td>\n",
       "      <td>0.502021</td>\n",
       "      <td>0.504381</td>\n",
       "    </tr>\n",
       "    <tr>\n",
       "      <th>std</th>\n",
       "      <td>0.288339</td>\n",
       "      <td>0.287868</td>\n",
       "      <td>0.287993</td>\n",
       "      <td>0.287740</td>\n",
       "      <td>0.288386</td>\n",
       "      <td>0.287579</td>\n",
       "      <td>0.288224</td>\n",
       "      <td>0.287625</td>\n",
       "      <td>0.287456</td>\n",
       "      <td>0.287762</td>\n",
       "      <td>...</td>\n",
       "      <td>0.029040</td>\n",
       "      <td>0.288549</td>\n",
       "      <td>0.0</td>\n",
       "      <td>0.046575</td>\n",
       "      <td>0.02986</td>\n",
       "      <td>0.289765</td>\n",
       "      <td>0.289306</td>\n",
       "      <td>0.289241</td>\n",
       "      <td>0.288098</td>\n",
       "      <td>0.288237</td>\n",
       "    </tr>\n",
       "    <tr>\n",
       "      <th>min</th>\n",
       "      <td>0.000000</td>\n",
       "      <td>0.000000</td>\n",
       "      <td>0.000000</td>\n",
       "      <td>0.000000</td>\n",
       "      <td>0.000000</td>\n",
       "      <td>0.000000</td>\n",
       "      <td>0.000000</td>\n",
       "      <td>0.000000</td>\n",
       "      <td>0.000000</td>\n",
       "      <td>0.000000</td>\n",
       "      <td>...</td>\n",
       "      <td>0.000000</td>\n",
       "      <td>0.000000</td>\n",
       "      <td>0.0</td>\n",
       "      <td>0.000000</td>\n",
       "      <td>0.00000</td>\n",
       "      <td>0.000000</td>\n",
       "      <td>0.000000</td>\n",
       "      <td>0.000000</td>\n",
       "      <td>0.000000</td>\n",
       "      <td>0.000000</td>\n",
       "    </tr>\n",
       "    <tr>\n",
       "      <th>25%</th>\n",
       "      <td>0.250590</td>\n",
       "      <td>0.248064</td>\n",
       "      <td>0.246270</td>\n",
       "      <td>0.248243</td>\n",
       "      <td>0.245022</td>\n",
       "      <td>0.249775</td>\n",
       "      <td>0.244755</td>\n",
       "      <td>0.248251</td>\n",
       "      <td>0.248941</td>\n",
       "      <td>0.245341</td>\n",
       "      <td>...</td>\n",
       "      <td>0.500501</td>\n",
       "      <td>0.250497</td>\n",
       "      <td>0.0</td>\n",
       "      <td>0.497497</td>\n",
       "      <td>0.50000</td>\n",
       "      <td>0.248349</td>\n",
       "      <td>0.248523</td>\n",
       "      <td>0.251653</td>\n",
       "      <td>0.255009</td>\n",
       "      <td>0.255251</td>\n",
       "    </tr>\n",
       "    <tr>\n",
       "      <th>50%</th>\n",
       "      <td>0.495384</td>\n",
       "      <td>0.498586</td>\n",
       "      <td>0.497777</td>\n",
       "      <td>0.496853</td>\n",
       "      <td>0.487354</td>\n",
       "      <td>0.490197</td>\n",
       "      <td>0.487246</td>\n",
       "      <td>0.489695</td>\n",
       "      <td>0.495157</td>\n",
       "      <td>0.492692</td>\n",
       "      <td>...</td>\n",
       "      <td>0.500501</td>\n",
       "      <td>0.496347</td>\n",
       "      <td>0.0</td>\n",
       "      <td>0.497497</td>\n",
       "      <td>0.50000</td>\n",
       "      <td>0.498545</td>\n",
       "      <td>0.495716</td>\n",
       "      <td>0.501533</td>\n",
       "      <td>0.501325</td>\n",
       "      <td>0.506731</td>\n",
       "    </tr>\n",
       "    <tr>\n",
       "      <th>75%</th>\n",
       "      <td>0.752452</td>\n",
       "      <td>0.748711</td>\n",
       "      <td>0.743594</td>\n",
       "      <td>0.744256</td>\n",
       "      <td>0.743234</td>\n",
       "      <td>0.739403</td>\n",
       "      <td>0.740499</td>\n",
       "      <td>0.742249</td>\n",
       "      <td>0.741837</td>\n",
       "      <td>0.740717</td>\n",
       "      <td>...</td>\n",
       "      <td>0.500501</td>\n",
       "      <td>0.745802</td>\n",
       "      <td>0.0</td>\n",
       "      <td>0.497497</td>\n",
       "      <td>0.50000</td>\n",
       "      <td>0.754079</td>\n",
       "      <td>0.748794</td>\n",
       "      <td>0.755897</td>\n",
       "      <td>0.749523</td>\n",
       "      <td>0.757065</td>\n",
       "    </tr>\n",
       "    <tr>\n",
       "      <th>max</th>\n",
       "      <td>1.000000</td>\n",
       "      <td>1.000000</td>\n",
       "      <td>1.000000</td>\n",
       "      <td>1.000000</td>\n",
       "      <td>1.000000</td>\n",
       "      <td>1.000000</td>\n",
       "      <td>1.000000</td>\n",
       "      <td>1.000000</td>\n",
       "      <td>1.000000</td>\n",
       "      <td>1.000000</td>\n",
       "      <td>...</td>\n",
       "      <td>1.000000</td>\n",
       "      <td>1.000000</td>\n",
       "      <td>0.0</td>\n",
       "      <td>1.000000</td>\n",
       "      <td>1.00000</td>\n",
       "      <td>1.000000</td>\n",
       "      <td>1.000000</td>\n",
       "      <td>1.000000</td>\n",
       "      <td>1.000000</td>\n",
       "      <td>1.000000</td>\n",
       "    </tr>\n",
       "  </tbody>\n",
       "</table>\n",
       "<p>8 rows × 181 columns</p>\n",
       "</div>"
      ],
      "text/plain": [
       "                 0              1             2             3             4    \\\n",
       "count  102473.000000  102473.000000  93850.000000  93850.000000  93812.000000   \n",
       "mean        0.498787       0.498587      0.496037      0.496265      0.494413   \n",
       "std         0.288339       0.287868      0.287993      0.287740      0.288386   \n",
       "min         0.000000       0.000000      0.000000      0.000000      0.000000   \n",
       "25%         0.250590       0.248064      0.246270      0.248243      0.245022   \n",
       "50%         0.495384       0.498586      0.497777      0.496853      0.487354   \n",
       "75%         0.752452       0.748711      0.743594      0.744256      0.743234   \n",
       "max         1.000000       1.000000      1.000000      1.000000      1.000000   \n",
       "\n",
       "                5             6             7             8             9    \\\n",
       "count  95104.000000  93814.000000  95105.000000  93731.000000  95033.000000   \n",
       "mean       0.493796      0.494305      0.493929      0.495586      0.494902   \n",
       "std        0.287579      0.288224      0.287625      0.287456      0.287762   \n",
       "min        0.000000      0.000000      0.000000      0.000000      0.000000   \n",
       "25%        0.249775      0.244755      0.248251      0.248941      0.245341   \n",
       "50%        0.490197      0.487246      0.489695      0.495157      0.492692   \n",
       "75%        0.739403      0.740499      0.742249      0.741837      0.740717   \n",
       "max        1.000000      1.000000      1.000000      1.000000      1.000000   \n",
       "\n",
       "       ...           171           172      173           174          175  \\\n",
       "count  ...  95481.000000  88334.000000  97650.0  97650.000000  97650.00000   \n",
       "mean   ...      0.500771      0.497042      0.0      0.499448      0.50048   \n",
       "std    ...      0.029040      0.288549      0.0      0.046575      0.02986   \n",
       "min    ...      0.000000      0.000000      0.0      0.000000      0.00000   \n",
       "25%    ...      0.500501      0.250497      0.0      0.497497      0.50000   \n",
       "50%    ...      0.500501      0.496347      0.0      0.497497      0.50000   \n",
       "75%    ...      0.500501      0.745802      0.0      0.497497      0.50000   \n",
       "max    ...      1.000000      1.000000      0.0      1.000000      1.00000   \n",
       "\n",
       "                176            177            178            179  \\\n",
       "count  90913.000000  130744.000000  130744.000000  130744.000000   \n",
       "mean       0.500714       0.496094       0.501342       0.502021   \n",
       "std        0.289765       0.289306       0.289241       0.288098   \n",
       "min        0.000000       0.000000       0.000000       0.000000   \n",
       "25%        0.248349       0.248523       0.251653       0.255009   \n",
       "50%        0.498545       0.495716       0.501533       0.501325   \n",
       "75%        0.754079       0.748794       0.755897       0.749523   \n",
       "max        1.000000       1.000000       1.000000       1.000000   \n",
       "\n",
       "                 180  \n",
       "count  130744.000000  \n",
       "mean        0.504381  \n",
       "std         0.288237  \n",
       "min         0.000000  \n",
       "25%         0.255251  \n",
       "50%         0.506731  \n",
       "75%         0.757065  \n",
       "max         1.000000  \n",
       "\n",
       "[8 rows x 181 columns]"
      ]
     },
     "execution_count": 40,
     "metadata": {},
     "output_type": "execute_result"
    }
   ],
   "source": [
    "df.describe()['mean']"
   ]
  },
  {
   "cell_type": "code",
   "execution_count": 46,
   "metadata": {},
   "outputs": [
    {
     "data": {
      "text/plain": [
       "<Axes: >"
      ]
     },
     "execution_count": 46,
     "metadata": {},
     "output_type": "execute_result"
    },
    {
     "data": {
      "image/png": "[encoded data removed]",
      "text/plain": [
       "<Figure size 2500x500 with 1 Axes>"
      ]
     },
     "metadata": {},
     "output_type": "display_data"
    }
   ],
   "source": [
    "fig, ax = plt.subplots(1,1,figsize = (25,5))\n",
    "df.boxplot()"
   ]
  },
  {
   "cell_type": "code",
   "execution_count": 45,
   "metadata": {},
   "outputs": [
    {
     "data": {
      "text/plain": [
       "<Axes: >"
      ]
     },
     "execution_count": 45,
     "metadata": {},
     "output_type": "execute_result"
    },
    {
     "data": {
      "image/png": "[encoded data removed]",
      "text/plain": [
       "<Figure size 2500x500 with 1 Axes>"
      ]
     },
     "metadata": {},
     "output_type": "display_data"
    }
   ],
   "source": [
    "fig, ax = plt.subplots(1,1,figsize = (25,5))\n",
    "pd.DataFrame(feats).boxplot()"
   ]
  },
  {
   "cell_type": "code",
   "execution_count": 21,
   "metadata": {},
   "outputs": [
    {
     "data": {
      "text/plain": [
       "<Axes: >"
      ]
     },
     "execution_count": 21,
     "metadata": {},
     "output_type": "execute_result"
    },
    {
     "data": {
      "image/png": "[encoded data removed]",
      "text/plain": [
       "<Figure size 640x480 with 1 Axes>"
      ]
     },
     "metadata": {},
     "output_type": "display_data"
    }
   ],
   "source": [
    "sns.boxplot(data = feats_transformer[:10])"
   ]
  },
  {
   "cell_type": "code",
   "execution_count": 15,
   "metadata": {},
   "outputs": [
    {
     "data": {
      "text/plain": [
       "<BarContainer object of 181 artists>"
      ]
     },
     "execution_count": 15,
     "metadata": {},
     "output_type": "execute_result"
    },
    {
     "data": {
      "image/png": "[encoded data removed]",
      "text/plain": [
       "<Figure size 640x480 with 1 Axes>"
      ]
     },
     "metadata": {},
     "output_type": "display_data"
    }
   ],
   "source": [
    "fig, ax = plt.subplots(1,1)\n",
    "ax.bar(x = np.linspace(0,\n",
    "                       len(mean),\n",
    "                           len(mean)), height = mean)\n",
    "#ax.set_title(f'Metadata QTF ({code_dict[target[rand]]})')"
   ]
  },
  {
   "cell_type": "code",
   "execution_count": 84,
   "metadata": {},
   "outputs": [
    {
     "name": "stdout",
     "output_type": "stream",
     "text": [
      "<HDF5 dataset \"flux\": shape (252810, 200, 2), type \"<f8\">\n",
      "HDF5 root level keys: ['SNID', 'extracted_feat_1024', 'extracted_feat_128', 'extracted_feat_16', 'extracted_feat_2048', 'extracted_feat_256', 'extracted_feat_32', 'extracted_feat_512', 'extracted_feat_64', 'flux', 'flux_err', 'labels', 'mask', 'mask_detection', 'mask_photometry', 'metadata_feat', 'test', 'time', 'time_detection', 'time_photometry', 'training_0', 'validation_0']\n"
     ]
    },
    {
     "data": {
      "text/plain": [
       "tensor([[True, True],\n",
       "        [True, True],\n",
       "        [True, True],\n",
       "        [True, True],\n",
       "        [True, True],\n",
       "        [True, True],\n",
       "        [True, True],\n",
       "        [True, True],\n",
       "        [True, True],\n",
       "        [True, True],\n",
       "        [True, True],\n",
       "        [True, True],\n",
       "        [True, True],\n",
       "        [True, True],\n",
       "        [True, True],\n",
       "        [True, True],\n",
       "        [True, True],\n",
       "        [True, True],\n",
       "        [True, True],\n",
       "        [True, True],\n",
       "        [True, True],\n",
       "        [True, True],\n",
       "        [True, True],\n",
       "        [True, True],\n",
       "        [True, True],\n",
       "        [True, True],\n",
       "        [True, True],\n",
       "        [True, True],\n",
       "        [True, True],\n",
       "        [True, True],\n",
       "        [True, True],\n",
       "        [True, True],\n",
       "        [True, True],\n",
       "        [True, True],\n",
       "        [True, True],\n",
       "        [True, True],\n",
       "        [True, True],\n",
       "        [True, True],\n",
       "        [True, True],\n",
       "        [True, True],\n",
       "        [True, True],\n",
       "        [True, True],\n",
       "        [True, True],\n",
       "        [True, True],\n",
       "        [True, True],\n",
       "        [True, True],\n",
       "        [True, True],\n",
       "        [True, True],\n",
       "        [True, True],\n",
       "        [True, True],\n",
       "        [True, True],\n",
       "        [True, True],\n",
       "        [True, True],\n",
       "        [True, True],\n",
       "        [True, True],\n",
       "        [True, True],\n",
       "        [True, True],\n",
       "        [True, True],\n",
       "        [True, True],\n",
       "        [True, True],\n",
       "        [True, True],\n",
       "        [True, True],\n",
       "        [True, True],\n",
       "        [True, True],\n",
       "        [True, True],\n",
       "        [True, True],\n",
       "        [True, True],\n",
       "        [True, True],\n",
       "        [True, True],\n",
       "        [True, True],\n",
       "        [True, True],\n",
       "        [True, True],\n",
       "        [True, True],\n",
       "        [True, True],\n",
       "        [True, True],\n",
       "        [True, True],\n",
       "        [True, True],\n",
       "        [True, True],\n",
       "        [True, True],\n",
       "        [True, True],\n",
       "        [True, True],\n",
       "        [True, True],\n",
       "        [True, True],\n",
       "        [True, True],\n",
       "        [True, True],\n",
       "        [True, True],\n",
       "        [True, True],\n",
       "        [True, True],\n",
       "        [True, True],\n",
       "        [True, True],\n",
       "        [True, True],\n",
       "        [True, True],\n",
       "        [True, True],\n",
       "        [True, True],\n",
       "        [True, True],\n",
       "        [True, True],\n",
       "        [True, True],\n",
       "        [True, True],\n",
       "        [True, True],\n",
       "        [True, True],\n",
       "        [True, True],\n",
       "        [True, True],\n",
       "        [True, True],\n",
       "        [True, True],\n",
       "        [True, True],\n",
       "        [True, True],\n",
       "        [True, True],\n",
       "        [True, True],\n",
       "        [True, True],\n",
       "        [True, True],\n",
       "        [True, True],\n",
       "        [True, True],\n",
       "        [True, True],\n",
       "        [True, True],\n",
       "        [True, True],\n",
       "        [True, True],\n",
       "        [True, True],\n",
       "        [True, True],\n",
       "        [True, True],\n",
       "        [True, True],\n",
       "        [True, True],\n",
       "        [True, True],\n",
       "        [True, True],\n",
       "        [True, True],\n",
       "        [True, True],\n",
       "        [True, True],\n",
       "        [True, True],\n",
       "        [True, True],\n",
       "        [True, True],\n",
       "        [True, True],\n",
       "        [True, True],\n",
       "        [True, True],\n",
       "        [True, True],\n",
       "        [True, True],\n",
       "        [True, True],\n",
       "        [True, True],\n",
       "        [True, True],\n",
       "        [True, True],\n",
       "        [True, True],\n",
       "        [True, True],\n",
       "        [True, True],\n",
       "        [True, True],\n",
       "        [True, True],\n",
       "        [True, True],\n",
       "        [True, True],\n",
       "        [True, True],\n",
       "        [True, True],\n",
       "        [True, True],\n",
       "        [True, True],\n",
       "        [True, True],\n",
       "        [True, True],\n",
       "        [True, True],\n",
       "        [True, True],\n",
       "        [True, True],\n",
       "        [True, True],\n",
       "        [True, True],\n",
       "        [True, True],\n",
       "        [True, True],\n",
       "        [True, True],\n",
       "        [True, True],\n",
       "        [True, True],\n",
       "        [True, True],\n",
       "        [True, True],\n",
       "        [True, True],\n",
       "        [True, True],\n",
       "        [True, True],\n",
       "        [True, True],\n",
       "        [True, True],\n",
       "        [True, True],\n",
       "        [True, True],\n",
       "        [True, True],\n",
       "        [True, True],\n",
       "        [True, True],\n",
       "        [True, True],\n",
       "        [True, True],\n",
       "        [True, True],\n",
       "        [True, True],\n",
       "        [True, True],\n",
       "        [True, True],\n",
       "        [True, True],\n",
       "        [True, True],\n",
       "        [True, True],\n",
       "        [True, True],\n",
       "        [True, True],\n",
       "        [True, True],\n",
       "        [True, True],\n",
       "        [True, True],\n",
       "        [True, True],\n",
       "        [True, True],\n",
       "        [True, True],\n",
       "        [True, True],\n",
       "        [True, True],\n",
       "        [True, True],\n",
       "        [True, True],\n",
       "        [True, True],\n",
       "        [True, True],\n",
       "        [True, True],\n",
       "        [True, True],\n",
       "        [True, True],\n",
       "        [True, True]])"
      ]
     },
     "execution_count": 84,
     "metadata": {},
     "output_type": "execute_result"
    }
   ],
   "source": [
    "\n",
    "import h5py\n",
    "import numpy as np\n",
    "import torch\n",
    "with h5py.File('/home/magdalena/Desktop/magister/SSL_DATASET/ZTF_SSL_Dataset/pipeline/training/lc_classifier_ztf/ATAT_ALeRCE/data/datasets/ZTF_ff/final/LC_MD_FEAT_240627_windows_200_12/dataset.h5', 'r') as f:\n",
    "    # Print original dictionary keys\n",
    "    these_idx = f.get('training_0')[:]\n",
    "    # Print HDF5 root level keys\n",
    "    print(f.get('flux'))\n",
    "    print(\"HDF5 root level keys:\", list(f.keys()))\n",
    "    data_ = torch.from_numpy(f.get(\"flux\")[:][these_idx])  \n",
    "    data = torch.from_numpy(f.get(\"flux\")[:][these_idx])  \n",
    " "
   ]
  },
  {
   "cell_type": "code",
   "execution_count": 71,
   "metadata": {},
   "outputs": [
    {
     "name": "stdout",
     "output_type": "stream",
     "text": [
      "<HDF5 dataset \"flux\": shape (163430, 200, 2), type \"<f8\">\n",
      "HDF5 root level keys: ['flux', 'ft_cols', 'mask', 'md_cols', 'time', 'train_0', 'train_1', 'train_2', 'train_3', 'train_4', 'validation_0', 'validation_1', 'validation_2', 'validation_3', 'validation_4']\n",
      "torch.Size([130744, 200, 2])\n",
      "tensor([[ 6959.2109,  2220.9440],\n",
      "        [ 2922.1439, -2604.8025],\n",
      "        [ -482.0166,     0.0000],\n",
      "        [-1452.9531,     0.0000],\n",
      "        [ 1527.2256,     0.0000],\n",
      "        [ -982.6164,     0.0000],\n",
      "        [ 1711.6036,     0.0000],\n",
      "        [ 1915.7057,     0.0000],\n",
      "        [    0.0000,     0.0000],\n",
      "        [    0.0000,     0.0000],\n",
      "        [    0.0000,     0.0000],\n",
      "        [    0.0000,     0.0000],\n",
      "        [    0.0000,     0.0000],\n",
      "        [    0.0000,     0.0000],\n",
      "        [    0.0000,     0.0000],\n",
      "        [    0.0000,     0.0000],\n",
      "        [    0.0000,     0.0000],\n",
      "        [    0.0000,     0.0000],\n",
      "        [    0.0000,     0.0000],\n",
      "        [    0.0000,     0.0000],\n",
      "        [    0.0000,     0.0000],\n",
      "        [    0.0000,     0.0000],\n",
      "        [    0.0000,     0.0000],\n",
      "        [    0.0000,     0.0000],\n",
      "        [    0.0000,     0.0000],\n",
      "        [    0.0000,     0.0000],\n",
      "        [    0.0000,     0.0000],\n",
      "        [    0.0000,     0.0000],\n",
      "        [    0.0000,     0.0000],\n",
      "        [    0.0000,     0.0000],\n",
      "        [    0.0000,     0.0000],\n",
      "        [    0.0000,     0.0000],\n",
      "        [    0.0000,     0.0000],\n",
      "        [    0.0000,     0.0000],\n",
      "        [    0.0000,     0.0000],\n",
      "        [    0.0000,     0.0000],\n",
      "        [    0.0000,     0.0000],\n",
      "        [    0.0000,     0.0000],\n",
      "        [    0.0000,     0.0000],\n",
      "        [    0.0000,     0.0000],\n",
      "        [    0.0000,     0.0000],\n",
      "        [    0.0000,     0.0000],\n",
      "        [    0.0000,     0.0000],\n",
      "        [    0.0000,     0.0000],\n",
      "        [    0.0000,     0.0000],\n",
      "        [    0.0000,     0.0000],\n",
      "        [    0.0000,     0.0000],\n",
      "        [    0.0000,     0.0000],\n",
      "        [    0.0000,     0.0000],\n",
      "        [    0.0000,     0.0000],\n",
      "        [    0.0000,     0.0000],\n",
      "        [    0.0000,     0.0000],\n",
      "        [    0.0000,     0.0000],\n",
      "        [    0.0000,     0.0000],\n",
      "        [    0.0000,     0.0000],\n",
      "        [    0.0000,     0.0000],\n",
      "        [    0.0000,     0.0000],\n",
      "        [    0.0000,     0.0000],\n",
      "        [    0.0000,     0.0000],\n",
      "        [    0.0000,     0.0000],\n",
      "        [    0.0000,     0.0000],\n",
      "        [    0.0000,     0.0000],\n",
      "        [    0.0000,     0.0000],\n",
      "        [    0.0000,     0.0000],\n",
      "        [    0.0000,     0.0000],\n",
      "        [    0.0000,     0.0000],\n",
      "        [    0.0000,     0.0000],\n",
      "        [    0.0000,     0.0000],\n",
      "        [    0.0000,     0.0000],\n",
      "        [    0.0000,     0.0000],\n",
      "        [    0.0000,     0.0000],\n",
      "        [    0.0000,     0.0000],\n",
      "        [    0.0000,     0.0000],\n",
      "        [    0.0000,     0.0000],\n",
      "        [    0.0000,     0.0000],\n",
      "        [    0.0000,     0.0000],\n",
      "        [    0.0000,     0.0000],\n",
      "        [    0.0000,     0.0000],\n",
      "        [    0.0000,     0.0000],\n",
      "        [    0.0000,     0.0000],\n",
      "        [    0.0000,     0.0000],\n",
      "        [    0.0000,     0.0000],\n",
      "        [    0.0000,     0.0000],\n",
      "        [    0.0000,     0.0000],\n",
      "        [    0.0000,     0.0000],\n",
      "        [    0.0000,     0.0000],\n",
      "        [    0.0000,     0.0000],\n",
      "        [    0.0000,     0.0000],\n",
      "        [    0.0000,     0.0000],\n",
      "        [    0.0000,     0.0000],\n",
      "        [    0.0000,     0.0000],\n",
      "        [    0.0000,     0.0000],\n",
      "        [    0.0000,     0.0000],\n",
      "        [    0.0000,     0.0000],\n",
      "        [    0.0000,     0.0000],\n",
      "        [    0.0000,     0.0000],\n",
      "        [    0.0000,     0.0000],\n",
      "        [    0.0000,     0.0000],\n",
      "        [    0.0000,     0.0000],\n",
      "        [    0.0000,     0.0000],\n",
      "        [    0.0000,     0.0000],\n",
      "        [    0.0000,     0.0000],\n",
      "        [    0.0000,     0.0000],\n",
      "        [    0.0000,     0.0000],\n",
      "        [    0.0000,     0.0000],\n",
      "        [    0.0000,     0.0000],\n",
      "        [    0.0000,     0.0000],\n",
      "        [    0.0000,     0.0000],\n",
      "        [    0.0000,     0.0000],\n",
      "        [    0.0000,     0.0000],\n",
      "        [    0.0000,     0.0000],\n",
      "        [    0.0000,     0.0000],\n",
      "        [    0.0000,     0.0000],\n",
      "        [    0.0000,     0.0000],\n",
      "        [    0.0000,     0.0000],\n",
      "        [    0.0000,     0.0000],\n",
      "        [    0.0000,     0.0000],\n",
      "        [    0.0000,     0.0000],\n",
      "        [    0.0000,     0.0000],\n",
      "        [    0.0000,     0.0000],\n",
      "        [    0.0000,     0.0000],\n",
      "        [    0.0000,     0.0000],\n",
      "        [    0.0000,     0.0000],\n",
      "        [    0.0000,     0.0000],\n",
      "        [    0.0000,     0.0000],\n",
      "        [    0.0000,     0.0000],\n",
      "        [    0.0000,     0.0000],\n",
      "        [    0.0000,     0.0000],\n",
      "        [    0.0000,     0.0000],\n",
      "        [    0.0000,     0.0000],\n",
      "        [    0.0000,     0.0000],\n",
      "        [    0.0000,     0.0000],\n",
      "        [    0.0000,     0.0000],\n",
      "        [    0.0000,     0.0000],\n",
      "        [    0.0000,     0.0000],\n",
      "        [    0.0000,     0.0000],\n",
      "        [    0.0000,     0.0000],\n",
      "        [    0.0000,     0.0000],\n",
      "        [    0.0000,     0.0000],\n",
      "        [    0.0000,     0.0000],\n",
      "        [    0.0000,     0.0000],\n",
      "        [    0.0000,     0.0000],\n",
      "        [    0.0000,     0.0000],\n",
      "        [    0.0000,     0.0000],\n",
      "        [    0.0000,     0.0000],\n",
      "        [    0.0000,     0.0000],\n",
      "        [    0.0000,     0.0000],\n",
      "        [    0.0000,     0.0000],\n",
      "        [    0.0000,     0.0000],\n",
      "        [    0.0000,     0.0000],\n",
      "        [    0.0000,     0.0000],\n",
      "        [    0.0000,     0.0000],\n",
      "        [    0.0000,     0.0000],\n",
      "        [    0.0000,     0.0000],\n",
      "        [    0.0000,     0.0000],\n",
      "        [    0.0000,     0.0000],\n",
      "        [    0.0000,     0.0000],\n",
      "        [    0.0000,     0.0000],\n",
      "        [    0.0000,     0.0000],\n",
      "        [    0.0000,     0.0000],\n",
      "        [    0.0000,     0.0000],\n",
      "        [    0.0000,     0.0000],\n",
      "        [    0.0000,     0.0000],\n",
      "        [    0.0000,     0.0000],\n",
      "        [    0.0000,     0.0000],\n",
      "        [    0.0000,     0.0000],\n",
      "        [    0.0000,     0.0000],\n",
      "        [    0.0000,     0.0000],\n",
      "        [    0.0000,     0.0000],\n",
      "        [    0.0000,     0.0000],\n",
      "        [    0.0000,     0.0000],\n",
      "        [    0.0000,     0.0000],\n",
      "        [    0.0000,     0.0000],\n",
      "        [    0.0000,     0.0000],\n",
      "        [    0.0000,     0.0000],\n",
      "        [    0.0000,     0.0000],\n",
      "        [    0.0000,     0.0000],\n",
      "        [    0.0000,     0.0000],\n",
      "        [    0.0000,     0.0000],\n",
      "        [    0.0000,     0.0000],\n",
      "        [    0.0000,     0.0000],\n",
      "        [    0.0000,     0.0000],\n",
      "        [    0.0000,     0.0000],\n",
      "        [    0.0000,     0.0000],\n",
      "        [    0.0000,     0.0000],\n",
      "        [    0.0000,     0.0000],\n",
      "        [    0.0000,     0.0000],\n",
      "        [    0.0000,     0.0000],\n",
      "        [    0.0000,     0.0000],\n",
      "        [    0.0000,     0.0000],\n",
      "        [    0.0000,     0.0000],\n",
      "        [    0.0000,     0.0000],\n",
      "        [    0.0000,     0.0000],\n",
      "        [    0.0000,     0.0000],\n",
      "        [    0.0000,     0.0000],\n",
      "        [    0.0000,     0.0000],\n",
      "        [    0.0000,     0.0000],\n",
      "        [    0.0000,     0.0000],\n",
      "        [    0.0000,     0.0000],\n",
      "        [    0.0000,     0.0000]], dtype=torch.float64)\n"
     ]
    }
   ],
   "source": [
    "import h5py\n",
    "import numpy as np\n",
    "import torch\n",
    "with h5py.File('/home/magdalena/Desktop/magister/SSL_DATASET/ZTF_SSL_Dataset/pipeline/training/lc_classifier_ztf/ATAT_ALeRCE/data/datasets/h5file/dataset.h5', 'r') as f:\n",
    "    # Print original dictionary keys\n",
    "    these_idx = f.get('train_0')[:]\n",
    "    # Print HDF5 root level keys\n",
    "    print(f.get('flux'))\n",
    "\n",
    "    print(\"HDF5 root level keys:\", list(f.keys()))\n",
    "    data = torch.from_numpy(f.get(\"flux\")[:][these_idx])  \n",
    "print(data.shape) \n",
    "print(data[0,:,:])\n"
   ]
  },
  {
   "cell_type": "code",
   "execution_count": null,
   "metadata": {},
   "outputs": [],
   "source": [
    "data_[0] == data"
   ]
  }
 ],
 "metadata": {
  "kernelspec": {
   "display_name": "dataset",
   "language": "python",
   "name": "python3"
  },
  "language_info": {
   "codemirror_mode": {
    "name": "ipython",
    "version": 3
   },
   "file_extension": ".py",
   "mimetype": "text/x-python",
   "name": "python",
   "nbconvert_exporter": "python",
   "pygments_lexer": "ipython3",
   "version": "3.11.10"
  }
 },
 "nbformat": 4,
 "nbformat_minor": 2
}
