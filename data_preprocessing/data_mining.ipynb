{
 "cells": [
  {
   "cell_type": "code",
   "execution_count": 1,
   "metadata": {},
   "outputs": [
    {
     "data": {
      "text/html": [
       "<style>.container { width:100% !important; }</style>"
      ],
      "text/plain": [
       "<IPython.core.display.HTML object>"
      ]
     },
     "metadata": {},
     "output_type": "display_data"
    }
   ],
   "source": [
    "import sys\n",
    "import pandas as pd\n",
    "import numpy as np\n",
    "\n",
    "from alerce.core import Alerce\n",
    "client = Alerce()\n",
    "import requests\n",
    "import sqlalchemy as sa\n",
    "import matplotlib.pyplot as plt\n",
    "\n",
    "from IPython.core.display import HTML\n",
    "display(HTML('<style>.container { width:100% !important; }</style>'))\n",
    "pd.set_option('display.max_colwidth', 1000)\n",
    "pd.set_option('display.max_columns', None)\n",
    "plt.style.use('default')\n",
    "plt.rcParams['figure.figsize'] = (6., 4.)\n",
    "plt.rcParams['figure.dpi'] = 72."
   ]
  },
  {
   "cell_type": "code",
   "execution_count": 2,
   "metadata": {},
   "outputs": [],
   "source": [
    "client = Alerce()\n"
   ]
  },
  {
   "cell_type": "code",
   "execution_count": 6,
   "metadata": {},
   "outputs": [],
   "source": [
    "url = 'https://raw.githubusercontent.com/alercebroker/usecases/master/alercereaduser_v4.json'\n",
    "params = requests.get(url).json()['params']"
   ]
  },
  {
   "cell_type": "code",
   "execution_count": 7,
   "metadata": {},
   "outputs": [
    {
     "data": {
      "text/plain": [
       "{'dbname': 'ztf',\n",
       " 'user': 'alerceread',\n",
       " 'host': '54.205.99.47',\n",
       " 'password': 'w*C*u8AXZ4e%d+zv'}"
      ]
     },
     "execution_count": 7,
     "metadata": {},
     "output_type": "execute_result"
    }
   ],
   "source": [
    "params"
   ]
  },
  {
   "cell_type": "code",
   "execution_count": 8,
   "metadata": {},
   "outputs": [],
   "source": [
    "engine = sa.create_engine('postgresql+psycopg2://' + params['user'] \\\n",
    "                          + ':' + params['password'] + '@' + params['host'] \\\n",
    "                          + '/' + params['dbname'])\n",
    "conn = engine.connect()"
   ]
  },
  {
   "cell_type": "code",
   "execution_count": 11,
   "metadata": {},
   "outputs": [],
   "source": [
    "names = ['ZTF18aabyvkm']\n",
    "core_path = '/home/magdalena/Desktop/magister/SSL_DATASET/ZTF_SSL_Dataset'\n",
    "\n",
    "query = '''\n",
    "    SELECT\n",
    "        oid, oid_catalog, dist\n",
    "    FROM\n",
    "        xmatch\n",
    "    WHERE\n",
    "        catid = 'allwise'\n",
    "        AND oid IN (%s)\n",
    "    ''' % (','.join([\"'%s'\" % oid for oid in names]))\n",
    "   \n",
    "df_xmatch = pd.read_sql_query(query, conn)\n",
    "df_xmatch = df_xmatch.sort_values(by='dist').drop_duplicates('oid')\n",
    "\n",
    "oid_catalog = [x for x in df_xmatch['oid_catalog']]\n",
    "\n",
    "query = '''\n",
    "    SELECT\n",
    "        oid_catalog, w1mpro, w2mpro, w3mpro, w4mpro\n",
    "    FROM\n",
    "        allwise\n",
    "    WHERE\n",
    "        oid_catalog IN (%s)\n",
    "    ''' % (','.join([\"'%s'\" % x for x in oid_catalog]))\n",
    "   \n",
    "df_wise = pd.read_sql_query(query, conn)\n",
    "\n",
    "df_wise = pd.merge(df_xmatch, df_wise, on='oid_catalog', how='outer').set_index('oid')\n",
    "del df_xmatch\n",
    "   \n",
    "query = '''\n",
    "    SELECT\n",
    "        oid, sgscore1, sgmag1, srmag1, distpsnr1\n",
    "    FROM\n",
    "        ps1_ztf\n",
    "    WHERE\n",
    "        oid IN (%s)\n",
    "        ''' % (','.join([\"'%s'\" % oid for oid in names]))\n",
    "\n",
    "df_ps1 = pd.read_sql_query(query, conn)\n",
    "df_ps1 = df_ps1.drop_duplicates('oid').set_index('oid')\n",
    "\n",
    "df_xmatch = pd.concat([df_wise, df_ps1], axis=1).reset_index()\n",
    "del df_wise, df_ps1\n",
    "\n",
    "\n",
    "df_xmatch.to_parquet(f'{core_path}/oids_new_tab.parquet')"
   ]
  },
  {
   "cell_type": "code",
   "execution_count": 12,
   "metadata": {},
   "outputs": [
    {
     "data": {
      "text/plain": [
       "Index(['oid', 'oid_catalog', 'dist', 'w1mpro', 'w2mpro', 'w3mpro', 'w4mpro',\n",
       "       'sgscore1', 'sgmag1', 'srmag1', 'distpsnr1'],\n",
       "      dtype='object')"
      ]
     },
     "execution_count": 12,
     "metadata": {},
     "output_type": "execute_result"
    }
   ],
   "source": [
    "df_xmatch.columns"
   ]
  },
  {
   "cell_type": "code",
   "execution_count": 13,
   "metadata": {},
   "outputs": [],
   "source": [
    "query =  \"\"\"\n",
    "        select o.oid, \n",
    "        --from detections table\n",
    "       d.ra, d.dec, d.mjd, d.fid, d.magpsf, d.sigmapsf, d.magpsf_corr, d.sigmapsf_corr_ext, d.isdiffpos, d.pid, d.candid,\n",
    "        --from forced photometry table\n",
    "        fp.mag, fp.e_mag, fp.mag_corr, fp.e_mag_corr_ext, fp.isdiffpos as isdiffpos_fp, fp.distnr ,\n",
    "        --from ps table\n",
    "        ps.sgscore1 , ps.sgmag1, ps.srmag1, ps.distpsnr1\n",
    "        from  alerce.detection d \n",
    "        join  alerce.\"object\" o on d.oid = o.oid\n",
    "        join alerce.forced_photometry fp on fp.oid = o.oid\n",
    "        join alerce.ps1_ztf ps on ps.oid = o.oid\n",
    "        where o.oid = 'ZTF18aabyvkm'    \n",
    "        \"\"\"  \n",
    "   \n",
    "df_xmatch = pd.read_sql_query(query, conn)"
   ]
  },
  {
   "cell_type": "code",
   "execution_count": 14,
   "metadata": {},
   "outputs": [
    {
     "data": {
      "text/plain": [
       "Index(['oid', 'ra', 'dec', 'mjd', 'fid', 'magpsf', 'sigmapsf', 'magpsf_corr',\n",
       "       'sigmapsf_corr_ext', 'isdiffpos', 'pid', 'candid', 'mag', 'e_mag',\n",
       "       'mag_corr', 'e_mag_corr_ext', 'isdiffpos_fp', 'distnr', 'sgscore1',\n",
       "       'sgmag1', 'srmag1', 'distpsnr1'],\n",
       "      dtype='object')"
      ]
     },
     "execution_count": 14,
     "metadata": {},
     "output_type": "execute_result"
    }
   ],
   "source": [
    "df_xmatch.columns"
   ]
  },
  {
   "cell_type": "code",
   "execution_count": 15,
   "metadata": {},
   "outputs": [
    {
     "ename": "KeyError",
     "evalue": "\"['tid', 'sid', 'brightness', 'e_brightness', 'unit'] not in index\"",
     "output_type": "error",
     "traceback": [
      "\u001b[0;31m---------------------------------------------------------------------------\u001b[0m",
      "\u001b[0;31mKeyError\u001b[0m                                  Traceback (most recent call last)",
      "Cell \u001b[0;32mIn[15], line 1\u001b[0m\n\u001b[0;32m----> 1\u001b[0m \u001b[43mdf_xmatch\u001b[49m\u001b[43m[\u001b[49m\u001b[43m[\u001b[49m\u001b[38;5;124;43m\"\u001b[39;49m\u001b[38;5;124;43mcandid\u001b[39;49m\u001b[38;5;124;43m\"\u001b[39;49m\u001b[43m,\u001b[49m\n\u001b[1;32m      2\u001b[0m \u001b[43m            \u001b[49m\u001b[38;5;124;43m\"\u001b[39;49m\u001b[38;5;124;43mtid\u001b[39;49m\u001b[38;5;124;43m\"\u001b[39;49m\u001b[43m,\u001b[49m\n\u001b[1;32m      3\u001b[0m \u001b[43m            \u001b[49m\u001b[38;5;124;43m\"\u001b[39;49m\u001b[38;5;124;43mmjd\u001b[39;49m\u001b[38;5;124;43m\"\u001b[39;49m\u001b[43m,\u001b[49m\n\u001b[1;32m      4\u001b[0m \u001b[43m            \u001b[49m\u001b[38;5;124;43m\"\u001b[39;49m\u001b[38;5;124;43msid\u001b[39;49m\u001b[38;5;124;43m\"\u001b[39;49m\u001b[43m,\u001b[49m\n\u001b[1;32m      5\u001b[0m \u001b[43m            \u001b[49m\u001b[38;5;124;43m\"\u001b[39;49m\u001b[38;5;124;43mfid\u001b[39;49m\u001b[38;5;124;43m\"\u001b[39;49m\u001b[43m,\u001b[49m\n\u001b[1;32m      6\u001b[0m \u001b[43m            \u001b[49m\u001b[38;5;124;43m\"\u001b[39;49m\u001b[38;5;124;43mpid\u001b[39;49m\u001b[38;5;124;43m\"\u001b[39;49m\u001b[43m,\u001b[49m\n\u001b[1;32m      7\u001b[0m \u001b[43m            \u001b[49m\u001b[38;5;124;43m\"\u001b[39;49m\u001b[38;5;124;43mra\u001b[39;49m\u001b[38;5;124;43m\"\u001b[39;49m\u001b[43m,\u001b[49m\n\u001b[1;32m      8\u001b[0m \u001b[43m            \u001b[49m\u001b[38;5;124;43m\"\u001b[39;49m\u001b[38;5;124;43mdec\u001b[39;49m\u001b[38;5;124;43m\"\u001b[39;49m\u001b[43m,\u001b[49m\n\u001b[1;32m      9\u001b[0m \u001b[43m            \u001b[49m\u001b[38;5;124;43m\"\u001b[39;49m\u001b[38;5;124;43mbrightness\u001b[39;49m\u001b[38;5;124;43m\"\u001b[39;49m\u001b[43m,\u001b[49m\n\u001b[1;32m     10\u001b[0m \u001b[43m            \u001b[49m\u001b[38;5;124;43m\"\u001b[39;49m\u001b[38;5;124;43me_brightness\u001b[39;49m\u001b[38;5;124;43m\"\u001b[39;49m\u001b[43m,\u001b[49m\n\u001b[1;32m     11\u001b[0m \u001b[43m            \u001b[49m\u001b[38;5;124;43m\"\u001b[39;49m\u001b[38;5;124;43munit\u001b[39;49m\u001b[38;5;124;43m\"\u001b[39;49m\u001b[43m,\u001b[49m\u001b[43m]\u001b[49m\u001b[43m]\u001b[49m\n",
      "File \u001b[0;32m~/.local/lib/python3.10/site-packages/pandas/core/frame.py:3767\u001b[0m, in \u001b[0;36mDataFrame.__getitem__\u001b[0;34m(self, key)\u001b[0m\n\u001b[1;32m   3765\u001b[0m     \u001b[38;5;28;01mif\u001b[39;00m is_iterator(key):\n\u001b[1;32m   3766\u001b[0m         key \u001b[38;5;241m=\u001b[39m \u001b[38;5;28mlist\u001b[39m(key)\n\u001b[0;32m-> 3767\u001b[0m     indexer \u001b[38;5;241m=\u001b[39m \u001b[38;5;28;43mself\u001b[39;49m\u001b[38;5;241;43m.\u001b[39;49m\u001b[43mcolumns\u001b[49m\u001b[38;5;241;43m.\u001b[39;49m\u001b[43m_get_indexer_strict\u001b[49m\u001b[43m(\u001b[49m\u001b[43mkey\u001b[49m\u001b[43m,\u001b[49m\u001b[43m \u001b[49m\u001b[38;5;124;43m\"\u001b[39;49m\u001b[38;5;124;43mcolumns\u001b[39;49m\u001b[38;5;124;43m\"\u001b[39;49m\u001b[43m)\u001b[49m[\u001b[38;5;241m1\u001b[39m]\n\u001b[1;32m   3769\u001b[0m \u001b[38;5;66;03m# take() does not accept boolean indexers\u001b[39;00m\n\u001b[1;32m   3770\u001b[0m \u001b[38;5;28;01mif\u001b[39;00m \u001b[38;5;28mgetattr\u001b[39m(indexer, \u001b[38;5;124m\"\u001b[39m\u001b[38;5;124mdtype\u001b[39m\u001b[38;5;124m\"\u001b[39m, \u001b[38;5;28;01mNone\u001b[39;00m) \u001b[38;5;241m==\u001b[39m \u001b[38;5;28mbool\u001b[39m:\n",
      "File \u001b[0;32m~/.local/lib/python3.10/site-packages/pandas/core/indexes/base.py:5877\u001b[0m, in \u001b[0;36mIndex._get_indexer_strict\u001b[0;34m(self, key, axis_name)\u001b[0m\n\u001b[1;32m   5874\u001b[0m \u001b[38;5;28;01melse\u001b[39;00m:\n\u001b[1;32m   5875\u001b[0m     keyarr, indexer, new_indexer \u001b[38;5;241m=\u001b[39m \u001b[38;5;28mself\u001b[39m\u001b[38;5;241m.\u001b[39m_reindex_non_unique(keyarr)\n\u001b[0;32m-> 5877\u001b[0m \u001b[38;5;28;43mself\u001b[39;49m\u001b[38;5;241;43m.\u001b[39;49m\u001b[43m_raise_if_missing\u001b[49m\u001b[43m(\u001b[49m\u001b[43mkeyarr\u001b[49m\u001b[43m,\u001b[49m\u001b[43m \u001b[49m\u001b[43mindexer\u001b[49m\u001b[43m,\u001b[49m\u001b[43m \u001b[49m\u001b[43maxis_name\u001b[49m\u001b[43m)\u001b[49m\n\u001b[1;32m   5879\u001b[0m keyarr \u001b[38;5;241m=\u001b[39m \u001b[38;5;28mself\u001b[39m\u001b[38;5;241m.\u001b[39mtake(indexer)\n\u001b[1;32m   5880\u001b[0m \u001b[38;5;28;01mif\u001b[39;00m \u001b[38;5;28misinstance\u001b[39m(key, Index):\n\u001b[1;32m   5881\u001b[0m     \u001b[38;5;66;03m# GH 42790 - Preserve name from an Index\u001b[39;00m\n",
      "File \u001b[0;32m~/.local/lib/python3.10/site-packages/pandas/core/indexes/base.py:5941\u001b[0m, in \u001b[0;36mIndex._raise_if_missing\u001b[0;34m(self, key, indexer, axis_name)\u001b[0m\n\u001b[1;32m   5938\u001b[0m     \u001b[38;5;28;01mraise\u001b[39;00m \u001b[38;5;167;01mKeyError\u001b[39;00m(\u001b[38;5;124mf\u001b[39m\u001b[38;5;124m\"\u001b[39m\u001b[38;5;124mNone of [\u001b[39m\u001b[38;5;132;01m{\u001b[39;00mkey\u001b[38;5;132;01m}\u001b[39;00m\u001b[38;5;124m] are in the [\u001b[39m\u001b[38;5;132;01m{\u001b[39;00maxis_name\u001b[38;5;132;01m}\u001b[39;00m\u001b[38;5;124m]\u001b[39m\u001b[38;5;124m\"\u001b[39m)\n\u001b[1;32m   5940\u001b[0m not_found \u001b[38;5;241m=\u001b[39m \u001b[38;5;28mlist\u001b[39m(ensure_index(key)[missing_mask\u001b[38;5;241m.\u001b[39mnonzero()[\u001b[38;5;241m0\u001b[39m]]\u001b[38;5;241m.\u001b[39munique())\n\u001b[0;32m-> 5941\u001b[0m \u001b[38;5;28;01mraise\u001b[39;00m \u001b[38;5;167;01mKeyError\u001b[39;00m(\u001b[38;5;124mf\u001b[39m\u001b[38;5;124m\"\u001b[39m\u001b[38;5;132;01m{\u001b[39;00mnot_found\u001b[38;5;132;01m}\u001b[39;00m\u001b[38;5;124m not in index\u001b[39m\u001b[38;5;124m\"\u001b[39m)\n",
      "\u001b[0;31mKeyError\u001b[0m: \"['tid', 'sid', 'brightness', 'e_brightness', 'unit'] not in index\""
     ]
    }
   ],
   "source": [
    "df_xmatch[[\"candid\",\n",
    "            \"tid\",\n",
    "            \"mjd\",\n",
    "            \"sid\",\n",
    "            \"fid\",\n",
    "            \"pid\",\n",
    "            \"ra\",\n",
    "            \"dec\",\n",
    "            \"brightness\",\n",
    "            \"e_brightness\",\n",
    "            \"unit\",]]"
   ]
  },
  {
   "cell_type": "code",
   "execution_count": 15,
   "metadata": {},
   "outputs": [],
   "source": [
    "df_xmatch.drop_duplicates()\n",
    "\n",
    "df_xmatch\n",
    "df_xmatch.to_parquet(f'{core_path}/oids_new_detections.parquet')"
   ]
  },
  {
   "cell_type": "code",
   "execution_count": 104,
   "metadata": {},
   "outputs": [],
   "source": [
    "query = \"\"\"\t\n",
    "\tEXPLAIN \n",
    "\tSELECT oid, ndet, mjdstarthist, mjdendhist \n",
    "\tFROM alerce.\"object\" o\n",
    "\tWHERE mjdstarthist > {mjd_per_month[i]} AND mjdstarthist < {mjd_per_month[i+1]};\n",
    "\n",
    "    \"\"\""
   ]
  },
  {
   "cell_type": "code",
   "execution_count": 107,
   "metadata": {},
   "outputs": [],
   "source": [
    "conn.close()\n"
   ]
  }
 ],
 "metadata": {
  "kernelspec": {
   "display_name": "Python 3",
   "language": "python",
   "name": "python3"
  },
  "language_info": {
   "codemirror_mode": {
    "name": "ipython",
    "version": 3
   },
   "file_extension": ".py",
   "mimetype": "text/x-python",
   "name": "python",
   "nbconvert_exporter": "python",
   "pygments_lexer": "ipython3",
   "version": "3.10.12"
  }
 },
 "nbformat": 4,
 "nbformat_minor": 2
}
