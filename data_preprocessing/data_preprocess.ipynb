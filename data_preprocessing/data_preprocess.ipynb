{
 "cells": [
  {
   "cell_type": "code",
   "execution_count": 1,
   "metadata": {},
   "outputs": [],
   "source": [
    "import pandas as pd"
   ]
  },
  {
   "cell_type": "code",
   "execution_count": 2,
   "metadata": {},
   "outputs": [],
   "source": []
  },
  {
   "cell_type": "code",
   "execution_count": null,
   "metadata": {},
   "outputs": [],
   "source": []
  },
  {
   "cell_type": "code",
   "execution_count": 7,
   "metadata": {},
   "outputs": [
    {
     "ename": "ImportError",
     "evalue": "attempted relative import with no known parent package",
     "output_type": "error",
     "traceback": [
      "\u001b[0;31m---------------------------------------------------------------------------\u001b[0m",
      "\u001b[0;31mImportError\u001b[0m                               Traceback (most recent call last)",
      "Cell \u001b[0;32mIn[7], line 2\u001b[0m\n\u001b[1;32m      1\u001b[0m \u001b[38;5;28;01mimport\u001b[39;00m \u001b[38;5;21;01mpandas\u001b[39;00m \u001b[38;5;28;01mas\u001b[39;00m \u001b[38;5;21;01mpd\u001b[39;00m\n\u001b[0;32m----> 2\u001b[0m \u001b[38;5;28;01mfrom\u001b[39;00m \u001b[38;5;21;01m.\u001b[39;00m\u001b[38;5;21;01mlc_classifier\u001b[39;00m\u001b[38;5;21;01m.\u001b[39;00m\u001b[38;5;21;01mfeatures\u001b[39;00m\u001b[38;5;21;01m.\u001b[39;00m\u001b[38;5;21;01mpreprocess\u001b[39;00m\u001b[38;5;21;01m.\u001b[39;00m\u001b[38;5;21;01mztf\u001b[39;00m \u001b[38;5;28;01mimport\u001b[39;00m (\n\u001b[1;32m      3\u001b[0m     ZTFLightcurvePreprocessor,\n\u001b[1;32m      4\u001b[0m     ShortenPreprocessor,\n\u001b[1;32m      5\u001b[0m )\n\u001b[1;32m      6\u001b[0m \u001b[38;5;28;01mfrom\u001b[39;00m \u001b[38;5;21;01mlc_classifier\u001b[39;00m\u001b[38;5;21;01m.\u001b[39;00m\u001b[38;5;21;01mfeatures\u001b[39;00m\u001b[38;5;21;01m.\u001b[39;00m\u001b[38;5;21;01mcomposites\u001b[39;00m\u001b[38;5;21;01m.\u001b[39;00m\u001b[38;5;21;01mztf\u001b[39;00m \u001b[38;5;28;01mimport\u001b[39;00m ZTFFeatureExtractor\n\u001b[1;32m      7\u001b[0m \u001b[38;5;28;01mfrom\u001b[39;00m \u001b[38;5;21;01mlc_classifier\u001b[39;00m\u001b[38;5;21;01m.\u001b[39;00m\u001b[38;5;21;01mfeatures\u001b[39;00m\u001b[38;5;21;01m.\u001b[39;00m\u001b[38;5;21;01mcore\u001b[39;00m\u001b[38;5;21;01m.\u001b[39;00m\u001b[38;5;21;01mbase\u001b[39;00m \u001b[38;5;28;01mimport\u001b[39;00m astro_object_from_dict\n",
      "\u001b[0;31mImportError\u001b[0m: attempted relative import with no known parent package"
     ]
    }
   ],
   "source": [
    "import pandas as pd\n",
    "from .lc_classifier.features.preprocess.ztf import (\n",
    "    ZTFLightcurvePreprocessor,\n",
    "    ShortenPreprocessor,\n",
    ")\n",
    "from lc_classifier.features.composites.ztf import ZTFFeatureExtractor\n",
    "from lc_classifier.features.core.base import astro_object_from_dict\n",
    "from lc_classifier.features.core.base import save_batch\n",
    "def extract_features(\n",
    "    batch_id, ao_filename, shorten_n_days=None, skip_if_output_exists=False\n",
    "):\n",
    "    \n",
    "\n",
    "    output_filename = os.path.join(\n",
    "        output_folder, f\"astro_objects_batch_{shorten_n_days}_{batch_id:04}.pkl\"\n",
    "    )\n",
    "\n",
    "    if skip_if_output_exists and os.path.exists(output_filename):\n",
    "        return\n",
    "\n",
    "    batch_astro_objects = pd.read_pickle(os.path.join(folder, ao_filename))\n",
    "    batch_astro_objects = [astro_object_from_dict(d) for d in batch_astro_objects]\n",
    "\n",
    "    lightcurve_preprocessor = ZTFLightcurvePreprocessor()\n",
    "    lightcurve_preprocessor.preprocess_batch(batch_astro_objects)\n",
    "    if shorten_n_days is not None:\n",
    "        shorten_preprocessor = ShortenPreprocessor(shorten_n_days)\n",
    "        shorten_preprocessor.preprocess_batch(batch_astro_objects)\n",
    "\n",
    "    feature_extractor = ZTFFeatureExtractor()\n",
    "    feature_extractor.compute_features_batch(batch_astro_objects, progress_bar=False)\n",
    "\n",
    "    save_batch(batch_astro_objects, output_filename)\n",
    "\n"
   ]
  }
 ],
 "metadata": {
  "kernelspec": {
   "display_name": "Python 3",
   "language": "python",
   "name": "python3"
  },
  "language_info": {
   "codemirror_mode": {
    "name": "ipython",
    "version": 3
   },
   "file_extension": ".py",
   "mimetype": "text/x-python",
   "name": "python",
   "nbconvert_exporter": "python",
   "pygments_lexer": "ipython3",
   "version": "3.10.12"
  }
 },
 "nbformat": 4,
 "nbformat_minor": 2
}
