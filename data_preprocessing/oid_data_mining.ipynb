{
 "cells": [
  {
   "cell_type": "code",
   "execution_count": 2,
   "metadata": {},
   "outputs": [
    {
     "name": "stdout",
     "output_type": "stream",
     "text": [
      "Requirement already satisfied: alerce in /home/magdalena/miniconda3/envs/dataset/lib/python3.11/site-packages (1.2.0)\n",
      "Requirement already satisfied: pandas>=1.1.2 in /home/magdalena/miniconda3/envs/dataset/lib/python3.11/site-packages (from alerce) (2.2.0)\n",
      "Requirement already satisfied: astropy>=4.0.1 in /home/magdalena/miniconda3/envs/dataset/lib/python3.11/site-packages (from alerce) (6.1.4)\n",
      "Requirement already satisfied: requests>=2.24.0 in /home/magdalena/miniconda3/envs/dataset/lib/python3.11/site-packages (from alerce) (2.32.3)\n",
      "Requirement already satisfied: numpy>=1.23 in /home/magdalena/miniconda3/envs/dataset/lib/python3.11/site-packages (from astropy>=4.0.1->alerce) (1.24.3)\n",
      "Requirement already satisfied: pyerfa>=2.0.1.1 in /home/magdalena/miniconda3/envs/dataset/lib/python3.11/site-packages (from astropy>=4.0.1->alerce) (2.0.1.4)\n",
      "Requirement already satisfied: astropy-iers-data>=0.2024.8.27.10.28.29 in /home/magdalena/miniconda3/envs/dataset/lib/python3.11/site-packages (from astropy>=4.0.1->alerce) (0.2024.10.14.0.32.55)\n",
      "Requirement already satisfied: PyYAML>=3.13 in /home/magdalena/miniconda3/envs/dataset/lib/python3.11/site-packages (from astropy>=4.0.1->alerce) (6.0.2)\n",
      "Requirement already satisfied: packaging>=19.0 in /home/magdalena/miniconda3/envs/dataset/lib/python3.11/site-packages (from astropy>=4.0.1->alerce) (24.1)\n",
      "Requirement already satisfied: python-dateutil>=2.8.2 in /home/magdalena/miniconda3/envs/dataset/lib/python3.11/site-packages (from pandas>=1.1.2->alerce) (2.9.0)\n",
      "Requirement already satisfied: pytz>=2020.1 in /home/magdalena/miniconda3/envs/dataset/lib/python3.11/site-packages (from pandas>=1.1.2->alerce) (2024.2)\n",
      "Requirement already satisfied: tzdata>=2022.7 in /home/magdalena/miniconda3/envs/dataset/lib/python3.11/site-packages (from pandas>=1.1.2->alerce) (2024.2)\n",
      "Requirement already satisfied: charset-normalizer<4,>=2 in /home/magdalena/miniconda3/envs/dataset/lib/python3.11/site-packages (from requests>=2.24.0->alerce) (3.4.0)\n",
      "Requirement already satisfied: idna<4,>=2.5 in /home/magdalena/miniconda3/envs/dataset/lib/python3.11/site-packages (from requests>=2.24.0->alerce) (3.10)\n",
      "Requirement already satisfied: urllib3<3,>=1.21.1 in /home/magdalena/miniconda3/envs/dataset/lib/python3.11/site-packages (from requests>=2.24.0->alerce) (2.2.3)\n",
      "Requirement already satisfied: certifi>=2017.4.17 in /home/magdalena/miniconda3/envs/dataset/lib/python3.11/site-packages (from requests>=2.24.0->alerce) (2024.8.30)\n",
      "Requirement already satisfied: six>=1.5 in /home/magdalena/miniconda3/envs/dataset/lib/python3.11/site-packages (from python-dateutil>=2.8.2->pandas>=1.1.2->alerce) (1.16.0)\n"
     ]
    }
   ],
   "source": [
    "!pip install alerce\n"
   ]
  },
  {
   "cell_type": "code",
   "execution_count": 3,
   "metadata": {},
   "outputs": [],
   "source": [
    "import pandas as pd\n",
    "import numpy as np\n",
    "from alerce.core import Alerce  \n",
    "import os\n",
    "import glob\n",
    "import os"
   ]
  },
  {
   "cell_type": "markdown",
   "metadata": {},
   "source": [
    "Collect oids pulled from ALeRCE by year of first observation"
   ]
  },
  {
   "cell_type": "code",
   "execution_count": 10,
   "metadata": {},
   "outputs": [
    {
     "name": "stdout",
     "output_type": "stream",
     "text": [
      "364\n"
     ]
    }
   ],
   "source": [
    "#years = [2020,2021]\n",
    "years = [\n",
    "        #2016,\n",
    "        # 2017,\n",
    "        # 2018,\n",
    "         2019,\n",
    "         2020,\n",
    "         2021\n",
    "         ,2023\n",
    "         #,2024\n",
    "         ]\n",
    "years = [2019]\n",
    "core_path = '/home/magdalena/Desktop/magister/SSL_DATASET/ZTF_SSL_Dataset'\n",
    "parquets = []\n",
    "for year in years:\n",
    "    # Create a directory for the year\n",
    "    year_dir = os.path.join(core_path, str(year))\n",
    "    # Find the latest processed MJD\n",
    "    existing_files = glob.glob(os.path.join(year_dir, 'oids_*.parquet'))\n",
    "    print(len(existing_files))\n",
    "    for file in existing_files:\n",
    "        parquets.append(file)\n",
    "    #print(existing_files)"
   ]
  },
  {
   "cell_type": "markdown",
   "metadata": {},
   "source": [
    "Concatenate all colected oids into a single df"
   ]
  },
  {
   "cell_type": "code",
   "execution_count": 11,
   "metadata": {},
   "outputs": [],
   "source": [
    "dfs = [pd.read_parquet(file) for file in parquets]\n",
    "\n",
    "'''\n",
    "for i in range(len(years)):\n",
    "    print(i)\n",
    "    for j in range(len(dfs)):\n",
    "        dfs[j]['year'] = str(years[i]) \n",
    "    #print(dfs[i])\n",
    "'''\n",
    "# Concatenate all DataFrames\n",
    "combined_df = pd.concat(dfs, ignore_index=False)"
   ]
  },
  {
   "cell_type": "code",
   "execution_count": 12,
   "metadata": {},
   "outputs": [
    {
     "data": {
      "text/html": [
       "<div>\n",
       "<style scoped>\n",
       "    .dataframe tbody tr th:only-of-type {\n",
       "        vertical-align: middle;\n",
       "    }\n",
       "\n",
       "    .dataframe tbody tr th {\n",
       "        vertical-align: top;\n",
       "    }\n",
       "\n",
       "    .dataframe thead th {\n",
       "        text-align: right;\n",
       "    }\n",
       "</style>\n",
       "<table border=\"1\" class=\"dataframe\">\n",
       "  <thead>\n",
       "    <tr style=\"text-align: right;\">\n",
       "      <th></th>\n",
       "      <th>ndet</th>\n",
       "    </tr>\n",
       "    <tr>\n",
       "      <th>oid</th>\n",
       "      <th></th>\n",
       "    </tr>\n",
       "  </thead>\n",
       "  <tbody>\n",
       "    <tr>\n",
       "      <th>ZTF20acvpfij</th>\n",
       "      <td>2</td>\n",
       "    </tr>\n",
       "    <tr>\n",
       "      <th>ZTF20acvyxjb</th>\n",
       "      <td>1</td>\n",
       "    </tr>\n",
       "    <tr>\n",
       "      <th>ZTF21abbcxnt</th>\n",
       "      <td>2</td>\n",
       "    </tr>\n",
       "    <tr>\n",
       "      <th>ZTF20acwgsbu</th>\n",
       "      <td>1</td>\n",
       "    </tr>\n",
       "    <tr>\n",
       "      <th>ZTF20acxidyo</th>\n",
       "      <td>2</td>\n",
       "    </tr>\n",
       "    <tr>\n",
       "      <th>...</th>\n",
       "      <td>...</td>\n",
       "    </tr>\n",
       "    <tr>\n",
       "      <th>ZTF19ablrvjh</th>\n",
       "      <td>2</td>\n",
       "    </tr>\n",
       "    <tr>\n",
       "      <th>ZTF22aaxmhkt</th>\n",
       "      <td>1</td>\n",
       "    </tr>\n",
       "    <tr>\n",
       "      <th>ZTF20abgggfc</th>\n",
       "      <td>1</td>\n",
       "    </tr>\n",
       "    <tr>\n",
       "      <th>ZTF19abkcffh</th>\n",
       "      <td>35</td>\n",
       "    </tr>\n",
       "    <tr>\n",
       "      <th>ZTF21aalkpfp</th>\n",
       "      <td>4</td>\n",
       "    </tr>\n",
       "  </tbody>\n",
       "</table>\n",
       "<p>18132492 rows × 1 columns</p>\n",
       "</div>"
      ],
      "text/plain": [
       "             ndet\n",
       "oid              \n",
       "ZTF20acvpfij    2\n",
       "ZTF20acvyxjb    1\n",
       "ZTF21abbcxnt    2\n",
       "ZTF20acwgsbu    1\n",
       "ZTF20acxidyo    2\n",
       "...           ...\n",
       "ZTF19ablrvjh    2\n",
       "ZTF22aaxmhkt    1\n",
       "ZTF20abgggfc    1\n",
       "ZTF19abkcffh   35\n",
       "ZTF21aalkpfp    4\n",
       "\n",
       "[18132492 rows x 1 columns]"
      ]
     },
     "metadata": {},
     "output_type": "display_data"
    }
   ],
   "source": [
    "display(combined_df)"
   ]
  },
  {
   "cell_type": "markdown",
   "metadata": {},
   "source": [
    "Select oids with ndets>2"
   ]
  },
  {
   "cell_type": "code",
   "execution_count": 13,
   "metadata": {},
   "outputs": [
    {
     "data": {
      "text/html": [
       "<div>\n",
       "<style scoped>\n",
       "    .dataframe tbody tr th:only-of-type {\n",
       "        vertical-align: middle;\n",
       "    }\n",
       "\n",
       "    .dataframe tbody tr th {\n",
       "        vertical-align: top;\n",
       "    }\n",
       "\n",
       "    .dataframe thead th {\n",
       "        text-align: right;\n",
       "    }\n",
       "</style>\n",
       "<table border=\"1\" class=\"dataframe\">\n",
       "  <thead>\n",
       "    <tr style=\"text-align: right;\">\n",
       "      <th></th>\n",
       "      <th>ndet</th>\n",
       "    </tr>\n",
       "    <tr>\n",
       "      <th>oid</th>\n",
       "      <th></th>\n",
       "    </tr>\n",
       "  </thead>\n",
       "  <tbody>\n",
       "    <tr>\n",
       "      <th>ZTF18abkpspu</th>\n",
       "      <td>11</td>\n",
       "    </tr>\n",
       "    <tr>\n",
       "      <th>ZTF19abzbsue</th>\n",
       "      <td>4</td>\n",
       "    </tr>\n",
       "    <tr>\n",
       "      <th>ZTF19abzcyed</th>\n",
       "      <td>6</td>\n",
       "    </tr>\n",
       "    <tr>\n",
       "      <th>ZTF19abzcnij</th>\n",
       "      <td>5</td>\n",
       "    </tr>\n",
       "    <tr>\n",
       "      <th>ZTF19abzczag</th>\n",
       "      <td>3</td>\n",
       "    </tr>\n",
       "    <tr>\n",
       "      <th>...</th>\n",
       "      <td>...</td>\n",
       "    </tr>\n",
       "    <tr>\n",
       "      <th>ZTF18abxzdxy</th>\n",
       "      <td>6</td>\n",
       "    </tr>\n",
       "    <tr>\n",
       "      <th>ZTF18abepoeh</th>\n",
       "      <td>3</td>\n",
       "    </tr>\n",
       "    <tr>\n",
       "      <th>ZTF19abjjxhk</th>\n",
       "      <td>3</td>\n",
       "    </tr>\n",
       "    <tr>\n",
       "      <th>ZTF19abkcffh</th>\n",
       "      <td>35</td>\n",
       "    </tr>\n",
       "    <tr>\n",
       "      <th>ZTF21aalkpfp</th>\n",
       "      <td>4</td>\n",
       "    </tr>\n",
       "  </tbody>\n",
       "</table>\n",
       "<p>3258811 rows × 1 columns</p>\n",
       "</div>"
      ],
      "text/plain": [
       "             ndet\n",
       "oid              \n",
       "ZTF18abkpspu   11\n",
       "ZTF19abzbsue    4\n",
       "ZTF19abzcyed    6\n",
       "ZTF19abzcnij    5\n",
       "ZTF19abzczag    3\n",
       "...           ...\n",
       "ZTF18abxzdxy    6\n",
       "ZTF18abepoeh    3\n",
       "ZTF19abjjxhk    3\n",
       "ZTF19abkcffh   35\n",
       "ZTF21aalkpfp    4\n",
       "\n",
       "[3258811 rows x 1 columns]"
      ]
     },
     "metadata": {},
     "output_type": "display_data"
    }
   ],
   "source": [
    "#nomjd = combined_df.drop(columns = 'mjdstarthist')\n",
    "nomjd = combined_df\n",
    "nomjd = nomjd[nomjd['ndet']> 2]\n",
    "display(nomjd)"
   ]
  },
  {
   "cell_type": "markdown",
   "metadata": {},
   "source": [
    "Select oids with ndet>6"
   ]
  },
  {
   "cell_type": "code",
   "execution_count": 14,
   "metadata": {},
   "outputs": [
    {
     "data": {
      "text/html": [
       "<div>\n",
       "<style scoped>\n",
       "    .dataframe tbody tr th:only-of-type {\n",
       "        vertical-align: middle;\n",
       "    }\n",
       "\n",
       "    .dataframe tbody tr th {\n",
       "        vertical-align: top;\n",
       "    }\n",
       "\n",
       "    .dataframe thead th {\n",
       "        text-align: right;\n",
       "    }\n",
       "</style>\n",
       "<table border=\"1\" class=\"dataframe\">\n",
       "  <thead>\n",
       "    <tr style=\"text-align: right;\">\n",
       "      <th></th>\n",
       "      <th>ndet</th>\n",
       "    </tr>\n",
       "    <tr>\n",
       "      <th>oid</th>\n",
       "      <th></th>\n",
       "    </tr>\n",
       "  </thead>\n",
       "  <tbody>\n",
       "    <tr>\n",
       "      <th>ZTF18abkpspu</th>\n",
       "      <td>11</td>\n",
       "    </tr>\n",
       "    <tr>\n",
       "      <th>ZTF19abzehkt</th>\n",
       "      <td>7</td>\n",
       "    </tr>\n",
       "    <tr>\n",
       "      <th>ZTF19abzezoj</th>\n",
       "      <td>8</td>\n",
       "    </tr>\n",
       "    <tr>\n",
       "      <th>ZTF19abzeind</th>\n",
       "      <td>7</td>\n",
       "    </tr>\n",
       "    <tr>\n",
       "      <th>ZTF19abzdskd</th>\n",
       "      <td>8</td>\n",
       "    </tr>\n",
       "    <tr>\n",
       "      <th>...</th>\n",
       "      <td>...</td>\n",
       "    </tr>\n",
       "    <tr>\n",
       "      <th>ZTF19abfyxnb</th>\n",
       "      <td>14</td>\n",
       "    </tr>\n",
       "    <tr>\n",
       "      <th>ZTF19abcteqo</th>\n",
       "      <td>8</td>\n",
       "    </tr>\n",
       "    <tr>\n",
       "      <th>ZTF19abdozvr</th>\n",
       "      <td>7</td>\n",
       "    </tr>\n",
       "    <tr>\n",
       "      <th>ZTF19abfnxhp</th>\n",
       "      <td>42</td>\n",
       "    </tr>\n",
       "    <tr>\n",
       "      <th>ZTF19abkcffh</th>\n",
       "      <td>35</td>\n",
       "    </tr>\n",
       "  </tbody>\n",
       "</table>\n",
       "<p>962640 rows × 1 columns</p>\n",
       "</div>"
      ],
      "text/plain": [
       "             ndet\n",
       "oid              \n",
       "ZTF18abkpspu   11\n",
       "ZTF19abzehkt    7\n",
       "ZTF19abzezoj    8\n",
       "ZTF19abzeind    7\n",
       "ZTF19abzdskd    8\n",
       "...           ...\n",
       "ZTF19abfyxnb   14\n",
       "ZTF19abcteqo    8\n",
       "ZTF19abdozvr    7\n",
       "ZTF19abfnxhp   42\n",
       "ZTF19abkcffh   35\n",
       "\n",
       "[962640 rows x 1 columns]"
      ]
     },
     "metadata": {},
     "output_type": "display_data"
    }
   ],
   "source": [
    "#nomjd = combined_df.drop(columns = 'mjdstarthist')\n",
    "nomjd = nomjd[nomjd['ndet']> 6]\n",
    "display(nomjd)"
   ]
  },
  {
   "cell_type": "code",
   "execution_count": 15,
   "metadata": {},
   "outputs": [],
   "source": [
    "#nomjd.to_parquet(f'{core_path}/2020_oids.parquet')"
   ]
  },
  {
   "cell_type": "markdown",
   "metadata": {},
   "source": [
    "Save df by chunks for further processing"
   ]
  },
  {
   "cell_type": "code",
   "execution_count": 6,
   "metadata": {},
   "outputs": [
    {
     "data": {
      "text/plain": [
       "\"\\nn_chunks = 8\\nchunks = np.array_split(nomjd,n_chunks)\\nfor i in range(n_chunks):\\n    chunks[i].to_parquet(f'{core_path}/sixplusdets_oids_{i}.parquet')\\n\""
      ]
     },
     "execution_count": 6,
     "metadata": {},
     "output_type": "execute_result"
    }
   ],
   "source": [
    "'''\n",
    "n_chunks = 8\n",
    "chunks = np.array_split(nomjd,n_chunks)\n",
    "for i in range(n_chunks):\n",
    "    chunks[i].to_parquet(f'{core_path}/sixplusdets_oids_{i}.parquet')\n",
    "'''\n"
   ]
  }
 ],
 "metadata": {
  "kernelspec": {
   "display_name": "Python 3",
   "language": "python",
   "name": "python3"
  },
  "language_info": {
   "codemirror_mode": {
    "name": "ipython",
    "version": 3
   },
   "file_extension": ".py",
   "mimetype": "text/x-python",
   "name": "python",
   "nbconvert_exporter": "python",
   "pygments_lexer": "ipython3",
   "version": "undefined.undefined.undefined"
  }
 },
 "nbformat": 4,
 "nbformat_minor": 2
}
