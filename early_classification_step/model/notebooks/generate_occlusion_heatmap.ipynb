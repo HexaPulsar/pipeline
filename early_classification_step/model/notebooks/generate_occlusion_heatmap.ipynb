{
 "cells": [
  {
   "cell_type": "code",
   "execution_count": 3,
   "metadata": {
    "collapsed": true,
    "pycharm": {
     "is_executing": false
    }
   },
   "outputs": [],
   "source": [
    "import os\n",
    "import sys\n",
    "\n",
    "PROJECT_PATH = os.path.abspath(\n",
    "    os.path.join(os.path.dirname('__file__'), '..'))\n",
    "sys.path.append(PROJECT_PATH)\n",
    "from models.classifiers.deepHits_4class_nans_norm_stamp_model import \\\n",
    "  DeepHiTS4ClassModelNanNormStamp\n",
    "from modules.occlusion_generator import OcclusionGenerator\n",
    "import numpy as np\n",
    "import matplotlib.pyplot as plt\n",
    "import pandas as pd\n",
    "from parameters import general_keys, param_keys\n"
   ]
  },
  {
   "cell_type": "code",
   "execution_count": 4,
   "outputs": [
    {
     "name": "stdout",
     "text": [
      "WARNING:tensorflow:From /home/ereyes/anaconda3/envs/tf/lib/python3.6/site-packages/tensorflow/python/ops/control_flow_ops.py:3632: colocate_with (from tensorflow.python.framework.ops) is deprecated and will be removed in a future version.\nInstructions for updating:\nColocations handled automatically by placer.\n",
      "WARNING:tensorflow:From /home/ereyes/Projects/Alerce/stamp_classifier/modules/layers.py:218: conv2d (from tensorflow.python.layers.convolutional) is deprecated and will be removed in a future version.\nInstructions for updating:\nUse keras.layers.conv2d instead.\n",
      "WARNING:tensorflow:From /home/ereyes/Projects/Alerce/stamp_classifier/modules/layers.py:297: max_pooling2d (from tensorflow.python.layers.pooling) is deprecated and will be removed in a future version.\nInstructions for updating:\nUse keras.layers.max_pooling2d instead.\n",
      "WARNING:tensorflow:From /home/ereyes/Projects/Alerce/stamp_classifier/modules/networks/deep_hits.py:49: flatten (from tensorflow.python.layers.core) is deprecated and will be removed in a future version.\nInstructions for updating:\nUse keras.layers.flatten instead.\n",
      "WARNING:tensorflow:From /home/ereyes/Projects/Alerce/stamp_classifier/modules/layers.py:64: dense (from tensorflow.python.layers.core) is deprecated and will be removed in a future version.\nInstructions for updating:\nUse keras.layers.dense instead.\n",
      "WARNING:tensorflow:From /home/ereyes/Projects/Alerce/stamp_classifier/modules/layers.py:86: dropout (from tensorflow.python.layers.core) is deprecated and will be removed in a future version.\nInstructions for updating:\nUse keras.layers.dropout instead.\n",
      "WARNING:tensorflow:From /home/ereyes/Projects/Alerce/stamp_classifier/modules/losses.py:52: to_float (from tensorflow.python.ops.math_ops) is deprecated and will be removed in a future version.\nInstructions for updating:\nUse tf.cast instead.\n",
      "WARNING:tensorflow:From /home/ereyes/anaconda3/envs/tf/lib/python3.6/site-packages/tensorflow/python/ops/math_ops.py:3066: to_int32 (from tensorflow.python.ops.math_ops) is deprecated and will be removed in a future version.\nInstructions for updating:\nUse tf.cast instead.\n",
      "WARNING:tensorflow:From /home/ereyes/anaconda3/envs/tf/lib/python3.6/site-packages/tensorflow/python/training/saver.py:1266: checkpoint_exists (from tensorflow.python.training.checkpoint_management) is deprecated and will be removed in a future version.\nInstructions for updating:\nUse standard file APIs to check for files with this prefix.\n",
      "INFO:tensorflow:Restoring parameters from /home/ereyes/Projects/Alerce/stamp_classifier/results/best_model_so_far/checkpoints/model\n",
      "499 misshaped samples removed. \n",
      "3568 samples with NaNs. NaNs replaced with number 0\n"
     ],
     "output_type": "stream"
    }
   ],
   "source": [
    "# data_path = os.path.join(\"../../pickles\", 'training_set_with_bogus.pkl')\n",
    "data_path = \"../../pickles/converted_data.pkl\"\n",
    "checkpoint_path = os.path.join(\n",
    "    PROJECT_PATH, \"results/best_model_so_far/checkpoints\", 'model')\n",
    "\n",
    "params = {\n",
    "  param_keys.DATA_PATH_TRAIN: data_path,\n",
    "  param_keys.NUMBER_OF_CLASSES: 5,\n",
    "  param_keys.KERNEL_SIZE: 3,\n",
    "  param_keys.BATCHNORM_FC: None,\n",
    "  param_keys.BATCHNORM_CONV: None,\n",
    "  param_keys.DROP_RATE: 0.5,\n",
    "  param_keys.BATCH_SIZE: 50,\n",
    "  param_keys.N_INPUT_CHANNELS: 3,\n",
    "  param_keys.CHANNELS_TO_USE: [0, 1, 2],\n",
    "  param_keys.NANS_TO: 0,\n",
    "}\n",
    "\n",
    "model = DeepHiTS4ClassModelNanNormStamp(params)\n",
    "model.load_model(checkpoint_path)\n",
    "train_set, val_set, test_set = model._data_init()\n"
   ],
   "metadata": {
    "collapsed": false,
    "pycharm": {
     "name": "#%% \n",
     "is_executing": false
    }
   }
  },
  {
   "cell_type": "code",
   "execution_count": 5,
   "outputs": [],
   "source": [
    "# this function takes a list of heatmaps and merges them into one single heatmap\n",
    "def post_process(heatmap):\n",
    "    # postprocessing\n",
    "    total = heatmap[0]\n",
    "    for val in heatmap[1:]:\n",
    "        total = total + val\n",
    "    total = total / np.max(total)\n",
    "    return total"
   ],
   "metadata": {
    "collapsed": false,
    "pycharm": {
     "name": "#%%\n",
     "is_executing": false
    }
   }
  },
  {
   "cell_type": "code",
   "execution_count": 6,
   "outputs": [],
   "source": [
    "\n",
    "#### This is the meat of the program. It generates the heatmap for the given image location ####\n",
    "\n",
    "def gen_heatmap(sample, model: DeepHiTS4ClassModelNanNormStamp, box, step, verbose=False):\n",
    "    sample_size = sample.shape[0]\n",
    "    pad_size = box.shape[0]-1\n",
    "    \n",
    "    preds = model.predict_proba(sample[np.newaxis, ...])#[np.newaxis, ...])\n",
    "    pred_class_index = np.argmax(preds[0])\n",
    "    #print(pred_class_index)\n",
    "    #print(preds)\n",
    "    pred_class_proba = preds[0][pred_class_index]\n",
    "\n",
    "    # load correct label text \n",
    "    ztf_labels = ['AGN', 'SN', 'VS', 'asteroid', \"bogus\"]\n",
    "    pred_class_name = ztf_labels[pred_class_index]\n",
    "\n",
    "    # generate occluded images and location of mask\n",
    "\n",
    "    occluder = OcclusionGenerator(sample, box, step)\n",
    "    occluded_sample, occlusion_locations = occluder.gen_minibatch()\n",
    "    occluded_predictions = model.predict_proba(occluded_sample)\n",
    "    \n",
    "    if verbose:\n",
    "      print('processng %i images' % occluded_predictions.shape[0])\n",
    "    heatmap = []\n",
    "    #unpack prediction values \n",
    "    for occluded_sample_idx in range(occluded_sample.shape[0]):\n",
    "        score = occluded_predictions[occluded_sample_idx][pred_class_index]\n",
    "        r,c = occlusion_locations[occluded_sample_idx] \n",
    "        scoremap = np.zeros((sample.shape[0]+pad_size*2, sample.shape[1]+pad_size*2))\n",
    "        #print(r,c,occluder.box_size)\n",
    "        scoremap[r : r+occluder.box_size, c : c+occluder.box_size] = score\n",
    "        # print(scoremap.shape)\n",
    "        scoremap = scoremap[pad_size:pad_size+sample_size, pad_size:pad_size+sample_size]\n",
    "        heatmap.append(scoremap)\n",
    "\n",
    "\n",
    "    return heatmap, pred_class_name, pred_class_proba\n",
    "\n"
   ],
   "metadata": {
    "collapsed": false,
    "pycharm": {
     "name": "#%%\n",
     "is_executing": false
    }
   }
  },
  {
   "cell_type": "code",
   "execution_count": 7,
   "outputs": [],
   "source": [
    "# run the program on sample i\n",
    "sample_i = np.random.randint(train_set.data_array.shape[0])\n",
    "sample = train_set.data_array[sample_i]\n",
    "box_size = 3\n",
    "box_step = 1\n",
    "box = np.ones(\n",
    "    [box_size, box_size, sample.shape[-1]])*np.median(sample, axis=[0,1])\n",
    "\n",
    "heatmapList, pred_name, pred_proba = gen_heatmap(\n",
    "    sample, model, box, box_step)\n",
    "processed_hm = post_process(heatmapList)"
   ],
   "metadata": {
    "collapsed": false,
    "pycharm": {
     "name": "#%%\n",
     "is_executing": false
    }
   }
  },
  {
   "cell_type": "code",
   "execution_count": 8,
   "outputs": [
    {
     "name": "stdout",
     "text": [
      "max  1.0\n0,0  0.9762539248736103\nmin  0.2569099293071976\n31,31  0.2569099293071976\n"
     ],
     "output_type": "stream"
    }
   ],
   "source": [
    "print('max ', processed_hm.max())\n",
    "print('0,0 ', processed_hm[0,0])\n",
    "print('min ', processed_hm.min())\n",
    "print('31,31 ', processed_hm[31,31])"
   ],
   "metadata": {
    "collapsed": false,
    "pycharm": {
     "name": "#%%\n",
     "is_executing": false
    }
   }
  },
  {
   "cell_type": "code",
   "execution_count": 13,
   "outputs": [
    {
     "data": {
      "text/plain": "<Figure size 864x864 with 4 Axes>",
      "image/png": "[encoded data removed]"
     },
     "metadata": {
      "needs_background": "light"
     },
     "output_type": "display_data"
    }
   ],
   "source": [
    "from IPython.display import display\n",
    "%matplotlib inline\n",
    "plt.rcParams['figure.figsize'] = (12, 12)\n",
    "def plot_hm(sample, box, sample_i=None):\n",
    "  heatmapList, pred_name, pred_proba = gen_heatmap(\n",
    "    sample, model, box, box_step)\n",
    "  processed_hm = post_process(heatmapList)\n",
    "  plt.set_cmap('viridis')\n",
    "  for i in range(3):\n",
    "    plt.subplot(1, 4, i+1)\n",
    "    plt.imshow(sample[..., i])\n",
    "    plt.axis(\"off\")\n",
    "    if i==0 and sample_i!=None:\n",
    "      plt.title(\"Sample %i\" % sample_i)\n",
    "  plt.subplot(1,4,4)\n",
    "  plt.imshow(processed_hm)\n",
    "  plt.set_cmap('viridis_r')\n",
    "  plt.axis('off')\n",
    "  plt.title(\"Pred: %s (%.4f)\" % (pred_name, pred_proba))\n",
    "  plt.tight_layout()\n",
    "  plt.show()\n",
    "plot_hm(sample, box)\n"
   ],
   "metadata": {
    "collapsed": false,
    "pycharm": {
     "name": "#%%\n",
     "is_executing": false
    }
   }
  },
  {
   "cell_type": "code",
   "execution_count": 17,
   "outputs": [],
   "source": [
    "box_size = 3\n",
    "box_step = 1\n",
    "box = np.ones(\n",
    "    [box_size, box_size, sample.shape[-1]])*np.median(sample, axis=[0,1])\n",
    "\n",
    "n_samples_to_plot = 20\n",
    "for sample_i in range(n_samples_to_plot):\n",
    "  sample = train_set.data_array[sample_i]\n",
    "  #plot_hm(sample, box, sample_i)\n"
   ],
   "metadata": {
    "collapsed": false,
    "pycharm": {
     "name": "#%%\n",
     "is_executing": false
    }
   }
  },
  {
   "cell_type": "code",
   "execution_count": null,
   "outputs": [],
   "source": [
    "\n"
   ],
   "metadata": {
    "collapsed": false,
    "pycharm": {
     "name": "#%%\n"
    }
   }
  }
 ],
 "metadata": {
  "language_info": {
   "codemirror_mode": {
    "name": "ipython",
    "version": 2
   },
   "file_extension": ".py",
   "mimetype": "text/x-python",
   "name": "python",
   "nbconvert_exporter": "python",
   "pygments_lexer": "ipython2",
   "version": "2.7.6"
  },
  "kernelspec": {
   "name": "python3",
   "language": "python",
   "display_name": "Python 3"
  },
  "pycharm": {
   "stem_cell": {
    "cell_type": "raw",
    "source": [],
    "metadata": {
     "collapsed": false
    }
   }
  }
 },
 "nbformat": 4,
 "nbformat_minor": 0
}