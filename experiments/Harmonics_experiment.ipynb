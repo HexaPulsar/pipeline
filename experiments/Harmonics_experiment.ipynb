{
 "cells": [
  {
   "cell_type": "code",
   "execution_count": 1,
   "metadata": {},
   "outputs": [],
   "source": [
    "import numpy as np\n",
    "import pandas as pd\n",
    "%matplotlib inline\n",
    "import matplotlib.pyplot as plt\n",
    "import turbofats"
   ]
  },
  {
   "cell_type": "markdown",
   "metadata": {},
   "source": [
    "## Create a lightcurve"
   ]
  },
  {
   "cell_type": "code",
   "execution_count": 2,
   "metadata": {},
   "outputs": [],
   "source": [
    "n_samples = 40\n",
    "n_days = 100\n",
    "n_components = 7\n",
    "period = 7.4\n",
    "std = 0.5\n",
    "time = np.random.rand(n_samples) * n_days\n",
    "time.sort()\n",
    "time = time.reshape(-1, 1)\n",
    "cosine_components = np.random.randn(1, n_components) * np.exp(-np.linspace(0, 4, n_components))\n",
    "sine_components = np.random.randn(1, n_components) * np.exp(-np.linspace(0, 4, n_components))\n",
    "bias = np.random.randn(1) * 5\n",
    "\n",
    "time_arg = 2*np.pi*time/(period/np.arange(1, n_components+1).reshape(1, n_components))\n",
    "magnitude = np.sum(cosine_components * np.cos(time_arg) + sine_components * np.sin(time_arg), axis=1) + bias\n",
    "\n",
    "error = np.ones(n_samples)*std + np.random.rand(n_samples)*std*3\n",
    "\n",
    "magnitude += error"
   ]
  },
  {
   "cell_type": "code",
   "execution_count": 3,
   "metadata": {},
   "outputs": [
    {
     "name": "stdout",
     "output_type": "stream",
     "text": [
      "(40, 1) (40,)\n"
     ]
    },
    {
     "data": {
      "text/plain": [
       "<ErrorbarContainer object of 3 artists>"
      ]
     },
     "execution_count": 3,
     "metadata": {},
     "output_type": "execute_result"
    },
    {
     "data": {
      "image/png": "[encoded data removed]",
      "text/plain": [
       "<Figure size 432x288 with 2 Axes>"
      ]
     },
     "metadata": {
      "needs_background": "light"
     },
     "output_type": "display_data"
    }
   ],
   "source": [
    "print(time.shape, magnitude.shape)\n",
    "plt.subplot(2, 1, 1)\n",
    "plt.errorbar(time, magnitude, yerr=error, fmt='*')\n",
    "plt.subplot(2, 1, 2)\n",
    "plt.errorbar(time % period, magnitude, yerr=error, fmt='*')"
   ]
  },
  {
   "cell_type": "code",
   "execution_count": 4,
   "metadata": {},
   "outputs": [],
   "source": [
    "feature_space = turbofats.NewFeatureSpace(feature_list=['PeriodLS_v2', 'Period_fit_v2', 'Harmonics'])"
   ]
  },
  {
   "cell_type": "code",
   "execution_count": 5,
   "metadata": {},
   "outputs": [
    {
     "name": "stdout",
     "output_type": "stream",
     "text": [
      "[ 9.060267   9.072375   9.072394   9.09189    9.133331   9.188656\n",
      "  9.223631   9.28091    9.319971   9.350154   9.365844   9.3916445\n",
      "  9.396765   9.438461   9.491005   9.492975   9.503294   9.586125\n",
      "  9.606044   9.640482   9.657579   9.668729   9.695982   9.715331\n",
      "  9.74061    9.7429695  9.756144   9.758529   9.767673   9.805067\n",
      "  9.854806   9.888103   9.889038   9.900953   9.92519    9.988682\n",
      "  9.989776   9.996125  10.091356  10.118684  10.122951  10.181804\n",
      " 10.270289  10.300608  10.32912   10.346446  10.3558035 10.3788185\n",
      " 10.3879    10.396926  10.399192  10.432555  10.456505  10.540945\n",
      " 10.741738  10.751128  10.974197  10.990708  11.062629  11.067848\n",
      " 11.073316  11.184135  11.278     11.334426  11.504793  11.637545\n",
      " 12.050495  12.628398  12.775152  13.091623  13.172349  13.357381\n",
      " 13.398573  13.6624    14.0049515 14.214692  14.264996  14.357451\n",
      " 14.660521  14.694979  14.932308  15.737201  15.79392   15.808742\n",
      " 16.028828  16.338755  16.382946  16.721611  16.79275   17.055584\n",
      " 17.259943  17.657375  17.722452  17.804577  17.995012  18.33175\n",
      " 18.333797  19.491356  20.017435  20.427515 ]\n"
     ]
    },
    {
     "data": {
      "image/png": "[encoded data removed]",
      "text/plain": [
       "<Figure size 432x288 with 1 Axes>"
      ]
     },
     "metadata": {
      "needs_background": "light"
     },
     "output_type": "display_data"
    }
   ],
   "source": [
    "detections_data = np.stack(\n",
    "    [\n",
    "        time.flatten(),\n",
    "        magnitude.flatten(),\n",
    "        error\n",
    "    ],\n",
    "    axis=-1\n",
    ")\n",
    "detections = pd.DataFrame(\n",
    "    data=detections_data,\n",
    "    columns=['mjd', 'magpsf_corr', 'sigmapsf_corr'],\n",
    "    index=['asdf'] * len(detections_data)\n",
    ")\n",
    "feature_values = feature_space.calculate_features(detections)"
   ]
  },
  {
   "cell_type": "code",
   "execution_count": 6,
   "metadata": {},
   "outputs": [
    {
     "name": "stdout",
     "output_type": "stream",
     "text": [
      "[[-0.02445945  0.35455593 -0.52157299 -0.16845876  0.06778107  0.02097671\n",
      "  -0.00546683]]\n",
      "[[ 0.44398781 -0.48612234 -0.13376353 -0.04047947  0.16188136 -0.11202063\n",
      "  -0.0344589 ]]\n",
      "[[0.44466104 0.601685   0.53845248 0.17325398 0.17549886 0.11396773\n",
      "  0.03488985]]\n"
     ]
    },
    {
     "data": {
      "text/html": [
       "<div>\n",
       "<style scoped>\n",
       "    .dataframe tbody tr th:only-of-type {\n",
       "        vertical-align: middle;\n",
       "    }\n",
       "\n",
       "    .dataframe tbody tr th {\n",
       "        vertical-align: top;\n",
       "    }\n",
       "\n",
       "    .dataframe thead th {\n",
       "        text-align: right;\n",
       "    }\n",
       "</style>\n",
       "<table border=\"1\" class=\"dataframe\">\n",
       "  <thead>\n",
       "    <tr style=\"text-align: right;\">\n",
       "      <th></th>\n",
       "      <th>PeriodLS_v2</th>\n",
       "      <th>Period_fit_v2</th>\n",
       "      <th>Harmonics_mag_1</th>\n",
       "      <th>Harmonics_mag_2</th>\n",
       "      <th>Harmonics_mag_3</th>\n",
       "      <th>Harmonics_mag_4</th>\n",
       "      <th>Harmonics_mag_5</th>\n",
       "      <th>Harmonics_mag_6</th>\n",
       "      <th>Harmonics_mag_7</th>\n",
       "      <th>Harmonics_phase_2</th>\n",
       "      <th>Harmonics_phase_3</th>\n",
       "      <th>Harmonics_phase_4</th>\n",
       "      <th>Harmonics_phase_5</th>\n",
       "      <th>Harmonics_phase_6</th>\n",
       "      <th>Harmonics_phase_7</th>\n",
       "      <th>Harmonics_mse</th>\n",
       "    </tr>\n",
       "    <tr>\n",
       "      <th>oid</th>\n",
       "      <th></th>\n",
       "      <th></th>\n",
       "      <th></th>\n",
       "      <th></th>\n",
       "      <th></th>\n",
       "      <th></th>\n",
       "      <th></th>\n",
       "      <th></th>\n",
       "      <th></th>\n",
       "      <th></th>\n",
       "      <th></th>\n",
       "      <th></th>\n",
       "      <th></th>\n",
       "      <th></th>\n",
       "      <th></th>\n",
       "      <th></th>\n",
       "    </tr>\n",
       "  </thead>\n",
       "  <tbody>\n",
       "    <tr>\n",
       "      <th>asdf</th>\n",
       "      <td>0.072123</td>\n",
       "      <td>0.006581</td>\n",
       "      <td>0.626274</td>\n",
       "      <td>0.500293</td>\n",
       "      <td>0.119416</td>\n",
       "      <td>0.050927</td>\n",
       "      <td>0.332236</td>\n",
       "      <td>0.41472</td>\n",
       "      <td>0.19265</td>\n",
       "      <td>2.794815</td>\n",
       "      <td>0.394713</td>\n",
       "      <td>5.998939</td>\n",
       "      <td>1.144061</td>\n",
       "      <td>0.879005</td>\n",
       "      <td>3.32233</td>\n",
       "      <td>0.38673</td>\n",
       "    </tr>\n",
       "  </tbody>\n",
       "</table>\n",
       "</div>"
      ],
      "text/plain": [
       "      PeriodLS_v2  Period_fit_v2  Harmonics_mag_1  Harmonics_mag_2  \\\n",
       "oid                                                                  \n",
       "asdf     0.072123       0.006581         0.626274         0.500293   \n",
       "\n",
       "      Harmonics_mag_3  Harmonics_mag_4  Harmonics_mag_5  Harmonics_mag_6  \\\n",
       "oid                                                                        \n",
       "asdf         0.119416         0.050927         0.332236          0.41472   \n",
       "\n",
       "      Harmonics_mag_7  Harmonics_phase_2  Harmonics_phase_3  \\\n",
       "oid                                                           \n",
       "asdf          0.19265           2.794815           0.394713   \n",
       "\n",
       "      Harmonics_phase_4  Harmonics_phase_5  Harmonics_phase_6  \\\n",
       "oid                                                             \n",
       "asdf           5.998939           1.144061           0.879005   \n",
       "\n",
       "      Harmonics_phase_7  Harmonics_mse  \n",
       "oid                                     \n",
       "asdf            3.32233        0.38673  "
      ]
     },
     "execution_count": 6,
     "metadata": {},
     "output_type": "execute_result"
    }
   ],
   "source": [
    "print(cosine_components)\n",
    "print(sine_components)\n",
    "print(np.sqrt(cosine_components**2 + sine_components**2))\n",
    "feature_values"
   ]
  },
  {
   "cell_type": "code",
   "execution_count": 7,
   "metadata": {},
   "outputs": [
    {
     "name": "stdout",
     "output_type": "stream",
     "text": [
      "(40, 7)\n"
     ]
    }
   ],
   "source": [
    "reconstructed_period = feature_values['PeriodLS_v2'].values[0]\n",
    "reconstructed_time_arg = 2*np.pi*time/(reconstructed_period/np.arange(1, n_components+1).reshape(1, n_components))\n",
    "print(reconstructed_time_arg.shape)\n",
    "reconstructed_harmonics_mag = np.array([feature_values['Harmonics_mag_%d' % i].values[0] for i in range(1, 8)])\n",
    "reconstructed_harmonics_phase = np.array([0.0] + [feature_values['Harmonics_phase_%d' % i].values[0] for i in range(2, 8)])\n",
    "\n",
    "reconstructed_mag = reconstructed_harmonics_mag.reshape(1, -1)*np.cos(reconstructed_time_arg - reconstructed_harmonics_phase.reshape(1, -1))\n",
    "reconstructed_mag = np.real(np.sum(reconstructed_mag, axis=1) + np.mean(magnitude))"
   ]
  },
  {
   "cell_type": "code",
   "execution_count": 8,
   "metadata": {},
   "outputs": [
    {
     "data": {
      "image/png": "[encoded data removed]",
      "text/plain": [
       "<Figure size 432x288 with 2 Axes>"
      ]
     },
     "metadata": {
      "needs_background": "light"
     },
     "output_type": "display_data"
    }
   ],
   "source": [
    "plt.subplot(2, 1, 1)\n",
    "plt.scatter(time % period, magnitude)\n",
    "plt.scatter((time - 3.0) % period, reconstructed_mag)\n",
    "plt.title(f'periodo original {period} dias')\n",
    "plt.subplot(2, 1, 2)\n",
    "plt.scatter(time % reconstructed_period, magnitude)\n",
    "plt.scatter((time-0.2) % reconstructed_period, reconstructed_mag)\n",
    "plt.title(f'periodo reconstruido {reconstructed_period} dias')\n",
    "\n",
    "plt.tight_layout()"
   ]
  },
  {
   "cell_type": "code",
   "execution_count": null,
   "metadata": {},
   "outputs": [],
   "source": []
  },
  {
   "cell_type": "code",
   "execution_count": 9,
   "metadata": {},
   "outputs": [
    {
     "data": {
      "text/plain": [
       "[<matplotlib.lines.Line2D at 0x7f19da406b38>]"
      ]
     },
     "execution_count": 9,
     "metadata": {},
     "output_type": "execute_result"
    },
    {
     "data": {
      "image/png": "[encoded data removed]",
      "text/plain": [
       "<Figure size 432x288 with 1 Axes>"
      ]
     },
     "metadata": {
      "needs_background": "light"
     },
     "output_type": "display_data"
    }
   ],
   "source": [
    "tt = np.linspace(0, 10, 1000)\n",
    "a = 1.2\n",
    "b = -1.5\n",
    "f = 0.2\n",
    "y = a*np.cos(2*np.pi*f*tt) + b*np.sin(2*np.pi*f*tt)\n",
    "plt.plot(tt, y)\n",
    "m = np.sqrt(a**2 + b**2)\n",
    "phi = np.arctan2(b, a)\n",
    "y2 = m*np.cos(2*np.pi*f*tt-phi)\n",
    "plt.plot(tt, y2)"
   ]
  },
  {
   "cell_type": "code",
   "execution_count": null,
   "metadata": {},
   "outputs": [],
   "source": []
  }
 ],
 "metadata": {
  "kernelspec": {
   "display_name": "Python 3",
   "language": "python",
   "name": "python3"
  },
  "language_info": {
   "codemirror_mode": {
    "name": "ipython",
    "version": 3
   },
   "file_extension": ".py",
   "mimetype": "text/x-python",
   "name": "python",
   "nbconvert_exporter": "python",
   "pygments_lexer": "ipython3",
   "version": "3.6.5"
  }
 },
 "nbformat": 4,
 "nbformat_minor": 2
}
