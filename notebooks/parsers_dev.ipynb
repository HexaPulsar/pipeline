{
 "cells": [
  {
   "cell_type": "code",
   "execution_count": 1,
   "metadata": {
    "ExecuteTime": {
     "end_time": "2021-10-20T14:38:37.577430Z",
     "start_time": "2021-10-20T14:38:37.499755Z"
    }
   },
   "outputs": [],
   "source": [
    "from survey_parser_plugins import ALeRCEParser\n",
    "from survey_parser_plugins.parsers import ZTFParser\n",
    "\n",
    "from fastavro import reader\n",
    "import numpy as np\n",
    "import os"
   ]
  },
  {
   "cell_type": "code",
   "execution_count": 2,
   "metadata": {
    "ExecuteTime": {
     "end_time": "2021-10-20T14:38:37.669009Z",
     "start_time": "2021-10-20T14:38:37.626728Z"
    }
   },
   "outputs": [],
   "source": [
    "def get_content(file_path):\n",
    "    with open(file_path, \"rb\") as f:\n",
    "        content = reader(f).next()\n",
    "    return content"
   ]
  },
  {
   "cell_type": "code",
   "execution_count": 3,
   "metadata": {
    "ExecuteTime": {
     "end_time": "2021-10-20T14:38:37.772052Z",
     "start_time": "2021-10-20T14:38:37.770492Z"
    }
   },
   "outputs": [],
   "source": [
    "SAMPLES_BY_SURVEY = 100"
   ]
  },
  {
   "cell_type": "code",
   "execution_count": 4,
   "metadata": {
    "ExecuteTime": {
     "end_time": "2021-10-20T14:38:38.179740Z",
     "start_time": "2021-10-20T14:38:38.176254Z"
    }
   },
   "outputs": [],
   "source": [
    "atlas_sample_path = \"data/ATLAS_samples/\"\n",
    "atlas_sample = [get_content(os.path.join(atlas_sample_path, f)) for f in os.listdir(atlas_sample_path)]\n",
    "atlas_sample = list(np.random.choice(atlas_sample, SAMPLES_BY_SURVEY))"
   ]
  },
  {
   "cell_type": "code",
   "execution_count": 5,
   "metadata": {
    "ExecuteTime": {
     "end_time": "2021-10-20T14:38:38.884378Z",
     "start_time": "2021-10-20T14:38:38.838991Z"
    }
   },
   "outputs": [],
   "source": [
    "ztf_sample_path = \"data/ZTF_samples/\"\n",
    "ztf_sample = [get_content(os.path.join(ztf_sample_path, f)) for f in os.listdir(ztf_sample_path)]\n",
    "ztf_sample = list(np.random.choice(ztf_sample, SAMPLES_BY_SURVEY))"
   ]
  },
  {
   "cell_type": "code",
   "execution_count": 6,
   "metadata": {
    "ExecuteTime": {
     "end_time": "2021-10-20T14:38:39.227121Z",
     "start_time": "2021-10-20T14:38:39.207488Z"
    }
   },
   "outputs": [],
   "source": [
    "decat_sample_path = \"data/DECAT_samples/\"\n",
    "decat_sample = [get_content(os.path.join(decat_sample_path, f)) for f in os.listdir(decat_sample_path)]\n",
    "decat_sample = list(np.random.choice(decat_sample, SAMPLES_BY_SURVEY))"
   ]
  },
  {
   "cell_type": "code",
   "execution_count": 7,
   "metadata": {
    "ExecuteTime": {
     "end_time": "2021-10-20T14:38:43.774786Z",
     "start_time": "2021-10-20T14:38:43.773239Z"
    }
   },
   "outputs": [],
   "source": [
    "parser = ALeRCEParser()"
   ]
  },
  {
   "cell_type": "code",
   "execution_count": 8,
   "metadata": {
    "ExecuteTime": {
     "end_time": "2021-10-20T14:38:44.114192Z",
     "start_time": "2021-10-20T14:38:44.112360Z"
    }
   },
   "outputs": [],
   "source": [
    "sample = atlas_sample + ztf_sample"
   ]
  },
  {
   "cell_type": "code",
   "execution_count": 9,
   "metadata": {
    "ExecuteTime": {
     "end_time": "2021-10-20T14:38:48.766658Z",
     "start_time": "2021-10-20T14:38:48.754056Z"
    }
   },
   "outputs": [],
   "source": [
    "response = parser.parse(sample)"
   ]
  },
  {
   "cell_type": "code",
   "execution_count": 10,
   "metadata": {
    "ExecuteTime": {
     "end_time": "2021-10-20T14:38:52.726152Z",
     "start_time": "2021-10-20T14:38:52.571662Z"
    }
   },
   "outputs": [],
   "source": [
    "import pandas as pd"
   ]
  },
  {
   "cell_type": "code",
   "execution_count": 11,
   "metadata": {
    "ExecuteTime": {
     "end_time": "2021-10-20T14:38:54.513108Z",
     "start_time": "2021-10-20T14:38:54.366476Z"
    }
   },
   "outputs": [],
   "source": [
    "df_res = pd.DataFrame(response)"
   ]
  },
  {
   "cell_type": "code",
   "execution_count": 13,
   "metadata": {
    "ExecuteTime": {
     "end_time": "2021-10-20T14:49:39.577180Z",
     "start_time": "2021-10-20T14:49:39.574978Z"
    }
   },
   "outputs": [
    {
     "data": {
      "text/plain": [
       "7.0"
      ]
     },
     "execution_count": 13,
     "metadata": {},
     "output_type": "execute_result"
    }
   ],
   "source": [
    "(7+7+7+7)/4"
   ]
  },
  {
   "cell_type": "code",
   "execution_count": 14,
   "metadata": {
    "ExecuteTime": {
     "end_time": "2021-10-20T14:49:52.234632Z",
     "start_time": "2021-10-20T14:49:52.227431Z"
    }
   },
   "outputs": [
    {
     "data": {
      "text/plain": [
       "7.0"
      ]
     },
     "execution_count": 14,
     "metadata": {},
     "output_type": "execute_result"
    }
   ],
   "source": [
    "(21+7)/4"
   ]
  },
  {
   "cell_type": "code",
   "execution_count": null,
   "metadata": {
    "ExecuteTime": {
     "end_time": "2021-10-20T14:04:02.571482Z",
     "start_time": "2021-10-20T14:04:02.565587Z"
    }
   },
   "outputs": [],
   "source": [
    "df_res[[\"oid\", \"aid\"]]"
   ]
  },
  {
   "cell_type": "code",
   "execution_count": null,
   "metadata": {
    "ExecuteTime": {
     "end_time": "2021-10-20T14:04:10.135191Z",
     "start_time": "2021-10-20T14:04:10.131983Z"
    }
   },
   "outputs": [],
   "source": [
    "df_res[\"aid\"]"
   ]
  },
  {
   "cell_type": "code",
   "execution_count": null,
   "metadata": {
    "ExecuteTime": {
     "end_time": "2021-10-20T14:10:25.932446Z",
     "start_time": "2021-10-20T14:10:25.918709Z"
    }
   },
   "outputs": [],
   "source": [
    "a = df_res[[\"oid\", \"aid\"]].astype(int)\n",
    "a[\"diff_id\"] = a[\"aid\"] - a[\"oid\"]"
   ]
  },
  {
   "cell_type": "code",
   "execution_count": null,
   "metadata": {
    "ExecuteTime": {
     "end_time": "2021-10-20T14:10:26.418145Z",
     "start_time": "2021-10-20T14:10:26.412627Z"
    }
   },
   "outputs": [],
   "source": [
    "11213488\"5\"1254607\"000\"\n",
    "11213488\"7\"1254607\"500\"\n",
    "11213488\"8\"1254607\"100\""
   ]
  },
  {
   "cell_type": "code",
   "execution_count": null,
   "metadata": {
    "ExecuteTime": {
     "end_time": "2021-10-20T13:59:01.791930Z",
     "start_time": "2021-10-20T13:59:01.783621Z"
    }
   },
   "outputs": [],
   "source": [
    "1175332261262954200-1175332261262954240"
   ]
  },
  {
   "cell_type": "code",
   "execution_count": null,
   "metadata": {
    "ExecuteTime": {
     "end_time": "2021-10-20T13:59:17.357717Z",
     "start_time": "2021-10-20T13:59:17.355490Z"
    }
   },
   "outputs": [],
   "source": [
    "1175333171262846300-1175333171262846208"
   ]
  },
  {
   "cell_type": "code",
   "execution_count": 19,
   "metadata": {
    "ExecuteTime": {
     "end_time": "2021-10-20T14:52:37.109412Z",
     "start_time": "2021-10-20T14:52:37.106717Z"
    }
   },
   "outputs": [],
   "source": [
    "df_res.drop_duplicates(\"oid\", inplace=True)"
   ]
  },
  {
   "cell_type": "code",
   "execution_count": 20,
   "metadata": {
    "ExecuteTime": {
     "end_time": "2021-10-20T14:52:39.457915Z",
     "start_time": "2021-10-20T14:52:39.379029Z"
    }
   },
   "outputs": [
    {
     "data": {
      "text/html": [
       "<div>\n",
       "<style scoped>\n",
       "    .dataframe tbody tr th:only-of-type {\n",
       "        vertical-align: middle;\n",
       "    }\n",
       "\n",
       "    .dataframe tbody tr th {\n",
       "        vertical-align: top;\n",
       "    }\n",
       "\n",
       "    .dataframe thead th {\n",
       "        text-align: right;\n",
       "    }\n",
       "</style>\n",
       "<table border=\"1\" class=\"dataframe\">\n",
       "  <thead>\n",
       "    <tr style=\"text-align: right;\">\n",
       "      <th></th>\n",
       "      <th>oid</th>\n",
       "      <th>sid</th>\n",
       "      <th>candid</th>\n",
       "      <th>mjd</th>\n",
       "      <th>fid</th>\n",
       "      <th>ra</th>\n",
       "      <th>dec</th>\n",
       "      <th>rb</th>\n",
       "      <th>mag</th>\n",
       "      <th>sigmag</th>\n",
       "      <th>aimage</th>\n",
       "      <th>bimage</th>\n",
       "      <th>xpos</th>\n",
       "      <th>ypos</th>\n",
       "      <th>aid</th>\n",
       "      <th>extra_fields</th>\n",
       "      <th>stamps</th>\n",
       "    </tr>\n",
       "  </thead>\n",
       "  <tbody>\n",
       "    <tr>\n",
       "      <th>0</th>\n",
       "      <td>1175231061212637696</td>\n",
       "      <td>ATLAS</td>\n",
       "      <td>01a59485o0083o_005746</td>\n",
       "      <td>59485.234788</td>\n",
       "      <td>NaN</td>\n",
       "      <td>268.129440</td>\n",
       "      <td>21.443850</td>\n",
       "      <td>NaN</td>\n",
       "      <td>18.515000</td>\n",
       "      <td>0.112000</td>\n",
       "      <td>5.390</td>\n",
       "      <td>1.050</td>\n",
       "      <td>10442.650000</td>\n",
       "      <td>10043.100000</td>\n",
       "      <td>1175231061212637696</td>\n",
       "      <td>{'Phi': 79.0, 'Det': 1.0, 'ChiN': 2.51, 'Pvr':...</td>\n",
       "      <td>{'cutoutScience': b'SIMPLE  =                 ...</td>\n",
       "    </tr>\n",
       "    <tr>\n",
       "      <th>1</th>\n",
       "      <td>1175036791231844864</td>\n",
       "      <td>ATLAS</td>\n",
       "      <td>01a59485o0083o_003624</td>\n",
       "      <td>59485.234788</td>\n",
       "      <td>NaN</td>\n",
       "      <td>267.653310</td>\n",
       "      <td>23.312450</td>\n",
       "      <td>NaN</td>\n",
       "      <td>15.357000</td>\n",
       "      <td>0.029000</td>\n",
       "      <td>2.710</td>\n",
       "      <td>2.580</td>\n",
       "      <td>9400.510000</td>\n",
       "      <td>6423.750000</td>\n",
       "      <td>1175036791231844864</td>\n",
       "      <td>{'Phi': 102.7, 'Det': 0.0, 'ChiN': 46.21, 'Pvr...</td>\n",
       "      <td>{'cutoutScience': b'SIMPLE  =                 ...</td>\n",
       "    </tr>\n",
       "    <tr>\n",
       "      <th>2</th>\n",
       "      <td>1175134911211303936</td>\n",
       "      <td>ATLAS</td>\n",
       "      <td>01a59485o0083o_006068</td>\n",
       "      <td>59485.234788</td>\n",
       "      <td>NaN</td>\n",
       "      <td>267.895470</td>\n",
       "      <td>21.217760</td>\n",
       "      <td>NaN</td>\n",
       "      <td>-17.608000</td>\n",
       "      <td>0.040000</td>\n",
       "      <td>2.940</td>\n",
       "      <td>2.660</td>\n",
       "      <td>10036.590000</td>\n",
       "      <td>10503.650000</td>\n",
       "      <td>1175134911211303936</td>\n",
       "      <td>{'Phi': 70.2, 'Det': 5.0, 'ChiN': 6.77, 'Pvr':...</td>\n",
       "      <td>{'cutoutScience': b'SIMPLE  =                 ...</td>\n",
       "    </tr>\n",
       "    <tr>\n",
       "      <th>3</th>\n",
       "      <td>1174831221241228032</td>\n",
       "      <td>ATLAS</td>\n",
       "      <td>01a59485o0083o_002543</td>\n",
       "      <td>59485.234788</td>\n",
       "      <td>NaN</td>\n",
       "      <td>267.130110</td>\n",
       "      <td>24.207830</td>\n",
       "      <td>NaN</td>\n",
       "      <td>-18.074000</td>\n",
       "      <td>0.063000</td>\n",
       "      <td>2.650</td>\n",
       "      <td>2.540</td>\n",
       "      <td>8397.920000</td>\n",
       "      <td>4725.070000</td>\n",
       "      <td>1174831221241228032</td>\n",
       "      <td>{'Phi': 116.0, 'Det': 5.0, 'ChiN': 2.5, 'Pvr':...</td>\n",
       "      <td>{'cutoutScience': b'SIMPLE  =                 ...</td>\n",
       "    </tr>\n",
       "    <tr>\n",
       "      <th>4</th>\n",
       "      <td>1175222921211742208</td>\n",
       "      <td>ATLAS</td>\n",
       "      <td>01a59485o0083o_005904</td>\n",
       "      <td>59485.234788</td>\n",
       "      <td>NaN</td>\n",
       "      <td>268.095520</td>\n",
       "      <td>21.295100</td>\n",
       "      <td>NaN</td>\n",
       "      <td>17.162000</td>\n",
       "      <td>0.067000</td>\n",
       "      <td>2.940</td>\n",
       "      <td>2.660</td>\n",
       "      <td>10396.430000</td>\n",
       "      <td>10339.010000</td>\n",
       "      <td>1175222921211742208</td>\n",
       "      <td>{'Phi': 72.6, 'Det': 0.0, 'ChiN': 18.51, 'Pvr'...</td>\n",
       "      <td>{'cutoutScience': b'SIMPLE  =                 ...</td>\n",
       "    </tr>\n",
       "    <tr>\n",
       "      <th>...</th>\n",
       "      <td>...</td>\n",
       "      <td>...</td>\n",
       "      <td>...</td>\n",
       "      <td>...</td>\n",
       "      <td>...</td>\n",
       "      <td>...</td>\n",
       "      <td>...</td>\n",
       "      <td>...</td>\n",
       "      <td>...</td>\n",
       "      <td>...</td>\n",
       "      <td>...</td>\n",
       "      <td>...</td>\n",
       "      <td>...</td>\n",
       "      <td>...</td>\n",
       "      <td>...</td>\n",
       "      <td>...</td>\n",
       "      <td>...</td>\n",
       "    </tr>\n",
       "    <tr>\n",
       "      <th>191</th>\n",
       "      <td>ZTF18acjwrgx</td>\n",
       "      <td>ZTF</td>\n",
       "      <td>734127696115010000</td>\n",
       "      <td>58488.127697</td>\n",
       "      <td>1.0</td>\n",
       "      <td>354.516509</td>\n",
       "      <td>-6.118030</td>\n",
       "      <td>0.566667</td>\n",
       "      <td>17.376257</td>\n",
       "      <td>0.117503</td>\n",
       "      <td>0.871</td>\n",
       "      <td>0.745</td>\n",
       "      <td>2954.434326</td>\n",
       "      <td>126.759399</td>\n",
       "      <td>1233803960060704900</td>\n",
       "      <td>{'pid': 734127696115, 'diffmaglim': 19.6285896...</td>\n",
       "      <td>{'cutoutScience': b'\\x1f\\x8b\\x08\\x00\\xdd 0\\\\\\x...</td>\n",
       "    </tr>\n",
       "    <tr>\n",
       "      <th>192</th>\n",
       "      <td>ZTF18absykrq</td>\n",
       "      <td>ZTF</td>\n",
       "      <td>611293290015010000</td>\n",
       "      <td>58365.293299</td>\n",
       "      <td>1.0</td>\n",
       "      <td>346.958925</td>\n",
       "      <td>-12.077606</td>\n",
       "      <td>0.756667</td>\n",
       "      <td>19.924328</td>\n",
       "      <td>0.177863</td>\n",
       "      <td>0.656</td>\n",
       "      <td>0.624</td>\n",
       "      <td>2817.042969</td>\n",
       "      <td>774.658691</td>\n",
       "      <td>1230750140120439300</td>\n",
       "      <td>{'pid': 611293290015, 'diffmaglim': 20.4449501...</td>\n",
       "      <td>{'cutoutScience': b'\\x1f\\x8b\\x08\\x00C1\\x8e[\\x0...</td>\n",
       "    </tr>\n",
       "    <tr>\n",
       "      <th>196</th>\n",
       "      <td>ZTF18acdmdji</td>\n",
       "      <td>ZTF</td>\n",
       "      <td>1457108881315010000</td>\n",
       "      <td>59211.108889</td>\n",
       "      <td>1.0</td>\n",
       "      <td>9.364128</td>\n",
       "      <td>-11.863248</td>\n",
       "      <td>0.672857</td>\n",
       "      <td>18.381571</td>\n",
       "      <td>0.144868</td>\n",
       "      <td>0.731</td>\n",
       "      <td>0.654</td>\n",
       "      <td>263.839600</td>\n",
       "      <td>143.344803</td>\n",
       "      <td>1003727390115147600</td>\n",
       "      <td>{'pid': 1457108881315, 'diffmaglim': 19.216890...</td>\n",
       "      <td>{'cutoutScience': b'\\x1f\\x8b\\x08\\x00\\x9fF\\xe9_...</td>\n",
       "    </tr>\n",
       "    <tr>\n",
       "      <th>197</th>\n",
       "      <td>ZTF18acfoogn</td>\n",
       "      <td>ZTF</td>\n",
       "      <td>684231353015010000</td>\n",
       "      <td>58438.231354</td>\n",
       "      <td>2.0</td>\n",
       "      <td>357.962736</td>\n",
       "      <td>-18.023031</td>\n",
       "      <td>0.463333</td>\n",
       "      <td>15.640790</td>\n",
       "      <td>0.080586</td>\n",
       "      <td>0.529</td>\n",
       "      <td>0.487</td>\n",
       "      <td>2485.388184</td>\n",
       "      <td>215.899307</td>\n",
       "      <td>1235151050180122900</td>\n",
       "      <td>{'pid': 684231353015, 'diffmaglim': 17.0487518...</td>\n",
       "      <td>{'cutoutScience': b'\\x1f\\x8b\\x08\\x00\\x8br\\xee[...</td>\n",
       "    </tr>\n",
       "    <tr>\n",
       "      <th>199</th>\n",
       "      <td>ZTF18acjwtdk</td>\n",
       "      <td>ZTF</td>\n",
       "      <td>681190845015010000</td>\n",
       "      <td>58435.190845</td>\n",
       "      <td>1.0</td>\n",
       "      <td>356.801668</td>\n",
       "      <td>0.146522</td>\n",
       "      <td>0.613333</td>\n",
       "      <td>15.774867</td>\n",
       "      <td>0.064768</td>\n",
       "      <td>0.906</td>\n",
       "      <td>0.812</td>\n",
       "      <td>2338.422119</td>\n",
       "      <td>325.583893</td>\n",
       "      <td>1234712401000847400</td>\n",
       "      <td>{'pid': 681190845015, 'diffmaglim': 20.0431118...</td>\n",
       "      <td>{'cutoutScience': b'\\x1f\\x8b\\x08\\x00$\\x89\\xea[...</td>\n",
       "    </tr>\n",
       "  </tbody>\n",
       "</table>\n",
       "<p>71 rows × 17 columns</p>\n",
       "</div>"
      ],
      "text/plain": [
       "                     oid    sid                 candid           mjd  fid  \\\n",
       "0    1175231061212637696  ATLAS  01a59485o0083o_005746  59485.234788  NaN   \n",
       "1    1175036791231844864  ATLAS  01a59485o0083o_003624  59485.234788  NaN   \n",
       "2    1175134911211303936  ATLAS  01a59485o0083o_006068  59485.234788  NaN   \n",
       "3    1174831221241228032  ATLAS  01a59485o0083o_002543  59485.234788  NaN   \n",
       "4    1175222921211742208  ATLAS  01a59485o0083o_005904  59485.234788  NaN   \n",
       "..                   ...    ...                    ...           ...  ...   \n",
       "191         ZTF18acjwrgx    ZTF     734127696115010000  58488.127697  1.0   \n",
       "192         ZTF18absykrq    ZTF     611293290015010000  58365.293299  1.0   \n",
       "196         ZTF18acdmdji    ZTF    1457108881315010000  59211.108889  1.0   \n",
       "197         ZTF18acfoogn    ZTF     684231353015010000  58438.231354  2.0   \n",
       "199         ZTF18acjwtdk    ZTF     681190845015010000  58435.190845  1.0   \n",
       "\n",
       "             ra        dec        rb        mag    sigmag  aimage  bimage  \\\n",
       "0    268.129440  21.443850       NaN  18.515000  0.112000   5.390   1.050   \n",
       "1    267.653310  23.312450       NaN  15.357000  0.029000   2.710   2.580   \n",
       "2    267.895470  21.217760       NaN -17.608000  0.040000   2.940   2.660   \n",
       "3    267.130110  24.207830       NaN -18.074000  0.063000   2.650   2.540   \n",
       "4    268.095520  21.295100       NaN  17.162000  0.067000   2.940   2.660   \n",
       "..          ...        ...       ...        ...       ...     ...     ...   \n",
       "191  354.516509  -6.118030  0.566667  17.376257  0.117503   0.871   0.745   \n",
       "192  346.958925 -12.077606  0.756667  19.924328  0.177863   0.656   0.624   \n",
       "196    9.364128 -11.863248  0.672857  18.381571  0.144868   0.731   0.654   \n",
       "197  357.962736 -18.023031  0.463333  15.640790  0.080586   0.529   0.487   \n",
       "199  356.801668   0.146522  0.613333  15.774867  0.064768   0.906   0.812   \n",
       "\n",
       "             xpos          ypos                  aid  \\\n",
       "0    10442.650000  10043.100000  1175231061212637696   \n",
       "1     9400.510000   6423.750000  1175036791231844864   \n",
       "2    10036.590000  10503.650000  1175134911211303936   \n",
       "3     8397.920000   4725.070000  1174831221241228032   \n",
       "4    10396.430000  10339.010000  1175222921211742208   \n",
       "..            ...           ...                  ...   \n",
       "191   2954.434326    126.759399  1233803960060704900   \n",
       "192   2817.042969    774.658691  1230750140120439300   \n",
       "196    263.839600    143.344803  1003727390115147600   \n",
       "197   2485.388184    215.899307  1235151050180122900   \n",
       "199   2338.422119    325.583893  1234712401000847400   \n",
       "\n",
       "                                          extra_fields  \\\n",
       "0    {'Phi': 79.0, 'Det': 1.0, 'ChiN': 2.51, 'Pvr':...   \n",
       "1    {'Phi': 102.7, 'Det': 0.0, 'ChiN': 46.21, 'Pvr...   \n",
       "2    {'Phi': 70.2, 'Det': 5.0, 'ChiN': 6.77, 'Pvr':...   \n",
       "3    {'Phi': 116.0, 'Det': 5.0, 'ChiN': 2.5, 'Pvr':...   \n",
       "4    {'Phi': 72.6, 'Det': 0.0, 'ChiN': 18.51, 'Pvr'...   \n",
       "..                                                 ...   \n",
       "191  {'pid': 734127696115, 'diffmaglim': 19.6285896...   \n",
       "192  {'pid': 611293290015, 'diffmaglim': 20.4449501...   \n",
       "196  {'pid': 1457108881315, 'diffmaglim': 19.216890...   \n",
       "197  {'pid': 684231353015, 'diffmaglim': 17.0487518...   \n",
       "199  {'pid': 681190845015, 'diffmaglim': 20.0431118...   \n",
       "\n",
       "                                                stamps  \n",
       "0    {'cutoutScience': b'SIMPLE  =                 ...  \n",
       "1    {'cutoutScience': b'SIMPLE  =                 ...  \n",
       "2    {'cutoutScience': b'SIMPLE  =                 ...  \n",
       "3    {'cutoutScience': b'SIMPLE  =                 ...  \n",
       "4    {'cutoutScience': b'SIMPLE  =                 ...  \n",
       "..                                                 ...  \n",
       "191  {'cutoutScience': b'\\x1f\\x8b\\x08\\x00\\xdd 0\\\\\\x...  \n",
       "192  {'cutoutScience': b'\\x1f\\x8b\\x08\\x00C1\\x8e[\\x0...  \n",
       "196  {'cutoutScience': b'\\x1f\\x8b\\x08\\x00\\x9fF\\xe9_...  \n",
       "197  {'cutoutScience': b'\\x1f\\x8b\\x08\\x00\\x8br\\xee[...  \n",
       "199  {'cutoutScience': b'\\x1f\\x8b\\x08\\x00$\\x89\\xea[...  \n",
       "\n",
       "[71 rows x 17 columns]"
      ]
     },
     "execution_count": 20,
     "metadata": {},
     "output_type": "execute_result"
    }
   ],
   "source": [
    "273.837"
   ]
  },
  {
   "cell_type": "code",
   "execution_count": null,
   "metadata": {},
   "outputs": [],
   "source": []
  },
  {
   "cell_type": "code",
   "execution_count": null,
   "metadata": {},
   "outputs": [],
   "source": []
  },
  {
   "cell_type": "code",
   "execution_count": null,
   "metadata": {},
   "outputs": [],
   "source": []
  },
  {
   "cell_type": "code",
   "execution_count": null,
   "metadata": {},
   "outputs": [],
   "source": []
  },
  {
   "cell_type": "code",
   "execution_count": null,
   "metadata": {},
   "outputs": [],
   "source": []
  },
  {
   "cell_type": "code",
   "execution_count": null,
   "metadata": {},
   "outputs": [],
   "source": []
  },
  {
   "cell_type": "code",
   "execution_count": null,
   "metadata": {},
   "outputs": [],
   "source": []
  },
  {
   "cell_type": "code",
   "execution_count": null,
   "metadata": {},
   "outputs": [],
   "source": []
  },
  {
   "cell_type": "code",
   "execution_count": null,
   "metadata": {},
   "outputs": [],
   "source": []
  },
  {
   "cell_type": "code",
   "execution_count": null,
   "metadata": {},
   "outputs": [],
   "source": []
  },
  {
   "cell_type": "code",
   "execution_count": null,
   "metadata": {},
   "outputs": [],
   "source": []
  },
  {
   "cell_type": "code",
   "execution_count": null,
   "metadata": {},
   "outputs": [],
   "source": []
  },
  {
   "cell_type": "code",
   "execution_count": null,
   "metadata": {},
   "outputs": [],
   "source": []
  },
  {
   "cell_type": "code",
   "execution_count": null,
   "metadata": {},
   "outputs": [],
   "source": []
  },
  {
   "cell_type": "code",
   "execution_count": null,
   "metadata": {},
   "outputs": [],
   "source": []
  },
  {
   "cell_type": "code",
   "execution_count": null,
   "metadata": {},
   "outputs": [],
   "source": []
  },
  {
   "cell_type": "code",
   "execution_count": null,
   "metadata": {},
   "outputs": [],
   "source": []
  },
  {
   "cell_type": "code",
   "execution_count": null,
   "metadata": {},
   "outputs": [],
   "source": []
  },
  {
   "cell_type": "code",
   "execution_count": null,
   "metadata": {},
   "outputs": [],
   "source": []
  },
  {
   "cell_type": "code",
   "execution_count": null,
   "metadata": {},
   "outputs": [],
   "source": []
  },
  {
   "cell_type": "code",
   "execution_count": null,
   "metadata": {},
   "outputs": [],
   "source": []
  },
  {
   "cell_type": "code",
   "execution_count": null,
   "metadata": {},
   "outputs": [],
   "source": []
  },
  {
   "cell_type": "code",
   "execution_count": null,
   "metadata": {},
   "outputs": [],
   "source": []
  },
  {
   "cell_type": "code",
   "execution_count": null,
   "metadata": {},
   "outputs": [],
   "source": []
  },
  {
   "cell_type": "code",
   "execution_count": null,
   "metadata": {},
   "outputs": [],
   "source": []
  },
  {
   "cell_type": "code",
   "execution_count": null,
   "metadata": {},
   "outputs": [],
   "source": []
  },
  {
   "cell_type": "code",
   "execution_count": null,
   "metadata": {},
   "outputs": [],
   "source": []
  },
  {
   "cell_type": "code",
   "execution_count": null,
   "metadata": {},
   "outputs": [],
   "source": []
  },
  {
   "cell_type": "code",
   "execution_count": null,
   "metadata": {},
   "outputs": [],
   "source": []
  },
  {
   "cell_type": "code",
   "execution_count": null,
   "metadata": {},
   "outputs": [],
   "source": []
  },
  {
   "cell_type": "code",
   "execution_count": null,
   "metadata": {},
   "outputs": [],
   "source": []
  },
  {
   "cell_type": "code",
   "execution_count": null,
   "metadata": {},
   "outputs": [],
   "source": []
  },
  {
   "cell_type": "code",
   "execution_count": null,
   "metadata": {
    "ExecuteTime": {
     "end_time": "2021-10-19T13:17:50.476082Z",
     "start_time": "2021-10-19T13:17:50.472297Z"
    }
   },
   "outputs": [],
   "source": [
    "import pandas as pd"
   ]
  },
  {
   "cell_type": "code",
   "execution_count": null,
   "metadata": {
    "ExecuteTime": {
     "end_time": "2021-10-19T13:32:14.343738Z",
     "start_time": "2021-10-19T13:32:14.327523Z"
    }
   },
   "outputs": [],
   "source": [
    "from survey_parser_plugins.core import SurveyParser, id_generator\n",
    "\n",
    "# Implementation a new parser for PreviousCandidates with SurveyParser signs.\n",
    "class ZTFPreviousCandidatesParser(SurveyParser):\n",
    "    _source = \"ZTF\"\n",
    "    _generic_alert_message_key_mapping = {\n",
    "        \"candid\": \"candid\",\n",
    "        \"mjd\": \"jd\",\n",
    "        \"fid\": \"fid\",\n",
    "        \"ra\": \"ra\",\n",
    "        \"dec\": \"dec\",\n",
    "        \"rb\": \"rb\",\n",
    "        \"mag\": \"magpsf\",\n",
    "        \"sigmag\": \"sigmapsf\",\n",
    "        \"aimage\": \"aimage\",\n",
    "        \"bimage\": \"bimage\",\n",
    "        \"xpos\": \"xpos\",\n",
    "        \"ypos\": \"ypos\",\n",
    "    }\n",
    "\n",
    "    @classmethod\n",
    "    def parse_message(cls, message: dict) -> dict:\n",
    "        try:\n",
    "            oid = message[\"objectId\"]\n",
    "            prv_candidate = message[\"candidate\"]\n",
    "            prv_content = cls._generic_alert_message(prv_candidate, cls._generic_alert_message_key_mapping)\n",
    "            # inclusion of extra attributes\n",
    "            prv_content[\"oid\"] = oid\n",
    "            prv_content[\"aid\"] = id_generator(prv_content[\"ra\"], prv_content[\"dec\"])\n",
    "            prv_content['sid'] = cls._source\n",
    "            # attributes modification\n",
    "            prv_content['mjd'] = prv_content['mjd'] - 2400000.5\n",
    "            return prv_content\n",
    "        except KeyError:\n",
    "            raise KeyError(\"This parser can't parse message\")\n",
    "\n",
    "    @classmethod\n",
    "    def can_parse(cls, message: dict) -> bool:\n",
    "        return 'publisher' in message.keys() and cls._source in message[\"publisher\"]\n",
    "\n",
    "    @classmethod\n",
    "    def parse(cls, messages: List[dict]) -> List[dict]:\n",
    "        return list(map(cls.parse_message, messages))"
   ]
  },
  {
   "cell_type": "code",
   "execution_count": null,
   "metadata": {
    "ExecuteTime": {
     "end_time": "2021-10-19T13:32:16.321720Z",
     "start_time": "2021-10-19T13:32:16.202667Z"
    }
   },
   "outputs": [],
   "source": [
    "data = pd.DataFrame(response)"
   ]
  },
  {
   "cell_type": "code",
   "execution_count": null,
   "metadata": {
    "ExecuteTime": {
     "end_time": "2021-10-19T13:32:16.541347Z",
     "start_time": "2021-10-19T13:32:16.539024Z"
    }
   },
   "outputs": [],
   "source": [
    "from __future__ import annotations\n",
    "from survey_parser_plugins.core import GenericAlert\n",
    "from abc import ABC, abstractmethod\n",
    "from typing import List\n",
    "from collections import OrderedDict"
   ]
  },
  {
   "cell_type": "code",
   "execution_count": null,
   "metadata": {
    "ExecuteTime": {
     "end_time": "2021-10-19T13:32:17.838671Z",
     "start_time": "2021-10-19T13:32:17.836138Z"
    }
   },
   "outputs": [],
   "source": [
    "class BaseStrategy(ABC):\n",
    "    \"\"\"\n",
    "    The Strategy interface declares operations common to all supported versions of some algorithm.\n",
    "\n",
    "    The Context uses this interface to call the algorithm defined by Concrete Strategies.\n",
    "    \"\"\"\n",
    "\n",
    "    @abstractmethod\n",
    "    def process_prv_candidates(self, data: List[GenericAlert]):\n",
    "        pass\n"
   ]
  },
  {
   "cell_type": "code",
   "execution_count": null,
   "metadata": {
    "ExecuteTime": {
     "end_time": "2021-10-19T13:32:19.199990Z",
     "start_time": "2021-10-19T13:32:19.185316Z"
    }
   },
   "outputs": [],
   "source": [
    "class Processor:\n",
    "    \"\"\"\n",
    "    The Context defines the interface of interest to clients.\n",
    "    \"\"\"\n",
    "\n",
    "    def __init__(self, strategy: BaseStrategy) -> None:\n",
    "        \"\"\"\n",
    "        Usually, the Context accepts a strategy through the constructor, but also provides a setter to\n",
    "        change it at runtime.\n",
    "        \"\"\"\n",
    "        self._strategy = strategy\n",
    "\n",
    "        self.strategies = {\n",
    "            \"ZTF\": ZTFStrategy()\n",
    "        }\n",
    "\n",
    "    @property\n",
    "    def strategy(self) -> BaseStrategy:\n",
    "        \"\"\"\n",
    "        The Context maintains a reference to one of the Strategy objects. The Context does not know the concrete class\n",
    "        of a strategy. It should work with all strategies via the Strategy interface.\n",
    "        \"\"\"\n",
    "        return self._strategy\n",
    "\n",
    "    @strategy.setter\n",
    "    def strategy(self, strategy: BaseStrategy) -> None:\n",
    "        \"\"\"\n",
    "        Usually, the Context allows replacing a Strategy object at runtime.\n",
    "        \"\"\"\n",
    "        self._strategy = strategy\n",
    "\n",
    "    def compute(self, data: pd.DataFrame):\n",
    "        \"\"\"\n",
    "        The Context delegates some work to the Strategy object instead of\n",
    "        implementing multiple versions of the algorithm on its own.\n",
    "        \"\"\"\n",
    "\n",
    "        # ...\n",
    "        print(\"Context: Sorting data using the strategy (not sure how it'll do it)\")\n",
    "        data = data[[\"oid\", \"sid\", \"candid\", \"extra_fields\"]].copy()\n",
    "        detections = []\n",
    "        non_detections = []\n",
    "        for sid, alerts in data.groupby(\"sid\"):\n",
    "            if sid in self.strategies:\n",
    "                strategy = self.strategies[sid]\n",
    "                det, non_det = strategy.process_prv_candidates(alerts)\n",
    "                detections.append(det)\n",
    "                non_detections.append(non_det)\n",
    "        detections = pd.concat(detections, ignore_index=True) if len(detections) else pd.DataFrame()\n",
    "        non_detections = pd.concat(non_detections, ignore_index=True) if len(non_detections) else pd.DataFrame()\n",
    "        return detections, non_detections\n"
   ]
  },
  {
   "cell_type": "code",
   "execution_count": null,
   "metadata": {
    "ExecuteTime": {
     "end_time": "2021-10-19T13:32:19.567489Z",
     "start_time": "2021-10-19T13:32:19.563728Z"
    }
   },
   "outputs": [],
   "source": [
    "NON_DET_KEYS = [\"oid\", \"mjd\", \"diffmaglim\", \"fid\"]\n",
    "\n",
    "class ZTFStrategy(BaseStrategy):\n",
    "\n",
    "    def process_prv_candidates(self, alerts: pd.DataFrame):\n",
    "        detections = {}\n",
    "        non_detections = []\n",
    "\n",
    "        for index, alert in alerts.iterrows():\n",
    "            oid = alert[\"oid\"]\n",
    "            sid = alert[\"sid\"]\n",
    "            if alert[\"extra_fields\"][\"prv_candidates\"] is not None:\n",
    "                for prv in alert[\"extra_fields\"][\"prv_candidates\"]:\n",
    "                    if prv['candid'] is None:\n",
    "                        prv[\"oid\"] = oid\n",
    "                        prv[\"sid\"] = sid\n",
    "                        non_detections.append(prv)\n",
    "                    else:\n",
    "                        detections.update({\n",
    "                            prv[\"candid\"]: {\n",
    "                                \"objectId\": oid,\n",
    "                                \"publisher\": sid,\n",
    "                                \"candidate\": prv\n",
    "                            }\n",
    "                        })\n",
    "        detections = ZTFPreviousCandidatesParser.parse(list(detections.values()))\n",
    "        detections = pd.DataFrame(detections)\n",
    "        non_detections = pd.DataFrame(non_detections) if len(non_detections) else pd.DataFrame()\n",
    "\n",
    "        if len(non_detections):\n",
    "            non_detections.rename({\"objectId\": \"oid\"}, inplace=True)\n",
    "            non_detections[\"mjd\"] = non_detections['jd'] - 2400000.5\n",
    "            non_detections = non_detections[NON_DET_KEYS]\n",
    "        return detections, non_detections"
   ]
  },
  {
   "cell_type": "code",
   "execution_count": null,
   "metadata": {
    "ExecuteTime": {
     "end_time": "2021-10-19T13:32:20.704334Z",
     "start_time": "2021-10-19T13:32:20.699215Z"
    }
   },
   "outputs": [],
   "source": [
    "context = Processor(ZTFStrategy())"
   ]
  },
  {
   "cell_type": "code",
   "execution_count": null,
   "metadata": {
    "ExecuteTime": {
     "end_time": "2021-10-19T13:32:21.667537Z",
     "start_time": "2021-10-19T13:32:21.503135Z"
    },
    "scrolled": true
   },
   "outputs": [],
   "source": [
    "a = context.compute(pd.DataFrame(response))"
   ]
  },
  {
   "cell_type": "code",
   "execution_count": null,
   "metadata": {},
   "outputs": [],
   "source": []
  },
  {
   "cell_type": "code",
   "execution_count": null,
   "metadata": {
    "ExecuteTime": {
     "end_time": "2021-10-19T13:32:26.634105Z",
     "start_time": "2021-10-19T13:32:26.510917Z"
    }
   },
   "outputs": [],
   "source": [
    "df = pd.concat([pd.DataFrame(response), a[0]], ignore_index=True)"
   ]
  },
  {
   "cell_type": "code",
   "execution_count": null,
   "metadata": {
    "ExecuteTime": {
     "end_time": "2021-10-19T13:32:28.377845Z",
     "start_time": "2021-10-19T13:32:28.342411Z"
    }
   },
   "outputs": [],
   "source": [
    "df"
   ]
  },
  {
   "cell_type": "code",
   "execution_count": null,
   "metadata": {
    "ExecuteTime": {
     "end_time": "2021-10-19T19:05:32.897552Z",
     "start_time": "2021-10-19T19:05:32.889708Z"
    }
   },
   "outputs": [],
   "source": [
    "import pandas as pd\n",
    "from lc_correction.compute import apply_correction_df, correction, apply_correction\n",
    "from abc import ABC, abstractmethod\n",
    "\n",
    "\n",
    "class BaseStrategy(ABC):\n",
    "    \"\"\"\n",
    "    The Strategy interface declares operations common to all supported versions of some algorithm.\n",
    "\n",
    "    The Context uses this interface to call the algorithm defined by Concrete Strategies.\n",
    "    \"\"\"\n",
    "\n",
    "    @abstractmethod\n",
    "    def do_correction(self, detections: pd.DataFrame) -> pd.DataFrame:\n",
    "        pass\n",
    "\n",
    "    \n",
    "\n",
    "class Corrector:\n",
    "    \"\"\"\n",
    "    The Corrector defines the interface of interest to clients.\n",
    "    \"\"\"\n",
    "\n",
    "    def __init__(self, strategy: BaseStrategy) -> None:\n",
    "        \"\"\"\n",
    "        Usually, the Context accepts a strategy through the constructor, but also provides a setter to\n",
    "        change it at runtime.\n",
    "        \"\"\"\n",
    "        self._strategy = strategy\n",
    "\n",
    "    @property\n",
    "    def strategy(self) -> BaseStrategy:\n",
    "        \"\"\"\n",
    "        The Context maintains a reference to one of the Strategy objects. The Context does not know the concrete class\n",
    "        of a strategy. It should work with all strategies via the Strategy interface.\n",
    "        \"\"\"\n",
    "        return self._strategy\n",
    "\n",
    "    @strategy.setter\n",
    "    def strategy(self, strategy: BaseStrategy) -> None:\n",
    "        \"\"\"\n",
    "        Usually, the Context allows replacing a Strategy object at runtime.\n",
    "        \"\"\"\n",
    "        self._strategy = strategy\n",
    "\n",
    "    def compute(self, data: pd.DataFrame):\n",
    "        \"\"\"\n",
    "        The Context delegates some work to the Strategy object instead of\n",
    "        implementing multiple versions of the algorithm on its own.\n",
    "        \"\"\"\n",
    "        det = self.strategy.do_correction(data)\n",
    "        return det\n",
    "\n",
    "    \n",
    "\n",
    "class ZTFStrategy(BaseStrategy):\n",
    "    def do_correction(self, detections: pd.DataFrame) -> pd.DataFrame:\n",
    "        # Retrieve some metadata for do correction\n",
    "        fields = detections[\"extra_fields\"].apply(lambda x: [x[\"isdiffpos\"], x[\"distnr\"],  x[\"magnr\"], x[\"sigmagnr\"]])\n",
    "        df = pd.DataFrame(list(fields), columns=[\"isdiffpos\", \"distnr\", \"magnr\", \"sigmagnr\"])\n",
    "        df[\"magpsf\"] = detections[\"mag\"]\n",
    "        df[\"sigmapsf\"] = detections[\"sigmag\"]\n",
    "        # Apply formula of correction\n",
    "        corrected = df.apply(apply_correction, axis=1, result_type=\"expand\")\n",
    "        corrected.columns = [\"mag_corr\", \"sigmag_corr\", \"sigmag_corr_ext\"]\n",
    "        corrected[\"corrected\"] = df[\"distnr\"] < DISTANCE_THRESHOLD\n",
    "        detections[corrected.columns] = corrected\n",
    "        detections[\"extra_fields\"] = detections.apply(lambda x: {\n",
    "            **x[\"extra_fields\"], \n",
    "            \"mag_corr\": x[\"mag_corr\"],\n",
    "            \"sigmag_corr\": x[\"sigmag_corr\"],\n",
    "            \"sigmag_corr_ext\": x[\"sigmag_corr_ext\"],\n",
    "            \"corrected\": x[\"corrected\"],\n",
    "        }, axis=1)\n",
    "        detections.drop(corrected.columns, axis=1, inplace=True)\n",
    "        return detections"
   ]
  },
  {
   "cell_type": "code",
   "execution_count": null,
   "metadata": {
    "ExecuteTime": {
     "end_time": "2021-10-19T19:05:33.314742Z",
     "start_time": "2021-10-19T19:05:33.311844Z"
    }
   },
   "outputs": [],
   "source": [
    "corrector = Corrector(ZTFStrategy())"
   ]
  },
  {
   "cell_type": "code",
   "execution_count": null,
   "metadata": {
    "ExecuteTime": {
     "end_time": "2021-10-19T19:05:49.042396Z",
     "start_time": "2021-10-19T19:05:49.018461Z"
    },
    "scrolled": true
   },
   "outputs": [],
   "source": [
    "for idx, gdf in df.groupby(\"sid\"):\n",
    "    if \"ZTF\" == idx:\n",
    "        res = corrector.compute(gdf)"
   ]
  },
  {
   "cell_type": "code",
   "execution_count": null,
   "metadata": {
    "ExecuteTime": {
     "end_time": "2021-10-19T20:42:52.434332Z",
     "start_time": "2021-10-19T20:42:52.431754Z"
    }
   },
   "outputs": [],
   "source": [
    "a = res[[\"oid\", \"candid\"]]"
   ]
  },
  {
   "cell_type": "code",
   "execution_count": null,
   "metadata": {
    "ExecuteTime": {
     "end_time": "2021-10-19T20:46:28.956842Z",
     "start_time": "2021-10-19T20:46:28.948782Z"
    }
   },
   "outputs": [],
   "source": [
    "b = res[[\"oid\", \"candid\"]][4:-8]"
   ]
  },
  {
   "cell_type": "code",
   "execution_count": null,
   "metadata": {
    "ExecuteTime": {
     "end_time": "2021-10-19T20:46:29.236638Z",
     "start_time": "2021-10-19T20:46:29.231190Z"
    }
   },
   "outputs": [],
   "source": [
    "c = a.isin(b).values"
   ]
  },
  {
   "cell_type": "code",
   "execution_count": null,
   "metadata": {
    "ExecuteTime": {
     "end_time": "2021-10-19T20:46:29.688318Z",
     "start_time": "2021-10-19T20:46:29.684540Z"
    }
   },
   "outputs": [],
   "source": [
    "c = np.logical_and(c[:,0], c[:,1])"
   ]
  },
  {
   "cell_type": "code",
   "execution_count": null,
   "metadata": {
    "ExecuteTime": {
     "end_time": "2021-10-19T20:46:31.446138Z",
     "start_time": "2021-10-19T20:46:31.374483Z"
    }
   },
   "outputs": [],
   "source": [
    "res[c]"
   ]
  },
  {
   "cell_type": "code",
   "execution_count": null,
   "metadata": {
    "ExecuteTime": {
     "end_time": "2021-10-19T20:46:34.088567Z",
     "start_time": "2021-10-19T20:46:34.042476Z"
    }
   },
   "outputs": [],
   "source": [
    "res"
   ]
  },
  {
   "cell_type": "code",
   "execution_count": null,
   "metadata": {},
   "outputs": [],
   "source": []
  }
 ],
 "metadata": {
  "kernelspec": {
   "display_name": "Python 3",
   "language": "python",
   "name": "python3"
  },
  "language_info": {
   "codemirror_mode": {
    "name": "ipython",
    "version": 3
   },
   "file_extension": ".py",
   "mimetype": "text/x-python",
   "name": "python",
   "nbconvert_exporter": "python",
   "pygments_lexer": "ipython3",
   "version": "3.8.3"
  }
 },
 "nbformat": 4,
 "nbformat_minor": 4
}
