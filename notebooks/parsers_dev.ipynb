{
 "cells": [
  {
   "cell_type": "code",
   "execution_count": 1,
   "metadata": {
    "ExecuteTime": {
     "end_time": "2021-10-13T17:23:06.399448Z",
     "start_time": "2021-10-13T17:23:06.333165Z"
    }
   },
   "outputs": [],
   "source": [
    "from survey_parser_plugins import ALeRCEParser\n",
    "from survey_parser_plugins.parsers import ATLASParser\n",
    "\n",
    "from fastavro import reader\n",
    "import numpy as np\n",
    "import os"
   ]
  },
  {
   "cell_type": "code",
   "execution_count": 2,
   "metadata": {
    "ExecuteTime": {
     "end_time": "2021-10-13T17:23:06.475915Z",
     "start_time": "2021-10-13T17:23:06.473708Z"
    }
   },
   "outputs": [],
   "source": [
    "def get_content(file_path):\n",
    "    with open(file_path, \"rb\") as f:\n",
    "        content = reader(f).next()\n",
    "    return content"
   ]
  },
  {
   "cell_type": "code",
   "execution_count": 3,
   "metadata": {
    "ExecuteTime": {
     "end_time": "2021-10-13T17:23:06.628987Z",
     "start_time": "2021-10-13T17:23:06.623155Z"
    }
   },
   "outputs": [],
   "source": [
    "SAMPLES_BY_SURVEY = 5"
   ]
  },
  {
   "cell_type": "code",
   "execution_count": 4,
   "metadata": {
    "ExecuteTime": {
     "end_time": "2021-10-13T17:23:06.740216Z",
     "start_time": "2021-10-13T17:23:06.735795Z"
    }
   },
   "outputs": [],
   "source": [
    "atlas_sample_path = \"data/ATLAS_samples/\"\n",
    "atlas_sample = [get_content(os.path.join(atlas_sample_path, f)) for f in os.listdir(atlas_sample_path)]\n",
    "atlas_sample = list(np.random.choice(atlas_sample, SAMPLES_BY_SURVEY))"
   ]
  },
  {
   "cell_type": "code",
   "execution_count": 5,
   "metadata": {
    "ExecuteTime": {
     "end_time": "2021-10-13T17:23:06.925798Z",
     "start_time": "2021-10-13T17:23:06.879747Z"
    }
   },
   "outputs": [],
   "source": [
    "ztf_sample_path = \"data/ZTF_samples/\"\n",
    "ztf_sample = [get_content(os.path.join(ztf_sample_path, f)) for f in os.listdir(ztf_sample_path)]\n",
    "ztf_sample = list(np.random.choice(ztf_sample, SAMPLES_BY_SURVEY))"
   ]
  },
  {
   "cell_type": "code",
   "execution_count": 6,
   "metadata": {
    "ExecuteTime": {
     "end_time": "2021-10-13T17:23:07.020028Z",
     "start_time": "2021-10-13T17:23:07.001126Z"
    }
   },
   "outputs": [],
   "source": [
    "decat_sample_path = \"data/DECAT_samples/\"\n",
    "decat_sample = [get_content(os.path.join(decat_sample_path, f)) for f in os.listdir(decat_sample_path)]\n",
    "decat_sample = list(np.random.choice(decat_sample, SAMPLES_BY_SURVEY))"
   ]
  },
  {
   "cell_type": "code",
   "execution_count": 7,
   "metadata": {
    "ExecuteTime": {
     "end_time": "2021-10-13T17:23:07.151728Z",
     "start_time": "2021-10-13T17:23:07.132298Z"
    }
   },
   "outputs": [],
   "source": [
    "parser = ALeRCEParser()"
   ]
  },
  {
   "cell_type": "code",
   "execution_count": 8,
   "metadata": {
    "ExecuteTime": {
     "end_time": "2021-10-13T17:23:08.177782Z",
     "start_time": "2021-10-13T17:23:08.176196Z"
    }
   },
   "outputs": [],
   "source": [
    "sample = atlas_sample + ztf_sample"
   ]
  },
  {
   "cell_type": "code",
   "execution_count": 9,
   "metadata": {
    "ExecuteTime": {
     "end_time": "2021-10-13T17:23:08.682155Z",
     "start_time": "2021-10-13T17:23:08.678691Z"
    }
   },
   "outputs": [],
   "source": [
    "response = parser.parse(ztf_sample)"
   ]
  },
  {
   "cell_type": "code",
   "execution_count": 10,
   "metadata": {
    "ExecuteTime": {
     "end_time": "2021-10-13T17:23:11.128814Z",
     "start_time": "2021-10-13T17:23:11.102878Z"
    }
   },
   "outputs": [
    {
     "data": {
      "text/plain": [
       "[GenericAlert(survey_id='ZTF19adayewo', candid=1084093432215010000, mjd=58838.09343749983, fid=2, ra=355.2917387, dec=-3.6969137, rb=0.8485714197158813, mag=19.844499588012695, sigmag=0.1943511664867401, alerce_id=1234110010034148800),\n",
       " GenericAlert(survey_id='ZTF18abspxyl', candid=728127881315010000, mjd=58482.12788189994, fid=1, ra=5.7922468, dec=-5.0489644, rb=0.7066666483879089, mag=18.650020599365234, sigmag=0.1404695361852646, alerce_id=1002310130050256200),\n",
       " GenericAlert(survey_id='ZTF19abjovwu', candid=949461501215010000, mjd=58703.46150460001, fid=1, ra=355.6025652, dec=2.4793384, rb=0.9471428394317627, mag=20.653953552246094, sigmag=0.20630863308906555, alerce_id=1234224611022845600),\n",
       " GenericAlert(survey_id='ZTF20acchgnu', candid=1360307712115010000, mjd=59114.30771989981, fid=2, ra=12.9345702, dec=-10.0971138, rb=0.8885714411735535, mag=20.38855743408203, sigmag=0.2006528079509735, alerce_id=1005144290100549600),\n",
       " GenericAlert(survey_id='ZTF20abmdbej', candid=1292439105015010000, mjd=59046.43910880014, fid=2, ra=7.6031147, dec=-7.3329286, rb=0.9028571248054504, mag=20.289138793945312, sigmag=0.206907719373703, alerce_id=1003024740071958500)]"
      ]
     },
     "execution_count": 10,
     "metadata": {},
     "output_type": "execute_result"
    }
   ],
   "source": [
    "response"
   ]
  },
  {
   "cell_type": "code",
   "execution_count": null,
   "metadata": {},
   "outputs": [],
   "source": []
  }
 ],
 "metadata": {
  "kernelspec": {
   "display_name": "Python 3",
   "language": "python",
   "name": "python3"
  },
  "language_info": {
   "codemirror_mode": {
    "name": "ipython",
    "version": 3
   },
   "file_extension": ".py",
   "mimetype": "text/x-python",
   "name": "python",
   "nbconvert_exporter": "python",
   "pygments_lexer": "ipython3",
   "version": "3.8.3"
  }
 },
 "nbformat": 4,
 "nbformat_minor": 4
}
