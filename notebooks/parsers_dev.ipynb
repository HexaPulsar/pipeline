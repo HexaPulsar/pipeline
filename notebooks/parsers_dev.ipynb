{
 "cells": [
  {
   "cell_type": "code",
   "execution_count": 1,
   "metadata": {
    "ExecuteTime": {
     "end_time": "2021-10-13T19:45:11.984828Z",
     "start_time": "2021-10-13T19:45:11.918732Z"
    }
   },
   "outputs": [],
   "source": [
    "from survey_parser_plugins import ALeRCEParser\n",
    "from survey_parser_plugins.parsers import ATLASParser\n",
    "\n",
    "from fastavro import reader\n",
    "import numpy as np\n",
    "import os"
   ]
  },
  {
   "cell_type": "code",
   "execution_count": 2,
   "metadata": {
    "ExecuteTime": {
     "end_time": "2021-10-13T19:45:12.022057Z",
     "start_time": "2021-10-13T19:45:11.986265Z"
    }
   },
   "outputs": [],
   "source": [
    "def get_content(file_path):\n",
    "    with open(file_path, \"rb\") as f:\n",
    "        content = reader(f).next()\n",
    "    return content"
   ]
  },
  {
   "cell_type": "code",
   "execution_count": 3,
   "metadata": {
    "ExecuteTime": {
     "end_time": "2021-10-13T19:45:12.096910Z",
     "start_time": "2021-10-13T19:45:12.023259Z"
    }
   },
   "outputs": [],
   "source": [
    "SAMPLES_BY_SURVEY = 5"
   ]
  },
  {
   "cell_type": "code",
   "execution_count": 4,
   "metadata": {
    "ExecuteTime": {
     "end_time": "2021-10-13T19:45:12.173619Z",
     "start_time": "2021-10-13T19:45:12.097674Z"
    }
   },
   "outputs": [],
   "source": [
    "atlas_sample_path = \"data/ATLAS_samples/\"\n",
    "atlas_sample = [get_content(os.path.join(atlas_sample_path, f)) for f in os.listdir(atlas_sample_path)]\n",
    "atlas_sample = list(np.random.choice(atlas_sample, SAMPLES_BY_SURVEY))"
   ]
  },
  {
   "cell_type": "code",
   "execution_count": 5,
   "metadata": {
    "ExecuteTime": {
     "end_time": "2021-10-13T19:45:12.287889Z",
     "start_time": "2021-10-13T19:45:12.174372Z"
    }
   },
   "outputs": [],
   "source": [
    "ztf_sample_path = \"data/ZTF_samples/\"\n",
    "ztf_sample = [get_content(os.path.join(ztf_sample_path, f)) for f in os.listdir(ztf_sample_path)]\n",
    "ztf_sample = list(np.random.choice(ztf_sample, SAMPLES_BY_SURVEY))"
   ]
  },
  {
   "cell_type": "code",
   "execution_count": 6,
   "metadata": {
    "ExecuteTime": {
     "end_time": "2021-10-13T19:45:12.337936Z",
     "start_time": "2021-10-13T19:45:12.288672Z"
    }
   },
   "outputs": [],
   "source": [
    "decat_sample_path = \"data/DECAT_samples/\"\n",
    "decat_sample = [get_content(os.path.join(decat_sample_path, f)) for f in os.listdir(decat_sample_path)]\n",
    "decat_sample = list(np.random.choice(decat_sample, SAMPLES_BY_SURVEY))"
   ]
  },
  {
   "cell_type": "code",
   "execution_count": 7,
   "metadata": {
    "ExecuteTime": {
     "end_time": "2021-10-13T19:45:12.396861Z",
     "start_time": "2021-10-13T19:45:12.338695Z"
    }
   },
   "outputs": [],
   "source": [
    "parser = ALeRCEParser()"
   ]
  },
  {
   "cell_type": "code",
   "execution_count": 8,
   "metadata": {
    "ExecuteTime": {
     "end_time": "2021-10-13T19:45:12.471862Z",
     "start_time": "2021-10-13T19:45:12.397634Z"
    }
   },
   "outputs": [],
   "source": [
    "sample = atlas_sample + ztf_sample"
   ]
  },
  {
   "cell_type": "code",
   "execution_count": 9,
   "metadata": {
    "ExecuteTime": {
     "end_time": "2021-10-13T19:45:12.594347Z",
     "start_time": "2021-10-13T19:45:12.472582Z"
    }
   },
   "outputs": [],
   "source": [
    "response = parser.parse(sample)"
   ]
  },
  {
   "cell_type": "code",
   "execution_count": 10,
   "metadata": {
    "ExecuteTime": {
     "end_time": "2021-10-13T19:45:12.684127Z",
     "start_time": "2021-10-13T19:45:12.595239Z"
    },
    "scrolled": false
   },
   "outputs": [
    {
     "data": {
      "text/plain": [
       "[GenericAlert(survey_id='1174435211241530112', survey_name='ATLAS', candid='01a59485o0083o_002524', mjd=59485.234788, fid=None, ra=266.14674, dec=24.25843, rb=None, mag=14.921, sigmag=0.017, aimage=2.6, bimage=2.55, xpos=6656.09, ypos=4687.91, alerce_id=1174435211241530300, extra_fields={'Phi': 119.3, 'Det': 0.0, 'ChiN': 94.33, 'Pvr': 668.0, 'Ptr': 0.0, 'Pmv': 0.0, 'Pkn': 0.0, 'Pno': 0.0, 'Pbn': 0.0, 'Pcr': 0.0, 'Pxt': 0.0, 'Psc': 331.0, 'Dup': 0.0, 'WPflx': 286451.7, 'Dflx': 11.8}),\n",
       " GenericAlert(survey_id='1175149291222052352', survey_name='ATLAS', candid='01a59485o0083o_004781', mjd=59485.234788, fid=None, ra=267.95538, dec=22.34785, rb=None, mag=18.043, sigmag=0.101, aimage=2.8, bimage=2.63, xpos=10032.35, ypos=8280.06, alerce_id=1175149291222052200, extra_fields={'Phi': 86.3, 'Det': 0.0, 'ChiN': 14.05, 'Pvr': 10.0, 'Ptr': 0.0, 'Pmv': 0.0, 'Pkn': 0.0, 'Pno': 0.0, 'Pbn': 0.0, 'Pcr': 0.0, 'Pxt': 0.0, 'Psc': 976.0, 'Dup': 0.0, 'WPflx': 14050.2, 'Dflx': 3.0}),\n",
       " GenericAlert(survey_id='1174435211241530112', survey_name='ATLAS', candid='01a59485o0083o_002524', mjd=59485.234788, fid=None, ra=266.14674, dec=24.25843, rb=None, mag=14.921, sigmag=0.017, aimage=2.6, bimage=2.55, xpos=6656.09, ypos=4687.91, alerce_id=1174435211241530300, extra_fields={'Phi': 119.3, 'Det': 0.0, 'ChiN': 94.33, 'Pvr': 668.0, 'Ptr': 0.0, 'Pmv': 0.0, 'Pkn': 0.0, 'Pno': 0.0, 'Pbn': 0.0, 'Pcr': 0.0, 'Pxt': 0.0, 'Psc': 331.0, 'Dup': 0.0, 'WPflx': 286451.7, 'Dflx': 11.8}),\n",
       " GenericAlert(survey_id='1175231061212637696', survey_name='ATLAS', candid='01a59485o0083o_005746', mjd=59485.234788, fid=None, ra=268.12944, dec=21.44385, rb=None, mag=18.515, sigmag=0.112, aimage=5.39, bimage=1.05, xpos=10442.65, ypos=10043.1, alerce_id=1175231061212637800, extra_fields={'Phi': 79.0, 'Det': 1.0, 'ChiN': 2.51, 'Pvr': 0.0, 'Ptr': 0.0, 'Pmv': 0.0, 'Pkn': 0.0, 'Pno': 89.0, 'Pbn': 0.0, 'Pcr': 0.0, 'Pxt': 0.0, 'Psc': 910.0, 'Dup': 0.0, 'WPflx': 12041.2, 'Dflx': 3.1}),\n",
       " GenericAlert(survey_id='1175231061212637696', survey_name='ATLAS', candid='01a59485o0083o_005746', mjd=59485.234788, fid=None, ra=268.12944, dec=21.44385, rb=None, mag=18.515, sigmag=0.112, aimage=5.39, bimage=1.05, xpos=10442.65, ypos=10043.1, alerce_id=1175231061212637800, extra_fields={'Phi': 79.0, 'Det': 1.0, 'ChiN': 2.51, 'Pvr': 0.0, 'Ptr': 0.0, 'Pmv': 0.0, 'Pkn': 0.0, 'Pno': 89.0, 'Pbn': 0.0, 'Pcr': 0.0, 'Pxt': 0.0, 'Psc': 910.0, 'Dup': 0.0, 'WPflx': 12041.2, 'Dflx': 3.1}),\n",
       " GenericAlert(survey_id='ZTF20abmdbej', survey_name='ZTF', candid=1295418155015010000, mjd=59049.4181597, fid=2, ra=7.6031205, dec=-7.3328851, rb=0.9642857313156128, mag=20.2312068939209, sigmag=0.201947420835495, aimage=0.7919999957084656, bimage=0.6639999747276306, xpos=1524.7469482421875, ypos=1221.304443359375, alerce_id=1003024740071958300, extra_fields={'pid': 1295418155015, 'diffmaglim': 20.24689483642578, 'pdiffimfilename': 'ztf_20200719418148_000345_zr_c13_o_q3_scimrefdiffimg.fits', 'programpi': 'Kulkarni', 'programid': 1, 'isdiffpos': 'f', 'tblid': 0, 'nid': 1295, 'rcid': 50, 'field': 345, 'chipsf': 0.9827584624290466, 'magap': 20.473100662231445, 'sigmagap': 0.46950000524520874, 'distnr': 0.3869401812553406, 'magnr': 19.0049991607666, 'sigmagnr': 0.017000000923871994, 'chinr': 0.36399999260902405, 'sharpnr': 0.017999999225139618, 'sky': -0.025422200560569763, 'magdiff': 0.24189400672912598, 'fwhm': 1.9299999475479126, 'classtar': 0.7400000095367432, 'mindtoedge': 1221.304443359375, 'magfromlim': -0.22620436549186707, 'seeratio': 1.3304522037506104, 'aimagerat': 0.41036269068717957, 'bimagerat': 0.3440414369106293, 'elong': 1.192771077156067, 'nneg': 4, 'nbad': 0, 'ssdistnr': -999.0, 'ssmagnr': -999.0, 'ssnamenr': 'null', 'sumrat': 1.0, 'magapbig': 19.90519905090332, 'sigmagapbig': 0.35659998655319214, 'ranr': 7.6032293, 'decnr': -7.332871, 'sgmag1': 19.22330093383789, 'srmag1': 18.836200714111328, 'simag1': 19.004199981689453, 'szmag1': 18.89940071105957, 'sgscore1': 1.0, 'distpsnr1': 0.468148797750473, 'ndethist': 2, 'ncovhist': 301, 'jdstarthist': 2459046.9391088, 'jdendhist': 2459049.9181597, 'scorr': 6.94040441513062, 'tooflag': 0, 'objectidps1': 99200076032550846, 'objectidps2': 99200076015234972, 'sgmag2': 21.50790023803711, 'srmag2': 20.27239990234375, 'simag2': 19.6914005279541, 'szmag2': 19.34670066833496, 'sgscore2': 0.0, 'distpsnr2': 13.17112922668457, 'objectidps3': 99200075971343431, 'sgmag3': 22.188600540161133, 'srmag3': 21.27429962158203, 'simag3': 21.24489974975586, 'szmag3': 20.58139991760254, 'sgscore3': 0.013124999590218067, 'distpsnr3': 23.097095489501953, 'nmtchps': 6, 'rfid': 345120250, 'jdstartref': 2458315.981389, 'jdendref': 2458353.960116, 'nframesref': 15, 'rbversion': 't17_f5_c3', 'dsnrms': 5.176135540008545, 'ssnrms': 8.209890365600586, 'dsdiff': -3.033754825592041, 'magzpsci': 26.253206253051758, 'magzpsciunc': 1.4813000234426e-05, 'magzpscirms': 0.04157999902963638, 'nmatches': 333, 'clrcoeff': 0.09970200061798096, 'clrcounc': 2.130390021193307e-05, 'zpclrcov': -1.641999915591441e-05, 'zpmed': 26.323999404907227, 'clrmed': 0.6970000267028809, 'clrrms': 0.31857699155807495, 'neargaia': 0.4424041211605072, 'neargaiabright': -999.0, 'maggaia': 19.172365188598633, 'maggaiabright': -999.0, 'exptime': 30.0, 'drb': 0.9999970197677612, 'drbversion': 'd6_m7'}),\n",
       " GenericAlert(survey_id='ZTF18acfoogn', survey_name='ZTF', candid=684231353015010000, mjd=58438.231354199816, fid=2, ra=357.9627363, dec=-18.0230306, rb=0.4633333384990692, mag=15.640789985656738, sigmag=0.08058588951826096, aimage=0.5289999842643738, bimage=0.4869999885559082, xpos=2485.38818359375, ypos=215.89930725097656, alerce_id=1235151050180122900, extra_fields={'pid': 684231353015, 'diffmaglim': 17.048751831054688, 'pdiffimfilename': 'ztf_20181116231343_000294_zr_c08_o_q3_scimrefdiffimg.fits', 'programpi': 'Kulkarni', 'programid': 1, 'isdiffpos': 'f', 'tblid': 0, 'nid': 684, 'rcid': 30, 'field': 294, 'chipsf': 11.427533149719238, 'magap': 15.938400268554688, 'sigmagap': 0.14970000088214874, 'distnr': 0.48875269293785095, 'magnr': 13.152999877929688, 'sigmagnr': 0.012000000104308128, 'chinr': 0.22100000083446503, 'sharpnr': 0.008999999612569809, 'sky': -25.818809509277344, 'magdiff': 0.29761001467704773, 'fwhm': 1.1840848922729492, 'classtar': 0.7020000219345093, 'mindtoedge': 215.89930725097656, 'magfromlim': 1.1103523969650269, 'seeratio': 2.0, 'aimagerat': 0.446758508682251, 'bimagerat': 0.4112880825996399, 'elong': 1.0862423181533813, 'nneg': 9, 'nbad': 0, 'ssdistnr': -999.0, 'ssmagnr': -999.0, 'ssnamenr': 'null', 'sumrat': 0.8251354098320007, 'magapbig': 15.923600196838379, 'sigmagapbig': 0.188400000333786, 'ranr': 357.9627235, 'decnr': -18.0231675, 'sgmag1': -999.0, 'srmag1': 15.12279987335205, 'simag1': -999.0, 'szmag1': -999.0, 'sgscore1': 0.5, 'distpsnr1': 0.45455360412597656, 'ndethist': 3, 'ncovhist': 136, 'jdstarthist': 2458431.7109606, 'jdendhist': 2458438.7313542, 'scorr': 5.8569188117981, 'tooflag': 0, 'objectidps1': 86373579628832760, 'objectidps2': 86373579626572525, 'sgmag2': 13.749500274658203, 'srmag2': 13.291000366210938, 'simag2': 13.092000007629395, 'szmag2': 12.998000144958496, 'sgscore2': 0.9785419702529907, 'distpsnr2': 0.6377118229866028, 'objectidps3': 86373579605492285, 'sgmag3': -999.0, 'srmag3': -999.0, 'simag3': 20.32040023803711, 'szmag3': 19.96470069885254, 'sgscore3': 0.024791700765490532, 'distpsnr3': 7.4146318435668945, 'nmtchps': 6, 'rfid': 294120230, 'jdstartref': 2458313.918056, 'jdendref': 2458366.848657, 'nframesref': 16, 'rbversion': 't8_f5_c3', 'dsnrms': 2.4232232570648193, 'ssnrms': 17.16836166381836, 'dsdiff': -14.745138168334961, 'magzpsci': 24.44278907775879, 'magzpsciunc': 0.0016065089730545878, 'magzpscirms': 0.13686999678611755, 'nmatches': 80, 'clrcoeff': 0.12524600327014923, 'clrcounc': 0.002810148987919092, 'zpclrcov': -0.001974690007045865, 'zpmed': 24.54650115966797, 'clrmed': 0.6200000047683716, 'clrrms': 0.27909499406814575, 'neargaia': 0.654644787311554, 'neargaiabright': 0.654644787311554, 'maggaia': 13.16399097442627, 'maggaiabright': 13.16399097442627, 'exptime': 30.0, 'drb': 0.0, 'drbversion': ''}),\n",
       " GenericAlert(survey_id='ZTF18acsxmgx', survey_name='ZTF', candid=702168661215010000, mjd=58456.1686689998, fid=2, ra=2.7608559, dec=2.5073105, rb=0.7666666507720947, mag=18.227344512939453, sigmag=0.09437599033117294, aimage=0.9490000009536743, bimage=0.9139999747276306, xpos=1972.251220703125, ypos=182.47129821777344, alerce_id=1001102601023026300, extra_fields={'pid': 702168661215, 'diffmaglim': 19.99464225769043, 'pdiffimfilename': 'ztf_20181204168657_000447_zr_c04_o_q1_scimrefdiffimg.fits', 'programpi': 'Kulkarni', 'programid': 1, 'isdiffpos': 'f', 'tblid': 0, 'nid': 702, 'rcid': 12, 'field': 447, 'chipsf': 1.9415500164031982, 'magap': 18.35260009765625, 'sigmagap': 0.07639999687671661, 'distnr': 0.11614822596311569, 'magnr': 15.531999588012695, 'sigmagnr': 0.01600000075995922, 'chinr': 0.24500000476837158, 'sharpnr': -0.06300000101327896, 'sky': -0.2817384898662567, 'magdiff': 0.12525500357151031, 'fwhm': 2.4600000381469727, 'classtar': 0.9929999709129333, 'mindtoedge': 182.47129821777344, 'magfromlim': 1.6420421600341797, 'seeratio': 1.3804529905319214, 'aimagerat': 0.38577234745025635, 'bimagerat': 0.3715447187423706, 'elong': 1.0382932424545288, 'nneg': 0, 'nbad': 0, 'ssdistnr': -999.0, 'ssmagnr': -999.0, 'ssnamenr': 'null', 'sumrat': 1.0, 'magapbig': 18.33489990234375, 'sigmagapbig': 0.09040000289678574, 'ranr': 2.7608641, 'decnr': 2.5073374, 'sgmag1': 16.378799438476562, 'srmag1': 15.550999641418457, 'simag1': 15.128299713134766, 'szmag1': 14.879300117492676, 'sgscore1': 0.9839580059051514, 'distpsnr1': 0.07720035314559937, 'ndethist': 1, 'ncovhist': 23, 'jdstarthist': 2458456.668669, 'jdendhist': 2458456.668669, 'scorr': 10.3848791122437, 'tooflag': 0, 'objectidps1': 111000027608479203, 'objectidps2': 111010027620043327, 'sgmag2': -999.0, 'srmag2': -999.0, 'simag2': 21.746000289916992, 'szmag2': 20.818199157714844, 'sgscore2': 0.0037499999161809683, 'distpsnr2': 12.971109390258789, 'objectidps3': -999, 'sgmag3': -999.0, 'srmag3': -999.0, 'simag3': -999.0, 'szmag3': -999.0, 'sgscore3': -999.0, 'distpsnr3': -999.0, 'nmtchps': 2, 'rfid': 447120212, 'jdstartref': 2458283.964039, 'jdendref': 2458447.817986, 'nframesref': 33, 'rbversion': 't8_f5_c3', 'dsnrms': 14.282421112060547, 'ssnrms': 36.84999084472656, 'dsdiff': -22.567569732666016, 'magzpsci': 26.195344924926758, 'magzpsciunc': 1.8297900169272907e-05, 'magzpscirms': 0.041721999645233154, 'nmatches': 229, 'clrcoeff': 0.10565999895334244, 'clrcounc': 3.0019400583114475e-05, 'zpclrcov': -2.1500000002561137e-05, 'zpmed': 26.260000228881836, 'clrmed': 0.6179999709129333, 'clrrms': 0.3106420040130615, 'neargaia': -999.0, 'neargaiabright': -999.0, 'maggaia': -999.0, 'maggaiabright': -999.0, 'exptime': 30.0, 'drb': 0.0, 'drbversion': ''}),\n",
       " GenericAlert(survey_id='ZTF18abspxyl', survey_name='ZTF', candid=610417101315010000, mjd=58364.417106499895, fid=1, ra=5.792094, dec=-5.0487848, rb=0.5866666436195374, mag=19.017724990844727, sigmag=0.1604580134153366, aimage=0.7250000238418579, bimage=0.5630000233650208, xpos=496.31610107421875, ypos=1344.978515625, alerce_id=1002310100050255600, extra_fields={'pid': 610417101315, 'diffmaglim': 20.15619659423828, 'pdiffimfilename': 'ztf_20180903417095_000397_zg_c04_o_q2_scimrefdiffimg.fits', 'programpi': 'Kulkarni', 'programid': 1, 'isdiffpos': 'f', 'tblid': 0, 'nid': 610, 'rcid': 13, 'field': 397, 'chipsf': 3.0099942684173584, 'magap': 19.061899185180664, 'sigmagap': 0.1477999985218048, 'distnr': 0.8700889945030212, 'magnr': 15.74899959564209, 'sigmagnr': 0.017000000923871994, 'chinr': 0.6159999966621399, 'sharpnr': -0.004000000189989805, 'sky': -0.24088260531425476, 'magdiff': 0.04417499899864197, 'fwhm': 1.413817048072815, 'classtar': 0.8379999995231628, 'mindtoedge': 496.31610107421875, 'magfromlim': 1.0942966938018799, 'seeratio': 2.0, 'aimagerat': 0.5127962231636047, 'bimagerat': 0.3982127606868744, 'elong': 1.2877442836761475, 'nneg': 9, 'nbad': 0, 'ssdistnr': -999.0, 'ssmagnr': -999.0, 'ssnamenr': 'null', 'sumrat': 0.8758747577667236, 'magapbig': 18.991500854492188, 'sigmagapbig': 0.1679999977350235, 'ranr': 5.7922933, 'decnr': -5.0489249, 'sgmag1': 15.681400299072266, 'srmag1': 15.212499618530273, 'simag1': 15.01200008392334, 'szmag1': 14.948599815368652, 'sgscore1': 0.9958329796791077, 'distpsnr1': 0.9848009943962097, 'ndethist': 2, 'ncovhist': 19, 'jdstarthist': 2458364.8639005, 'jdendhist': 2458364.9171065, 'scorr': 6.33266305923462, 'tooflag': 0, 'objectidps1': 101940057922951705, 'objectidps2': 101930057940926779, 'sgmag2': 21.719900131225586, 'srmag2': 21.80900001525879, 'simag2': 21.26919937133789, 'szmag2': 20.7721004486084, 'sgscore2': 0.0, 'distpsnr2': 17.153396606445312, 'objectidps3': 101930057941886440, 'sgmag3': -999.0, 'srmag3': 21.542200088500977, 'simag3': 21.277299880981445, 'szmag3': 20.685800552368164, 'sgscore3': 0.5, 'distpsnr3': 17.420412063598633, 'nmtchps': 4, 'rfid': 397120113, 'jdstartref': 2458286.943785, 'jdendref': 2458363.858322, 'nframesref': 15, 'rbversion': 't8_f5_c3', 'dsnrms': 6.972925662994385, 'ssnrms': 19.09187889099121, 'dsdiff': -12.118952751159668, 'magzpsci': 26.147724151611328, 'magzpsciunc': 1.6539999705855735e-05, 'magzpscirms': 0.033890001475811005, 'nmatches': 355, 'clrcoeff': -0.046918999403715134, 'clrcounc': 2.4201199266826734e-05, 'zpclrcov': -1.838000025600195e-05, 'zpmed': 26.115999221801758, 'clrmed': 0.7020000219345093, 'clrrms': 0.32621100544929504, 'neargaia': 34.1591796875, 'neargaiabright': -999.0, 'maggaia': 19.84368324279785, 'maggaiabright': -999.0, 'exptime': 0.0, 'drb': 0.0, 'drbversion': ''}),\n",
       " GenericAlert(survey_id='ZTF18achhbtj', survey_name='ZTF', candid=680147010215010000, mjd=58434.14701389987, fid=1, ra=4.1580527, dec=-5.7402874, rb=0.7400000095367432, mag=19.226058959960938, sigmag=0.17156805098056793, aimage=1.065000057220459, bimage=0.8410000205039978, xpos=1205.5882568359375, ypos=843.7504272460938, alerce_id=1001637930054425000, extra_fields={'pid': 680147010215, 'diffmaglim': 20.066686630249023, 'pdiffimfilename': 'ztf_20181112147014_000396_zg_c01_o_q3_scimrefdiffimg.fits', 'programpi': 'Kulkarni', 'programid': 1, 'isdiffpos': 'f', 'tblid': 0, 'nid': 680, 'rcid': 2, 'field': 396, 'chipsf': 1.3988953828811646, 'magap': 19.63450050354004, 'sigmagap': 0.20200000703334808, 'distnr': 0.45137596130371094, 'magnr': 16.61199951171875, 'sigmagnr': 0.039000000804662704, 'chinr': 3.2239999771118164, 'sharpnr': 0.1899999976158142, 'sky': 0.03803437948226929, 'magdiff': 0.4084410071372986, 'fwhm': 1.9409376382827759, 'classtar': 0.6890000104904175, 'mindtoedge': 843.7504272460938, 'magfromlim': 0.4321857690811157, 'seeratio': 2.0, 'aimagerat': 0.5487039089202881, 'bimagerat': 0.43329575657844543, 'elong': 1.2663495540618896, 'nneg': 3, 'nbad': 0, 'ssdistnr': -999.0, 'ssmagnr': -999.0, 'ssnamenr': 'null', 'sumrat': 0.9774134755134583, 'magapbig': 19.477100372314453, 'sigmagapbig': 0.21199999749660492, 'ranr': 4.1579533, 'decnr': -5.7402086, 'sgmag1': 16.787799835205078, 'srmag1': 16.356399536132812, 'simag1': 16.097000122070312, 'szmag1': 15.871299743652344, 'sgscore1': 0.23183299601078033, 'distpsnr1': 0.39633050560951233, 'ndethist': 1, 'ncovhist': 32, 'jdstarthist': 2458434.6470139, 'jdendhist': 2458434.6470139, 'scorr': 7.66170835494995, 'tooflag': 0, 'objectidps1': 101110041579782154, 'objectidps2': 101110041574482992, 'sgmag2': -999.0, 'srmag2': -999.0, 'simag2': 20.063899993896484, 'szmag2': 18.96739959716797, 'sgscore2': 0.5, 'distpsnr2': 3.9584786891937256, 'objectidps3': 101100041595766672, 'sgmag3': 21.18600082397461, 'srmag3': 19.87619972229004, 'simag3': 18.726600646972656, 'szmag3': 18.164199829101562, 'sgscore3': 0.9966670274734497, 'distpsnr3': 17.097702026367188, 'nmtchps': 3, 'rfid': 396120102, 'jdstartref': 2458280.94603, 'jdendref': 2458428.700914, 'nframesref': 15, 'rbversion': 't8_f5_c3', 'dsnrms': 7.506957054138184, 'ssnrms': 17.51445960998535, 'dsdiff': -10.007502555847168, 'magzpsci': 26.127059936523438, 'magzpsciunc': 3.7740199331892654e-05, 'magzpscirms': 0.042176999151706696, 'nmatches': 272, 'clrcoeff': -0.04701400175690651, 'clrcounc': 6.193220178829506e-05, 'zpclrcov': -4.448999970918521e-05, 'zpmed': 26.100000381469727, 'clrmed': 0.6119999885559082, 'clrrms': 0.30553901195526123, 'neargaia': 0.3945099413394928, 'neargaiabright': -999.0, 'maggaia': 16.624820709228516, 'maggaiabright': -999.0, 'exptime': 30.0, 'drb': 0.0, 'drbversion': ''})]"
      ]
     },
     "execution_count": 10,
     "metadata": {},
     "output_type": "execute_result"
    }
   ],
   "source": [
    "response"
   ]
  },
  {
   "cell_type": "code",
   "execution_count": null,
   "metadata": {},
   "outputs": [],
   "source": []
  }
 ],
 "metadata": {
  "kernelspec": {
   "display_name": "Python 3",
   "language": "python",
   "name": "python3"
  },
  "language_info": {
   "codemirror_mode": {
    "name": "ipython",
    "version": 3
   },
   "file_extension": ".py",
   "mimetype": "text/x-python",
   "name": "python",
   "nbconvert_exporter": "python",
   "pygments_lexer": "ipython3",
   "version": "3.8.3"
  }
 },
 "nbformat": 4,
 "nbformat_minor": 4
}
