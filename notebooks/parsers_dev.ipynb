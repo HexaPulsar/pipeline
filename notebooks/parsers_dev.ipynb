{
 "cells": [
  {
   "cell_type": "code",
   "execution_count": 1,
   "metadata": {
    "ExecuteTime": {
     "end_time": "2021-10-12T17:53:11.965300Z",
     "start_time": "2021-10-12T17:53:11.788475Z"
    }
   },
   "outputs": [],
   "source": [
    "from survey_parser_plugins import ALeRCEParser\n",
    "\n",
    "\n",
    "from fastavro import reader\n",
    "import numpy as np\n",
    "import os"
   ]
  },
  {
   "cell_type": "code",
   "execution_count": 2,
   "metadata": {
    "ExecuteTime": {
     "end_time": "2021-10-12T17:53:11.974716Z",
     "start_time": "2021-10-12T17:53:11.966434Z"
    }
   },
   "outputs": [],
   "source": [
    "def get_content(file_path):\n",
    "    with open(file_path, \"rb\") as f:\n",
    "        content = reader(f).next()\n",
    "    return content"
   ]
  },
  {
   "cell_type": "code",
   "execution_count": 3,
   "metadata": {
    "ExecuteTime": {
     "end_time": "2021-10-12T17:53:12.095499Z",
     "start_time": "2021-10-12T17:53:12.089829Z"
    }
   },
   "outputs": [],
   "source": [
    "SAMPLES_BY_SURVEY = 100"
   ]
  },
  {
   "cell_type": "code",
   "execution_count": 4,
   "metadata": {
    "ExecuteTime": {
     "end_time": "2021-10-12T17:53:12.229571Z",
     "start_time": "2021-10-12T17:53:12.225795Z"
    }
   },
   "outputs": [],
   "source": [
    "atlas_sample_path = \"data/ATLAS_samples/\"\n",
    "atlas_sample = [get_content(os.path.join(atlas_sample_path, f)) for f in os.listdir(atlas_sample_path)]\n",
    "atlas_sample = list(np.random.choice(atlas_sample, SAMPLES_BY_SURVEY))"
   ]
  },
  {
   "cell_type": "code",
   "execution_count": 5,
   "metadata": {
    "ExecuteTime": {
     "end_time": "2021-10-12T17:53:12.814724Z",
     "start_time": "2021-10-12T17:53:12.345109Z"
    }
   },
   "outputs": [],
   "source": [
    "ztf_sample_path = \"data/ZTF_samples/\"\n",
    "ztf_sample = [get_content(os.path.join(ztf_sample_path, f)) for f in os.listdir(ztf_sample_path)]\n",
    "ztf_sample = list(np.random.choice(ztf_sample, SAMPLES_BY_SURVEY))"
   ]
  },
  {
   "cell_type": "code",
   "execution_count": 6,
   "metadata": {
    "ExecuteTime": {
     "end_time": "2021-10-12T17:53:12.864654Z",
     "start_time": "2021-10-12T17:53:12.815485Z"
    }
   },
   "outputs": [],
   "source": [
    "parser = ALeRCEParser()"
   ]
  },
  {
   "cell_type": "code",
   "execution_count": 7,
   "metadata": {
    "ExecuteTime": {
     "end_time": "2021-10-12T17:53:12.952528Z",
     "start_time": "2021-10-12T17:53:12.865441Z"
    }
   },
   "outputs": [
    {
     "data": {
      "text/plain": [
       "{'ATLAS': <class 'survey_parser_plugins.parsers.ATLASParser.ATLASParser'>, 'ZTF': <class 'survey_parser_plugins.parsers.ZTFParser.ZTFParser'>}"
      ]
     },
     "execution_count": 7,
     "metadata": {},
     "output_type": "execute_result"
    }
   ],
   "source": [
    "parser"
   ]
  },
  {
   "cell_type": "code",
   "execution_count": 8,
   "metadata": {
    "ExecuteTime": {
     "end_time": "2021-10-12T17:53:13.031553Z",
     "start_time": "2021-10-12T17:53:12.953306Z"
    }
   },
   "outputs": [],
   "source": [
    "sample = atlas_sample + ztf_sample"
   ]
  },
  {
   "cell_type": "code",
   "execution_count": 9,
   "metadata": {
    "ExecuteTime": {
     "end_time": "2021-10-12T17:53:13.115033Z",
     "start_time": "2021-10-12T17:53:13.032488Z"
    }
   },
   "outputs": [],
   "source": [
    "response = parser.parse(sample)"
   ]
  }
 ],
 "metadata": {
  "kernelspec": {
   "display_name": "Python 3",
   "language": "python",
   "name": "python3"
  },
  "language_info": {
   "codemirror_mode": {
    "name": "ipython",
    "version": 3
   },
   "file_extension": ".py",
   "mimetype": "text/x-python",
   "name": "python",
   "nbconvert_exporter": "python",
   "pygments_lexer": "ipython3",
   "version": "3.8.3"
  }
 },
 "nbformat": 4,
 "nbformat_minor": 4
}
