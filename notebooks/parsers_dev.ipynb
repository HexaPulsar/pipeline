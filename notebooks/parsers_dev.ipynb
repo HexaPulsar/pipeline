{
 "cells": [
  {
   "cell_type": "code",
   "execution_count": 1,
   "metadata": {
    "ExecuteTime": {
     "end_time": "2021-10-13T15:43:30.639702Z",
     "start_time": "2021-10-13T15:43:29.230960Z"
    }
   },
   "outputs": [],
   "source": [
    "from survey_parser_plugins import ALeRCEParser\n",
    "from survey_parser_plugins.parsers import ATLASParser\n",
    "\n",
    "from fastavro import reader\n",
    "import numpy as np\n",
    "import os"
   ]
  },
  {
   "cell_type": "code",
   "execution_count": 2,
   "metadata": {
    "ExecuteTime": {
     "end_time": "2021-10-13T15:43:30.651168Z",
     "start_time": "2021-10-13T15:43:30.644566Z"
    }
   },
   "outputs": [],
   "source": [
    "def get_content(file_path):\n",
    "    with open(file_path, \"rb\") as f:\n",
    "        content = reader(f).next()\n",
    "    return content"
   ]
  },
  {
   "cell_type": "code",
   "execution_count": 5,
   "metadata": {
    "ExecuteTime": {
     "end_time": "2021-10-13T15:43:36.957323Z",
     "start_time": "2021-10-13T15:43:36.953532Z"
    }
   },
   "outputs": [],
   "source": [
    "SAMPLES_BY_SURVEY = 5"
   ]
  },
  {
   "cell_type": "code",
   "execution_count": 6,
   "metadata": {
    "ExecuteTime": {
     "end_time": "2021-10-13T15:43:37.273055Z",
     "start_time": "2021-10-13T15:43:37.269235Z"
    }
   },
   "outputs": [],
   "source": [
    "atlas_sample_path = \"data/ATLAS_samples/\"\n",
    "atlas_sample = [get_content(os.path.join(atlas_sample_path, f)) for f in os.listdir(atlas_sample_path)]\n",
    "atlas_sample = list(np.random.choice(atlas_sample, SAMPLES_BY_SURVEY))"
   ]
  },
  {
   "cell_type": "code",
   "execution_count": 7,
   "metadata": {
    "ExecuteTime": {
     "end_time": "2021-10-13T15:43:37.724863Z",
     "start_time": "2021-10-13T15:43:37.675427Z"
    }
   },
   "outputs": [],
   "source": [
    "ztf_sample_path = \"data/ZTF_samples/\"\n",
    "ztf_sample = [get_content(os.path.join(ztf_sample_path, f)) for f in os.listdir(ztf_sample_path)]\n",
    "ztf_sample = list(np.random.choice(ztf_sample, SAMPLES_BY_SURVEY))"
   ]
  },
  {
   "cell_type": "code",
   "execution_count": 10,
   "metadata": {
    "ExecuteTime": {
     "end_time": "2021-10-12T21:03:51.682723Z",
     "start_time": "2021-10-12T21:03:51.662606Z"
    }
   },
   "outputs": [],
   "source": [
    "decat_sample_path = \"data/DECAT_samples/\"\n",
    "decat_sample = [get_content(os.path.join(decat_sample_path, f)) for f in os.listdir(decat_sample_path)]\n",
    "decat_sample = list(np.random.choice(decat_sample, SAMPLES_BY_SURVEY))"
   ]
  },
  {
   "cell_type": "code",
   "execution_count": 8,
   "metadata": {
    "ExecuteTime": {
     "end_time": "2021-10-13T15:43:38.732442Z",
     "start_time": "2021-10-13T15:43:38.730915Z"
    }
   },
   "outputs": [],
   "source": [
    "parser = ALeRCEParser()"
   ]
  },
  {
   "cell_type": "code",
   "execution_count": 9,
   "metadata": {
    "ExecuteTime": {
     "end_time": "2021-10-13T15:43:41.391507Z",
     "start_time": "2021-10-13T15:43:41.386177Z"
    }
   },
   "outputs": [],
   "source": [
    "sample = atlas_sample + ztf_sample"
   ]
  },
  {
   "cell_type": "code",
   "execution_count": 14,
   "metadata": {
    "ExecuteTime": {
     "end_time": "2021-10-13T15:44:20.923095Z",
     "start_time": "2021-10-13T15:44:20.915341Z"
    }
   },
   "outputs": [],
   "source": [
    "response = parser.parse(ztf_sample)"
   ]
  },
  {
   "cell_type": "code",
   "execution_count": 15,
   "metadata": {
    "ExecuteTime": {
     "end_time": "2021-10-13T15:44:21.515570Z",
     "start_time": "2021-10-13T15:44:21.501562Z"
    }
   },
   "outputs": [
    {
     "data": {
      "text/plain": [
       "[{'survey_id': 'ZTF18abwhsum',\n",
       "  'candid': 978463981215010000,\n",
       "  'mjd': 58732.463981499895,\n",
       "  'fid': 2,\n",
       "  'ra': 2.8012592,\n",
       "  'dec': -12.2713433,\n",
       "  'rb': 0.47285714745521545,\n",
       "  'mag': 18.53635597229004,\n",
       "  'sigmag': 0.12155136466026306,\n",
       "  'aimage': 0.39500001072883606,\n",
       "  'bimage': 0.3700000047683716,\n",
       "  'extra_fields': None,\n",
       "  'alerce_id': 1001112300121616800},\n",
       " {'survey_id': 'ZTF20abrnqnv',\n",
       "  'candid': 1324408541315010000,\n",
       "  'mjd': 59078.40854169987,\n",
       "  'fid': 1,\n",
       "  'ra': 2.3151289,\n",
       "  'dec': 2.4991734,\n",
       "  'rb': 0.9428571462631226,\n",
       "  'mag': 20.411144256591797,\n",
       "  'sigmag': 0.19233156740665436,\n",
       "  'aimage': 0.7319999933242798,\n",
       "  'bimage': 0.6520000100135803,\n",
       "  'extra_fields': None,\n",
       "  'alerce_id': 1000915631022957000},\n",
       " {'survey_id': 'ZTF20absvber',\n",
       "  'candid': 1332396814215010000,\n",
       "  'mjd': 59086.39681709977,\n",
       "  'fid': 2,\n",
       "  'ra': 7.4782595,\n",
       "  'dec': -1.8243743,\n",
       "  'rb': 0.8785714507102966,\n",
       "  'mag': 20.618406295776367,\n",
       "  'sigmag': 0.19910502433776855,\n",
       "  'aimage': 0.7170000076293945,\n",
       "  'bimage': 0.6169999837875366,\n",
       "  'extra_fields': None,\n",
       "  'alerce_id': 1002954780014927700},\n",
       " {'survey_id': 'ZTF18acftvnb',\n",
       "  'candid': 1121100302215010000,\n",
       "  'mjd': 58875.10030090017,\n",
       "  'fid': 2,\n",
       "  'ra': 13.0378225,\n",
       "  'dec': -10.8471031,\n",
       "  'rb': 0.8785714507102966,\n",
       "  'mag': 17.238698959350586,\n",
       "  'sigmag': 0.05719937011599541,\n",
       "  'aimage': 0.7739999890327454,\n",
       "  'bimage': 0.7639999985694885,\n",
       "  'extra_fields': None,\n",
       "  'alerce_id': 1005209070105049500},\n",
       " {'survey_id': 'ZTF18achhbtj',\n",
       "  'candid': 683235910215010000,\n",
       "  'mjd': 58437.23591439985,\n",
       "  'fid': 1,\n",
       "  'ra': 4.1580048,\n",
       "  'dec': -5.7402712,\n",
       "  'rb': 0.7900000214576721,\n",
       "  'mag': 19.227977752685547,\n",
       "  'sigmag': 0.13728243112564087,\n",
       "  'aimage': 0.9850000143051147,\n",
       "  'bimage': 0.9409999847412109,\n",
       "  'extra_fields': None,\n",
       "  'alerce_id': 1001637920054424900}]"
      ]
     },
     "execution_count": 15,
     "metadata": {},
     "output_type": "execute_result"
    }
   ],
   "source": [
    "response"
   ]
  },
  {
   "cell_type": "code",
   "execution_count": null,
   "metadata": {},
   "outputs": [],
   "source": []
  }
 ],
 "metadata": {
  "kernelspec": {
   "display_name": "Python 3",
   "language": "python",
   "name": "python3"
  },
  "language_info": {
   "codemirror_mode": {
    "name": "ipython",
    "version": 3
   },
   "file_extension": ".py",
   "mimetype": "text/x-python",
   "name": "python",
   "nbconvert_exporter": "python",
   "pygments_lexer": "ipython3",
   "version": "3.8.3"
  }
 },
 "nbformat": 4,
 "nbformat_minor": 4
}
