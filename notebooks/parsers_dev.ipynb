{
 "cells": [
  {
   "cell_type": "code",
   "execution_count": 1,
   "metadata": {
    "ExecuteTime": {
     "end_time": "2021-10-13T17:34:35.946771Z",
     "start_time": "2021-10-13T17:34:35.884039Z"
    }
   },
   "outputs": [],
   "source": [
    "from survey_parser_plugins import ALeRCEParser\n",
    "from survey_parser_plugins.parsers import ATLASParser\n",
    "\n",
    "from fastavro import reader\n",
    "import numpy as np\n",
    "import os"
   ]
  },
  {
   "cell_type": "code",
   "execution_count": 2,
   "metadata": {
    "ExecuteTime": {
     "end_time": "2021-10-13T17:34:36.064109Z",
     "start_time": "2021-10-13T17:34:35.948082Z"
    }
   },
   "outputs": [],
   "source": [
    "def get_content(file_path):\n",
    "    with open(file_path, \"rb\") as f:\n",
    "        content = reader(f).next()\n",
    "    return content"
   ]
  },
  {
   "cell_type": "code",
   "execution_count": 3,
   "metadata": {
    "ExecuteTime": {
     "end_time": "2021-10-13T17:34:36.196874Z",
     "start_time": "2021-10-13T17:34:36.064983Z"
    }
   },
   "outputs": [],
   "source": [
    "SAMPLES_BY_SURVEY = 5"
   ]
  },
  {
   "cell_type": "code",
   "execution_count": 4,
   "metadata": {
    "ExecuteTime": {
     "end_time": "2021-10-13T17:34:36.297090Z",
     "start_time": "2021-10-13T17:34:36.197675Z"
    }
   },
   "outputs": [],
   "source": [
    "atlas_sample_path = \"data/ATLAS_samples/\"\n",
    "atlas_sample = [get_content(os.path.join(atlas_sample_path, f)) for f in os.listdir(atlas_sample_path)]\n",
    "atlas_sample = list(np.random.choice(atlas_sample, SAMPLES_BY_SURVEY))"
   ]
  },
  {
   "cell_type": "code",
   "execution_count": 5,
   "metadata": {
    "ExecuteTime": {
     "end_time": "2021-10-13T17:34:36.442516Z",
     "start_time": "2021-10-13T17:34:36.297852Z"
    }
   },
   "outputs": [],
   "source": [
    "ztf_sample_path = \"data/ZTF_samples/\"\n",
    "ztf_sample = [get_content(os.path.join(ztf_sample_path, f)) for f in os.listdir(ztf_sample_path)]\n",
    "ztf_sample = list(np.random.choice(ztf_sample, SAMPLES_BY_SURVEY))"
   ]
  },
  {
   "cell_type": "code",
   "execution_count": 6,
   "metadata": {
    "ExecuteTime": {
     "end_time": "2021-10-13T17:34:36.504674Z",
     "start_time": "2021-10-13T17:34:36.443343Z"
    }
   },
   "outputs": [],
   "source": [
    "decat_sample_path = \"data/DECAT_samples/\"\n",
    "decat_sample = [get_content(os.path.join(decat_sample_path, f)) for f in os.listdir(decat_sample_path)]\n",
    "decat_sample = list(np.random.choice(decat_sample, SAMPLES_BY_SURVEY))"
   ]
  },
  {
   "cell_type": "code",
   "execution_count": 7,
   "metadata": {
    "ExecuteTime": {
     "end_time": "2021-10-13T17:34:36.610807Z",
     "start_time": "2021-10-13T17:34:36.505385Z"
    }
   },
   "outputs": [],
   "source": [
    "parser = ALeRCEParser()"
   ]
  },
  {
   "cell_type": "code",
   "execution_count": 8,
   "metadata": {
    "ExecuteTime": {
     "end_time": "2021-10-13T17:34:36.712485Z",
     "start_time": "2021-10-13T17:34:36.614265Z"
    }
   },
   "outputs": [],
   "source": [
    "sample = atlas_sample + ztf_sample"
   ]
  },
  {
   "cell_type": "code",
   "execution_count": 9,
   "metadata": {
    "ExecuteTime": {
     "end_time": "2021-10-13T17:34:36.824877Z",
     "start_time": "2021-10-13T17:34:36.713225Z"
    }
   },
   "outputs": [],
   "source": [
    "response = parser.parse(sample)"
   ]
  },
  {
   "cell_type": "code",
   "execution_count": 10,
   "metadata": {
    "ExecuteTime": {
     "end_time": "2021-10-13T17:34:36.929791Z",
     "start_time": "2021-10-13T17:34:36.830676Z"
    }
   },
   "outputs": [
    {
     "data": {
      "text/plain": [
       "[GenericAlert(survey_id='', candid=0, mjd=0, fid=0, ra=0, dec=0, rb=0, mag=0, sigmag=0, alerce_id=1000000001000000000),\n",
       " GenericAlert(survey_id='', candid=0, mjd=0, fid=0, ra=0, dec=0, rb=0, mag=0, sigmag=0, alerce_id=1000000001000000000),\n",
       " GenericAlert(survey_id='', candid=0, mjd=0, fid=0, ra=0, dec=0, rb=0, mag=0, sigmag=0, alerce_id=1000000001000000000),\n",
       " GenericAlert(survey_id='', candid=0, mjd=0, fid=0, ra=0, dec=0, rb=0, mag=0, sigmag=0, alerce_id=1000000001000000000),\n",
       " GenericAlert(survey_id='', candid=0, mjd=0, fid=0, ra=0, dec=0, rb=0, mag=0, sigmag=0, alerce_id=1000000001000000000),\n",
       " GenericAlert(survey_id='ZTF18accqcvg', candid=672206884215010000, mjd=58426.20688659977, fid=1, ra=352.9457013, dec=-1.9878234, rb=0.6266666650772095, mag=19.1763916015625, sigmag=0.2154567688703537, alerce_id=1233146960015916100),\n",
       " GenericAlert(survey_id='ZTF18abufepq', candid=622328661015010000, mjd=58376.32866899995, fid=1, ra=7.7476828, dec=-5.8918967, rb=0.79666668176651, mag=20.06674575805664, sigmag=0.16664694249629974, alerce_id=1003059440055330800),\n",
       " GenericAlert(survey_id='ZTF18abrylrh', candid=634290865215010000, mjd=58388.29086809978, fid=2, ra=6.9097417, dec=-6.4453502, rb=0.41999998688697815, mag=16.745481491088867, sigmag=0.11850368231534958, alerce_id=1002738330062643200),\n",
       " GenericAlert(survey_id='ZTF18abxpdhq', candid=626337325215010000, mjd=58380.33732639998, fid=1, ra=348.5344311, dec=-13.3595436, rb=0.4399999976158142, mag=16.34098243713379, sigmag=0.02289043366909027, alerce_id=1231408260132134300),\n",
       " GenericAlert(survey_id='ZTF18abspxyl', candid=610417101315010000, mjd=58364.417106499895, fid=1, ra=5.792094, dec=-5.0487848, rb=0.5866666436195374, mag=19.017724990844727, sigmag=0.1604580134153366, alerce_id=1002310100050255600)]"
      ]
     },
     "execution_count": 10,
     "metadata": {},
     "output_type": "execute_result"
    }
   ],
   "source": [
    "response"
   ]
  },
  {
   "cell_type": "code",
   "execution_count": null,
   "metadata": {},
   "outputs": [],
   "source": []
  }
 ],
 "metadata": {
  "kernelspec": {
   "display_name": "Python 3",
   "language": "python",
   "name": "python3"
  },
  "language_info": {
   "codemirror_mode": {
    "name": "ipython",
    "version": 3
   },
   "file_extension": ".py",
   "mimetype": "text/x-python",
   "name": "python",
   "nbconvert_exporter": "python",
   "pygments_lexer": "ipython3",
   "version": "3.8.3"
  }
 },
 "nbformat": 4,
 "nbformat_minor": 4
}
