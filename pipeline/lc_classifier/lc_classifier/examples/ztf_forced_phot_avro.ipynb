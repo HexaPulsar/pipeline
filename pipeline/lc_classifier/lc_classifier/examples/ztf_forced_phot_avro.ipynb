{
 "cells": [
  {
   "cell_type": "code",
   "execution_count": 13,
   "id": "bf0ee4a4",
   "metadata": {},
   "outputs": [],
   "source": [
    "import fastavro\n",
    "import numpy as np\n",
    "import pandas as pd\n",
    "import matplotlib.pyplot as plt\n",
    "from avro.datafile import DataFileReader, DataFileWriter\n",
    "from avro.io import DatumReader, DatumWriter"
   ]
  },
  {
   "cell_type": "code",
   "execution_count": 14,
   "id": "bb0d4c84",
   "metadata": {},
   "outputs": [
    {
     "name": "stdout",
     "output_type": "stream",
     "text": [
      "dict_keys(['schemavsn', 'publisher', 'objectId', 'candid', 'candidate', 'prv_candidates', 'fp_hists', 'cutoutScience', 'cutoutTemplate', 'cutoutDifference'])\n"
     ]
    }
   ],
   "source": [
    "with open('2454460970015010006.avro','rb') as f:\n",
    "    freader = DataFileReader(f,DatumReader())\n",
    "    for packet in freader:\n",
    "        print(packet.keys())"
   ]
  },
  {
   "cell_type": "code",
   "execution_count": 17,
   "id": "70d937a2",
   "metadata": {},
   "outputs": [
    {
     "data": {
      "text/plain": [
       "{'jd': 2460208.9609722,\n",
       " 'fid': 1,\n",
       " 'pid': 2454460970015,\n",
       " 'diffmaglim': 20.1590518951416,\n",
       " 'pdiffimfilename': 'ztf_20230921460972_000252_zg_c01_o_q1_scimrefdiffimg.fits',\n",
       " 'programpi': 'Kulkarni',\n",
       " 'programid': 1,\n",
       " 'candid': 2454460970015010006,\n",
       " 'isdiffpos': 'f',\n",
       " 'tblid': 6,\n",
       " 'nid': 2454,\n",
       " 'rcid': 0,\n",
       " 'field': 252,\n",
       " 'xpos': 3005.373291015625,\n",
       " 'ypos': 982.6834716796875,\n",
       " 'ra': 56.0854775,\n",
       " 'dec': -26.4649396,\n",
       " 'magpsf': 17.91944122314453,\n",
       " 'sigmapsf': 0.08366931229829788,\n",
       " 'chipsf': 2.8467047214508057,\n",
       " 'magap': 17.952699661254883,\n",
       " 'sigmagap': 0.052400000393390656,\n",
       " 'distnr': 0.1915021538734436,\n",
       " 'magnr': 15.618000030517578,\n",
       " 'sigmagnr': 0.008999999612569809,\n",
       " 'chinr': 0.4169999957084656,\n",
       " 'sharpnr': -0.010999999940395355,\n",
       " 'sky': -0.47086718678474426,\n",
       " 'magdiff': 0.033257998526096344,\n",
       " 'fwhm': 1.5203615427017212,\n",
       " 'classtar': 0.984000027179718,\n",
       " 'mindtoedge': 67.12680053710938,\n",
       " 'magfromlim': 2.2063512802124023,\n",
       " 'seeratio': 2.0,\n",
       " 'aimage': 0.8700000047683716,\n",
       " 'bimage': 0.8299999833106995,\n",
       " 'aimagerat': 0.5722323060035706,\n",
       " 'bimagerat': 0.5459227561950684,\n",
       " 'elong': 1.0481927394866943,\n",
       " 'nneg': 0,\n",
       " 'nbad': 0,\n",
       " 'rb': 0.8057143092155457,\n",
       " 'ssdistnr': -999.0,\n",
       " 'ssmagnr': -999.0,\n",
       " 'ssnamenr': 'null',\n",
       " 'sumrat': 1.0,\n",
       " 'magapbig': 17.8927001953125,\n",
       " 'sigmagapbig': 0.05909999832510948,\n",
       " 'ranr': 56.0855369,\n",
       " 'decnr': -26.4649599,\n",
       " 'sgmag1': 15.656700134277344,\n",
       " 'srmag1': 15.258999824523926,\n",
       " 'simag1': 15.109700202941895,\n",
       " 'szmag1': 15.097999572753906,\n",
       " 'sgscore1': 0.9954169988632202,\n",
       " 'distpsnr1': 0.23125050961971283,\n",
       " 'ndethist': 17,\n",
       " 'ncovhist': 565,\n",
       " 'jdstarthist': 2459129.8966435,\n",
       " 'jdendhist': 2460208.9609722,\n",
       " 'scorr': 7.54109334945679,\n",
       " 'tooflag': 0,\n",
       " 'objectidps1': 76240560855312329,\n",
       " 'objectidps2': 76250560862570173,\n",
       " 'sgmag2': -999.0,\n",
       " 'srmag2': -999.0,\n",
       " 'simag2': 20.94529914855957,\n",
       " 'szmag2': 20.755699157714844,\n",
       " 'sgscore2': 0.042833298444747925,\n",
       " 'distpsnr2': 23.6535587310791,\n",
       " 'objectidps3': -999,\n",
       " 'sgmag3': -999.0,\n",
       " 'srmag3': -999.0,\n",
       " 'simag3': -999.0,\n",
       " 'szmag3': -999.0,\n",
       " 'sgscore3': -999.0,\n",
       " 'distpsnr3': -999.0,\n",
       " 'nmtchps': 2,\n",
       " 'rfid': 252120100,\n",
       " 'jdstartref': 2458364.001643,\n",
       " 'jdendref': 2458434.888519,\n",
       " 'nframesref': 17,\n",
       " 'rbversion': 't17_f5_c3',\n",
       " 'dsnrms': 25.988447189331055,\n",
       " 'ssnrms': 61.69428634643555,\n",
       " 'dsdiff': -35.705841064453125,\n",
       " 'magzpsci': 26.051441192626953,\n",
       " 'magzpsciunc': 1.9853299818350933e-05,\n",
       " 'magzpscirms': 0.03510800004005432,\n",
       " 'nmatches': 364,\n",
       " 'clrcoeff': -0.03830999881029129,\n",
       " 'clrcounc': 3.0464800147456117e-05,\n",
       " 'zpclrcov': -2.266999945277348e-05,\n",
       " 'zpmed': 26.027999877929688,\n",
       " 'clrmed': 0.6880000233650208,\n",
       " 'clrrms': 0.3133060038089752,\n",
       " 'neargaia': 0.2320098727941513,\n",
       " 'neargaiabright': -999.0,\n",
       " 'maggaia': 15.194317817687988,\n",
       " 'maggaiabright': -999.0,\n",
       " 'exptime': 30.0,\n",
       " 'drb': 0.9999889731407166,\n",
       " 'drbversion': 'd6_m7'}"
      ]
     },
     "execution_count": 17,
     "metadata": {},
     "output_type": "execute_result"
    }
   ],
   "source": [
    "packet['candidate']"
   ]
  },
  {
   "cell_type": "code",
   "execution_count": 19,
   "id": "a1f52e85",
   "metadata": {
    "scrolled": false
   },
   "outputs": [
    {
     "data": {
      "text/plain": [
       "{'field': 252,\n",
       " 'rcid': 0,\n",
       " 'fid': 1,\n",
       " 'pid': 2452482510015,\n",
       " 'rfid': 252120100,\n",
       " 'sciinpseeing': 2.2488999366760254,\n",
       " 'scibckgnd': 178.61199951171875,\n",
       " 'scisigpix': 6.006569862365723,\n",
       " 'magzpsci': 26.113100051879883,\n",
       " 'magzpsciunc': 1.917910049087368e-05,\n",
       " 'magzpscirms': 0.03297330066561699,\n",
       " 'clrcoeff': -0.04152330011129379,\n",
       " 'clrcounc': 2.883180059143342e-05,\n",
       " 'exptime': 30.0,\n",
       " 'adpctdif1': 0.08179400116205215,\n",
       " 'adpctdif2': 0.09364999830722809,\n",
       " 'diffmaglim': 20.269699096679688,\n",
       " 'programid': 1,\n",
       " 'jd': 2460206.9825116,\n",
       " 'forcediffimflux': -1170.7025146484375,\n",
       " 'forcediffimfluxunc': 27.93429946899414,\n",
       " 'procstatus': '0',\n",
       " 'distnr': 0.20490621030330658,\n",
       " 'ranr': 56.0855369,\n",
       " 'decnr': -26.4649599,\n",
       " 'magnr': 15.618000030517578,\n",
       " 'sigmagnr': 0.008999999612569809,\n",
       " 'chinr': 0.4169999957084656,\n",
       " 'sharpnr': -0.010999999940395355}"
      ]
     },
     "execution_count": 19,
     "metadata": {},
     "output_type": "execute_result"
    }
   ],
   "source": [
    "packet['fp_hists'][0]"
   ]
  },
  {
   "cell_type": "code",
   "execution_count": null,
   "id": "ee3007a3",
   "metadata": {},
   "outputs": [],
   "source": []
  }
 ],
 "metadata": {
  "kernelspec": {
   "display_name": "Python 3 (ipykernel)",
   "language": "python",
   "name": "python3"
  },
  "language_info": {
   "codemirror_mode": {
    "name": "ipython",
    "version": 3
   },
   "file_extension": ".py",
   "mimetype": "text/x-python",
   "name": "python",
   "nbconvert_exporter": "python",
   "pygments_lexer": "ipython3",
   "version": "3.8.18"
  }
 },
 "nbformat": 4,
 "nbformat_minor": 5
}
